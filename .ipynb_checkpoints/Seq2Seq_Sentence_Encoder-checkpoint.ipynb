{
 "cells": [
  {
   "cell_type": "code",
   "execution_count": 327,
   "metadata": {},
   "outputs": [],
   "source": [
    "# # Optional: you can set what GPU you want to use in a notebook like this.  \n",
    "# # Useful if you want to run concurrent experiments at the same time on different GPUs.\n",
    "#import os\n",
    "#os.environ[\"CUDA_DEVICE_ORDER\"]=\"PCI_BUS_ID\"\n",
    "#os.environ[\"CUDA_VISIBLE_DEVICES\"]=\"3\""
   ]
  },
  {
   "cell_type": "code",
   "execution_count": 1,
   "metadata": {},
   "outputs": [],
   "source": [
    "use_cache = False"
   ]
  },
  {
   "cell_type": "code",
   "execution_count": 2,
   "metadata": {},
   "outputs": [],
   "source": [
    "import pandas as pd\n",
    "#df = pd.read_csv(\"../data_from_cristian_19-3-19/processed_data/from_cristian_duplicate.csv\")\n",
    "df = pd.read_csv(\"../data_from_cristian_19-3-19/processed_data/frame_lang_detection_19319.csv\")\n"
   ]
  },
  {
   "cell_type": "code",
   "execution_count": 3,
   "metadata": {},
   "outputs": [
    {
     "data": {
      "text/plain": [
       "Index(['Case_Id', 'CaseNumber', 'AccountID', 'Case Created Date',\n",
       "       'webproductname', 'Status', 'Solution', 'Subject', 'Case_Serial',\n",
       "       'Description', 'full_text', 'lang', 'clean_data', 'length_clean_data',\n",
       "       'length_original_data'],\n",
       "      dtype='object')"
      ]
     },
     "execution_count": 3,
     "metadata": {},
     "output_type": "execute_result"
    }
   ],
   "source": [
    "df.columns\n"
   ]
  },
  {
   "cell_type": "code",
   "execution_count": null,
   "metadata": {},
   "outputs": [],
   "source": []
  },
  {
   "cell_type": "code",
   "execution_count": 4,
   "metadata": {},
   "outputs": [],
   "source": [
    "#df=df.head(3000)"
   ]
  },
  {
   "cell_type": "code",
   "execution_count": 5,
   "metadata": {},
   "outputs": [],
   "source": [
    "d = df.clean_data"
   ]
  },
  {
   "cell_type": "code",
   "execution_count": 6,
   "metadata": {},
   "outputs": [],
   "source": [
    "import re\n",
    "def preprocess(x):\n",
    "    a = x.replace(\"\\n\",\"\")\n",
    "    a = re.sub(pattern=r'[\\!\"#$%&\\*+,-./:;<=>?@^_`()|~=]', \n",
    "                        repl='', \n",
    "                        string=a)\n",
    "    stopwords = {'umz','ltx','numberml','numbermr','numberlzn','numberlze','numbersy','numbersc','numberlznoata','h','numberlz','lz'}\n",
    "\n",
    "    a = a.split()\n",
    "    a = [word for word in a if word.lower() not in stopwords]\n",
    "    a = ' '.join(a)\n",
    "    return a.strip()\n",
    "    "
   ]
  },
  {
   "cell_type": "code",
   "execution_count": 7,
   "metadata": {},
   "outputs": [],
   "source": [
    "df.isna().sum()\n",
    "\n",
    "df.dropna(subset=[\"clean_data\"], inplace=True)"
   ]
  },
  {
   "cell_type": "code",
   "execution_count": 8,
   "metadata": {},
   "outputs": [
    {
     "data": {
      "text/plain": [
       "Case_Id                     0\n",
       "CaseNumber                  0\n",
       "AccountID                   0\n",
       "Case Created Date           0\n",
       "webproductname           3512\n",
       "Status                      0\n",
       "Solution                38765\n",
       "Subject                    26\n",
       "Case_Serial             46187\n",
       "Description                 0\n",
       "full_text                   0\n",
       "lang                        0\n",
       "clean_data                  0\n",
       "length_clean_data           0\n",
       "length_original_data        0\n",
       "dtype: int64"
      ]
     },
     "execution_count": 8,
     "metadata": {},
     "output_type": "execute_result"
    }
   ],
   "source": [
    "df.isna().sum()"
   ]
  },
  {
   "cell_type": "code",
   "execution_count": 9,
   "metadata": {},
   "outputs": [],
   "source": [
    "df[\"clean_data\"] = df.clean_data.apply(lambda x: preprocess(x) )"
   ]
  },
  {
   "cell_type": "code",
   "execution_count": 10,
   "metadata": {},
   "outputs": [],
   "source": [
    "df = df[df[\"clean_data\"].apply(lambda x : len(x))>5]"
   ]
  },
  {
   "cell_type": "code",
   "execution_count": 11,
   "metadata": {
    "scrolled": true
   },
   "outputs": [
    {
     "data": {
      "text/plain": [
       "Case_Id                     0\n",
       "CaseNumber                  0\n",
       "AccountID                   0\n",
       "Case Created Date           0\n",
       "webproductname           3498\n",
       "Status                      0\n",
       "Solution                38611\n",
       "Subject                    26\n",
       "Case_Serial             46006\n",
       "Description                 0\n",
       "full_text                   0\n",
       "lang                        0\n",
       "clean_data                  0\n",
       "length_clean_data           0\n",
       "length_original_data        0\n",
       "dtype: int64"
      ]
     },
     "execution_count": 11,
     "metadata": {},
     "output_type": "execute_result"
    }
   ],
   "source": [
    "df.isna().sum()"
   ]
  },
  {
   "cell_type": "code",
   "execution_count": 12,
   "metadata": {},
   "outputs": [],
   "source": [
    "d = df.clean_data"
   ]
  },
  {
   "cell_type": "markdown",
   "metadata": {},
   "source": [
    "# Making the input and output as same for Autoencoder\n",
    "# d is the customer case data\n",
    "# Making it as input, train, test, valid document\n"
   ]
  },
  {
   "cell_type": "code",
   "execution_count": 24,
   "metadata": {},
   "outputs": [],
   "source": [
    "d.to_csv(\"../data_from_cristian_19-3-19/processed_data/data_inp_sound.txt\",index=False)\n",
    "\n",
    "d.to_csv(\"../data_from_cristian_19-3-19/processed_data/train.docstring\",index=False)\n",
    "\n",
    "d.to_csv(\"../data_from_cristian_19-3-19/processed_data/test.docstring\",index=False)\n",
    "\n",
    "d.to_csv(\"../data_from_cristian_19-3-19/processed_data/valid.docstring\",index=False)\n"
   ]
  },
  {
   "cell_type": "code",
   "execution_count": 22,
   "metadata": {},
   "outputs": [],
   "source": [
    "## Download pre-processed data if you want to run from tutorial from this step.##\n",
    "from general_utils import get_step2_prerequisite_files\n",
    "\n",
    "if use_cache:\n",
    "    get_step2_prerequisite_files(output_directory = '../data_from_cristian_19-3-19/processed_data')"
   ]
  },
  {
   "cell_type": "code",
   "execution_count": 26,
   "metadata": {
    "scrolled": true
   },
   "outputs": [
    {
     "name": "stdout",
     "output_type": "stream",
     "text": [
      "Collecting tensorflow\n",
      "  Using cached https://files.pythonhosted.org/packages/77/63/a9fa76de8dffe7455304c4ed635be4aa9c0bacef6e0633d87d5f54530c5c/tensorflow-1.13.1-cp36-cp36m-manylinux1_x86_64.whl\n",
      "Collecting absl-py>=0.1.6 (from tensorflow)\n",
      "Collecting gast>=0.2.0 (from tensorflow)\n",
      "Collecting wheel>=0.26 (from tensorflow)\n",
      "  Using cached https://files.pythonhosted.org/packages/96/ba/a4702cbb6a3a485239fbe9525443446203f00771af9ac000fa3ef2788201/wheel-0.33.1-py2.py3-none-any.whl\n",
      "Collecting numpy>=1.13.3 (from tensorflow)\n",
      "  Using cached https://files.pythonhosted.org/packages/35/d5/4f8410ac303e690144f0a0603c4b8fd3b986feb2749c435f7cdbb288f17e/numpy-1.16.2-cp36-cp36m-manylinux1_x86_64.whl\n",
      "Collecting keras-preprocessing>=1.0.5 (from tensorflow)\n",
      "  Using cached https://files.pythonhosted.org/packages/c0/bf/0315ef6a9fd3fc2346e85b0ff1f5f83ca17073f2c31ac719ab2e4da0d4a3/Keras_Preprocessing-1.0.9-py2.py3-none-any.whl\n",
      "Collecting six>=1.10.0 (from tensorflow)\n",
      "  Using cached https://files.pythonhosted.org/packages/73/fb/00a976f728d0d1fecfe898238ce23f502a721c0ac0ecfedb80e0d88c64e9/six-1.12.0-py2.py3-none-any.whl\n",
      "Collecting keras-applications>=1.0.6 (from tensorflow)\n",
      "  Using cached https://files.pythonhosted.org/packages/90/85/64c82949765cfb246bbdaf5aca2d55f400f792655927a017710a78445def/Keras_Applications-1.0.7-py2.py3-none-any.whl\n",
      "Collecting tensorflow-estimator<1.14.0rc0,>=1.13.0 (from tensorflow)\n",
      "  Using cached https://files.pythonhosted.org/packages/bb/48/13f49fc3fa0fdf916aa1419013bb8f2ad09674c275b4046d5ee669a46873/tensorflow_estimator-1.13.0-py2.py3-none-any.whl\n",
      "Collecting grpcio>=1.8.6 (from tensorflow)\n",
      "  Using cached https://files.pythonhosted.org/packages/f4/dc/5503d89e530988eb7a1aed337dcb456ef8150f7c06132233bd9e41ec0215/grpcio-1.19.0-cp36-cp36m-manylinux1_x86_64.whl\n",
      "Collecting tensorboard<1.14.0,>=1.13.0 (from tensorflow)\n",
      "  Using cached https://files.pythonhosted.org/packages/0f/39/bdd75b08a6fba41f098b6cb091b9e8c7a80e1b4d679a581a0ccd17b10373/tensorboard-1.13.1-py3-none-any.whl\n",
      "Collecting astor>=0.6.0 (from tensorflow)\n",
      "  Using cached https://files.pythonhosted.org/packages/35/6b/11530768cac581a12952a2aad00e1526b89d242d0b9f59534ef6e6a1752f/astor-0.7.1-py2.py3-none-any.whl\n",
      "Collecting protobuf>=3.6.1 (from tensorflow)\n",
      "  Using cached https://files.pythonhosted.org/packages/c5/60/ca38e967360212ddbb004141a70f5f6d47296e1fba37964d8ac6cb631921/protobuf-3.7.0-cp36-cp36m-manylinux1_x86_64.whl\n",
      "Requirement already up-to-date: termcolor>=1.1.0 in /opt/conda/lib/python3.6/site-packages (from tensorflow)\n",
      "Collecting h5py (from keras-applications>=1.0.6->tensorflow)\n",
      "  Using cached https://files.pythonhosted.org/packages/30/99/d7d4fbf2d02bb30fb76179911a250074b55b852d34e98dd452a9f394ac06/h5py-2.9.0-cp36-cp36m-manylinux1_x86_64.whl\n",
      "Collecting mock>=2.0.0 (from tensorflow-estimator<1.14.0rc0,>=1.13.0->tensorflow)\n",
      "  Using cached https://files.pythonhosted.org/packages/e6/35/f187bdf23be87092bd0f1200d43d23076cee4d0dec109f195173fd3ebc79/mock-2.0.0-py2.py3-none-any.whl\n",
      "Collecting markdown>=2.6.8 (from tensorboard<1.14.0,>=1.13.0->tensorflow)\n",
      "  Using cached https://files.pythonhosted.org/packages/7a/6b/5600647404ba15545ec37d2f7f58844d690baf2f81f3a60b862e48f29287/Markdown-3.0.1-py2.py3-none-any.whl\n",
      "Requirement already up-to-date: werkzeug>=0.11.15 in /opt/conda/lib/python3.6/site-packages (from tensorboard<1.14.0,>=1.13.0->tensorflow)\n",
      "Collecting setuptools (from protobuf>=3.6.1->tensorflow)\n",
      "  Using cached https://files.pythonhosted.org/packages/d1/6a/4b2fcefd2ea0868810e92d519dacac1ddc64a2e53ba9e3422c3b62b378a6/setuptools-40.8.0-py2.py3-none-any.whl\n",
      "Collecting pbr>=0.11 (from mock>=2.0.0->tensorflow-estimator<1.14.0rc0,>=1.13.0->tensorflow)\n",
      "  Using cached https://files.pythonhosted.org/packages/14/09/12fe9a14237a6b7e0ba3a8d6fcf254bf4b10ec56a0185f73d651145e9222/pbr-5.1.3-py2.py3-none-any.whl\n",
      "Installing collected packages: six, absl-py, gast, wheel, numpy, keras-preprocessing, h5py, keras-applications, pbr, mock, tensorflow-estimator, grpcio, markdown, setuptools, protobuf, tensorboard, astor, tensorflow\n",
      "  Found existing installation: six 1.11.0\n",
      "    Uninstalling six-1.11.0:\n",
      "      Successfully uninstalled six-1.11.0\n",
      "  Found existing installation: wheel 0.30.0\n",
      "    Uninstalling wheel-0.30.0:\n",
      "      Successfully uninstalled wheel-0.30.0\n",
      "  Found existing installation: numpy 1.14.3\n",
      "    Uninstalling numpy-1.14.3:\n",
      "      Successfully uninstalled numpy-1.14.3\n",
      "  Found existing installation: h5py 2.7.1\n",
      "    Uninstalling h5py-2.7.1:\n",
      "      Successfully uninstalled h5py-2.7.1\n",
      "  Found existing installation: pbr 4.0.3\n",
      "    Uninstalling pbr-4.0.3:\n",
      "      Successfully uninstalled pbr-4.0.3\n",
      "  Found existing installation: setuptools 39.2.0\n",
      "    Uninstalling setuptools-39.2.0:\n",
      "      Successfully uninstalled setuptools-39.2.0\n",
      "  Found existing installation: protobuf 3.5.2.post1\n",
      "    Uninstalling protobuf-3.5.2.post1:\n",
      "      Successfully uninstalled protobuf-3.5.2.post1\n",
      "  Found existing installation: astor 0.6.2\n",
      "    Uninstalling astor-0.6.2:\n",
      "      Successfully uninstalled astor-0.6.2\n",
      "Successfully installed absl-py-0.7.1 astor-0.7.1 gast-0.2.2 grpcio-1.19.0 h5py-2.9.0 keras-applications-1.0.7 keras-preprocessing-1.0.9 markdown-3.0.1 mock-2.0.0 numpy-1.16.2 pbr-5.1.3 protobuf-3.7.0 setuptools-40.8.0 six-1.12.0 tensorboard-1.13.1 tensorflow-1.13.1 tensorflow-estimator-1.13.0 wheel-0.33.1\n",
      "\u001b[33mYou are using pip version 9.0.1, however version 19.0.3 is available.\n",
      "You should consider upgrading via the 'pip install --upgrade pip' command.\u001b[0m\n"
     ]
    }
   ],
   "source": [
    "!pip install tensorflow --upgrade"
   ]
  },
  {
   "cell_type": "markdown",
   "metadata": {},
   "source": [
    "# Build Language Model From Docstrings\n",
    "\n",
    "The goal is to build a language model using the docstrings, and use that language model to generate an embedding for each docstring.  "
   ]
  },
  {
   "cell_type": "markdown",
   "metadata": {},
   "source": [
    "# Making Training data, Validation data and test data as same Input"
   ]
  },
  {
   "cell_type": "code",
   "execution_count": 23,
   "metadata": {},
   "outputs": [],
   "source": [
    "import torch,cv2\n",
    "from lang_model_utils import lm_vocab, load_lm_vocab, train_lang_model\n",
    "from general_utils import save_file_pickle, load_file_pickle\n",
    "import logging\n",
    "from pathlib import Path\n",
    "from fastai.text import *\n",
    "\n",
    "source_path = Path('../data_from_cristian_19-3-19/processed_data/')\n",
    "\n",
    "with open(source_path/'data_inp_sound.txt', 'r') as f:\n",
    "    trn_raw = f.readlines()\n",
    "\n",
    "with open(source_path/'data_inp_sound.txt', 'r') as f:\n",
    "    val_raw = f.readlines()\n",
    "    \n",
    "with open(source_path/'data_inp_sound.txt', 'r') as f:\n",
    "    test_raw = f.readlines()"
   ]
  },
  {
   "cell_type": "markdown",
   "metadata": {},
   "source": [
    "Preview what the raw data looks like: here are 10 docstrings"
   ]
  },
  {
   "cell_type": "code",
   "execution_count": 28,
   "metadata": {},
   "outputs": [
    {
     "data": {
      "text/plain": [
       "['name steven godleski received rgb gift week ago however mouse started sending double actions example scroll double scroll mouse local walmart gift not receipt walmart said provide store credit not gs stock mice matter hoping guys would something end packaging everything really looking forward response steve\\n',\n",
       " 'name steven godleski received rgb gift week ago however mouse started sending double actions example scroll double scroll mouse local walmart gift not receipt walmart said provide store credit not gs stock mice matter hoping guys would something end packaging everything really looking forward response steve\\n',\n",
       " 'case replacement mailed wait forever already send back\\n',\n",
       " 'not charge speakers never issue\\n',\n",
       " 'not charge speakers never issue\\n',\n",
       " 'lzywn not charge never problem\\n',\n",
       " 'spoke someone company replace speaker cause doesnt work said send label ups ship havent received yet\\n',\n",
       " 'left click side button double clicking constantly tried troubleshooting tips resetting gaming software blowing onto button switching computers believe hardware problem needs replacement\\n',\n",
       " 'left click button side button back button double clicking rate double clicking high unusable point would replacement model favorite mouse\\n',\n",
       " 'left click button side button back button double clicking rate double clicking high unusable point would replacement model favorite mouse\\n']"
      ]
     },
     "execution_count": 28,
     "metadata": {},
     "output_type": "execute_result"
    }
   ],
   "source": [
    "trn_raw[:10]\n",
    "#val_raw = val_raw[:5000]\n",
    "#test_raw = test_raw[:5000]"
   ]
  },
  {
   "cell_type": "markdown",
   "metadata": {},
   "source": [
    "## Pre-process data for language model\n",
    "\n",
    "We will use the class  `build_lm_vocab` to prepare our data for the language model"
   ]
  },
  {
   "cell_type": "code",
   "execution_count": 29,
   "metadata": {},
   "outputs": [
    {
     "name": "stderr",
     "output_type": "stream",
     "text": [
      "WARNING:root:Processing 87,556 rows\n",
      "WARNING:root:Vocab Size 12,166\n",
      "WARNING:root:Transforming 87,556 rows.\n",
      "WARNING:root:Removed 24,127 duplicate rows.\n"
     ]
    }
   ],
   "source": [
    "vocab = lm_vocab(max_vocab=60000,\n",
    "                 min_freq=5)\n",
    "\n",
    "# fit the transform on the training data, then transform\n",
    "trn_flat_idx = vocab.fit_transform_flattened(trn_raw)"
   ]
  },
  {
   "cell_type": "markdown",
   "metadata": {},
   "source": [
    "Look at the transformed data"
   ]
  },
  {
   "cell_type": "code",
   "execution_count": 30,
   "metadata": {},
   "outputs": [
    {
     "data": {
      "text/plain": [
       "array([  2,   1, 404,  28,  17,  27, 651, 466,   7, 127])"
      ]
     },
     "execution_count": 30,
     "metadata": {},
     "output_type": "execute_result"
    }
   ],
   "source": [
    "trn_flat_idx[:10]"
   ]
  },
  {
   "cell_type": "code",
   "execution_count": 31,
   "metadata": {
    "scrolled": false
   },
   "outputs": [
    {
     "data": {
      "text/plain": [
       "['_xbos_',\n",
       " '_pad_',\n",
       " 'team',\n",
       " 'need',\n",
       " 'help',\n",
       " 'headset',\n",
       " 'christmas',\n",
       " 'gift',\n",
       " 'tried',\n",
       " 'several',\n",
       " 'different',\n",
       " 'times',\n",
       " 'cannot',\n",
       " 'computer',\n",
       " 'recognize',\n",
       " 'device',\n",
       " 'plug',\n",
       " 'usb',\n",
       " 'port',\n",
       " 'says',\n",
       " 'device',\n",
       " 'calls',\n",
       " 'unknown',\n",
       " 'device',\n",
       " 'therefor',\n",
       " 'cannot',\n",
       " 'connect',\n",
       " 'headsets',\n",
       " 'speaker',\n",
       " 'microphone']"
      ]
     },
     "execution_count": 31,
     "metadata": {},
     "output_type": "execute_result"
    }
   ],
   "source": [
    "[vocab.itos[x] for x in trn_flat_idx[:30]]"
   ]
  },
  {
   "cell_type": "code",
   "execution_count": 32,
   "metadata": {},
   "outputs": [
    {
     "name": "stderr",
     "output_type": "stream",
     "text": [
      "WARNING:root:Transforming 87,556 rows.\n",
      "WARNING:root:Removed 24,127 duplicate rows.\n"
     ]
    }
   ],
   "source": [
    "# apply transform to validation data\n",
    "val_flat_idx = vocab.transform_flattened(val_raw)"
   ]
  },
  {
   "cell_type": "markdown",
   "metadata": {},
   "source": [
    "Save files for later use"
   ]
  },
  {
   "cell_type": "code",
   "execution_count": 33,
   "metadata": {},
   "outputs": [
    {
     "name": "stderr",
     "output_type": "stream",
     "text": [
      "WARNING:root:Saved vocab to ../data_from_cristian_19-3-19/lang_model/vocab_v2.cls\n"
     ]
    }
   ],
   "source": [
    "if not use_cache:\n",
    "    vocab.save('../data_from_cristian_19-3-19/lang_model/vocab_v2.cls')\n",
    "    save_file_pickle('../data_from_cristian_19-3-19/lang_model/trn_flat_idx_list.pkl_v2', trn_flat_idx)\n",
    "    save_file_pickle('../data_from_cristian_19-3-19/lang_model/val_flat_idx_list.pkl_v2', val_flat_idx)"
   ]
  },
  {
   "cell_type": "markdown",
   "metadata": {},
   "source": [
    "## Train Fast.AI Language Model\n",
    "\n",
    "This model will read in files that were created and train a [fast.ai](https://github.com/fastai/fastai/tree/master/fastai) language model.  This model learns to predict the next word in the sentence using fast.ai's implementation of [AWD LSTM](https://github.com/salesforce/awd-lstm-lm).  \n",
    "\n",
    "The goal of training this model is to build a general purpose feature extractor for text that can be used in downstream models.  In this case, we will utilize this model to produce embeddings for function docstrings."
   ]
  },
  {
   "cell_type": "code",
   "execution_count": 34,
   "metadata": {},
   "outputs": [
    {
     "name": "stderr",
     "output_type": "stream",
     "text": [
      "WARNING:root:Loaded vocab of size 12,166\n"
     ]
    }
   ],
   "source": [
    "vocab = load_lm_vocab('../data_from_cristian_19-3-19/lang_model/vocab_v2.cls')\n",
    "trn_flat_idx = load_file_pickle('../data_from_cristian_19-3-19/lang_model/trn_flat_idx_list.pkl_v2')\n",
    "val_flat_idx = load_file_pickle('../data_from_cristian_19-3-19/lang_model/val_flat_idx_list.pkl_v2')"
   ]
  },
  {
   "cell_type": "code",
   "execution_count": 35,
   "metadata": {},
   "outputs": [
    {
     "data": {
      "text/plain": [
       "12166"
      ]
     },
     "execution_count": 35,
     "metadata": {},
     "output_type": "execute_result"
    }
   ],
   "source": [
    "vocab.vocab_size"
   ]
  },
  {
   "cell_type": "code",
   "execution_count": 36,
   "metadata": {},
   "outputs": [
    {
     "data": {
      "text/plain": [
       "'1.14.3'"
      ]
     },
     "execution_count": 36,
     "metadata": {},
     "output_type": "execute_result"
    }
   ],
   "source": [
    "import numpy\n",
    "numpy.__version__"
   ]
  },
  {
   "cell_type": "code",
   "execution_count": 37,
   "metadata": {},
   "outputs": [
    {
     "data": {
      "application/vnd.jupyter.widget-view+json": {
       "model_id": "881b6d63dcdc4d449ae47f3a299737e6",
       "version_major": 2,
       "version_minor": 0
      },
      "text/plain": [
       "HBox(children=(IntProgress(value=0, description='Epoch', max=3), HTML(value='')))"
      ]
     },
     "metadata": {},
     "output_type": "display_data"
    },
    {
     "name": "stdout",
     "output_type": "stream",
     "text": [
      "epoch      trn_loss   val_loss                              \n",
      "    0      6.953758   6.79829   \n",
      "    1      6.366464   6.158104                              \n",
      "                                                            \r"
     ]
    },
    {
     "name": "stderr",
     "output_type": "stream",
     "text": [
      "WARNING:root:State dict for the best model saved here:\n",
      "../data_from_cristian_19-3-19/lang_model_weights_v2/models/langmodel_best.h5\n"
     ]
    },
    {
     "name": "stdout",
     "output_type": "stream",
     "text": [
      "    2      5.89216    5.671128  \n",
      "\n"
     ]
    }
   ],
   "source": [
    "\"\"\"\n",
    "if not use_cache:\n",
    "    fastai_learner, lang_model = train_lang_model(model_path = '../data_from_cristian_19-3-19/lang_model_weights_v2',\n",
    "                                                  trn_indexed = trn_flat_idx,\n",
    "                                                  val_indexed = val_flat_idx,\n",
    "                                                  vocab_size = vocab.vocab_size,\n",
    "                                                  lr=3e-3,\n",
    "                                                  em_sz= 500,\n",
    "                                                  nh= 500,\n",
    "                                                  bptt=20,\n",
    "                                                  cycle_len=1,\n",
    "                                                  n_cycle=2,\n",
    "                                                  cycle_mult=2,\n",
    "                                                  bs = 200,\n",
    "                                                  wd = 1e-6)\n",
    "\"\"\"\n",
    "    \n",
    "if not use_cache:\n",
    "    fastai_learner, lang_model = train_lang_model(model_path = '../data_from_cristian_19-3-19/lang_model_weights_v2',\n",
    "                                                  trn_indexed = trn_flat_idx,\n",
    "                                                  val_indexed = val_flat_idx,\n",
    "                                                  vocab_size = vocab.vocab_size,\n",
    "                                                  lr=3e-3,\n",
    "                                                  em_sz= 500,\n",
    "                                                  nh= 500,\n",
    "                                                  bptt=20,\n",
    "                                                  cycle_len=1,\n",
    "                                                  n_cycle=2,\n",
    "                                                  cycle_mult=2,\n",
    "                                                  bs = 500,\n",
    "                                                  wd = 1e-6)\n",
    "elif use_cache:    \n",
    "    logging.warning('Not re-training language model because use_cache=True')"
   ]
  },
  {
   "cell_type": "code",
   "execution_count": 38,
   "metadata": {},
   "outputs": [
    {
     "data": {
      "application/vnd.jupyter.widget-view+json": {
       "model_id": "58d8b91d24ce492d866817a77eaf5949",
       "version_major": 2,
       "version_minor": 0
      },
      "text/plain": [
       "HBox(children=(IntProgress(value=0, description='Epoch', max=6), HTML(value='')))"
      ]
     },
     "metadata": {},
     "output_type": "display_data"
    },
    {
     "name": "stdout",
     "output_type": "stream",
     "text": [
      "    1      5.552918   5.439485                              \n",
      "    2      5.493581   5.309428                              \n",
      "    3      5.379897   5.260633                              \n",
      "    4      5.350386   5.163854                              \n",
      "    5      5.251986   5.120059                              \n",
      "\n"
     ]
    }
   ],
   "source": [
    "if not use_cache:\n",
    "    fastai_learner.fit(1e-3, 3, wds=1e-6, cycle_len=2)"
   ]
  },
  {
   "cell_type": "code",
   "execution_count": 39,
   "metadata": {},
   "outputs": [
    {
     "data": {
      "application/vnd.jupyter.widget-view+json": {
       "model_id": "6e3893a846c14f0bbe70f65572ac8ac2",
       "version_major": 2,
       "version_minor": 0
      },
      "text/plain": [
       "HBox(children=(IntProgress(value=0, description='Epoch', max=9), HTML(value='')))"
      ]
     },
     "metadata": {},
     "output_type": "display_data"
    },
    {
     "name": "stdout",
     "output_type": "stream",
     "text": [
      "epoch      trn_loss   val_loss                              \n",
      "    0      5.268199   5.07649   \n",
      "    1      5.190654   5.00071                               \n",
      "    2      5.118342   4.977621                              \n",
      "    3      5.137936   4.927224                              \n",
      "    4      5.063549   4.869656                              \n",
      "    5      5.003747   4.800927                              \n",
      "    6      4.936543   4.748579                              \n",
      "    7      4.892356   4.73079                               \n",
      "    8      4.9074     4.738655                              \n",
      "\n"
     ]
    }
   ],
   "source": [
    "if not use_cache:\n",
    "    fastai_learner.fit(1e-3, 2, wds=1e-6, cycle_len=3, cycle_mult=2)"
   ]
  },
  {
   "cell_type": "code",
   "execution_count": 40,
   "metadata": {},
   "outputs": [
    {
     "data": {
      "application/vnd.jupyter.widget-view+json": {
       "model_id": "b955ea17a52a47798256c742708bead1",
       "version_major": 2,
       "version_minor": 0
      },
      "text/plain": [
       "HBox(children=(IntProgress(value=0, description='Epoch', max=12), HTML(value='')))"
      ]
     },
     "metadata": {},
     "output_type": "display_data"
    },
    {
     "name": "stdout",
     "output_type": "stream",
     "text": [
      "epoch      trn_loss   val_loss                              \n",
      "    0      4.974208   4.740493  \n",
      "    1      4.89081    4.671319                              \n",
      "    2      4.831773   4.652863                              \n",
      "    3      4.885538   4.638927                              \n",
      "    4      4.860935   4.593344                              \n",
      "    5      4.772207   4.527502                              \n",
      "    6      4.73354    4.497509                              \n",
      "    7      4.670463   4.432148                              \n",
      "    8      4.697184   4.415985                              \n",
      "    9      4.652635   4.38582                               \n",
      "    10     4.590338   4.372536                              \n",
      "    11     4.577181   4.389245                              \n",
      "\n"
     ]
    }
   ],
   "source": [
    "if not use_cache:\n",
    "    fastai_learner.fit(1e-3, 2, wds=1e-6, cycle_len=3, cycle_mult=3)"
   ]
  },
  {
   "cell_type": "markdown",
   "metadata": {},
   "source": [
    "Save language model and learner"
   ]
  },
  {
   "cell_type": "code",
   "execution_count": 41,
   "metadata": {},
   "outputs": [],
   "source": [
    "if not use_cache:\n",
    "    fastai_learner.save('lang_model_learner_v2.fai')\n",
    "    lang_model_new = fastai_learner.model.eval()\n",
    "    torch.save(lang_model_new, '../data_from_cristian_19-3-19/lang_model/lang_model_gpu_v3.torch')\n",
    "    torch.save(lang_model_new.cpu(), '../data_from_cristian_19-3-19/lang_model/lang_model_cpu_v2.torch')"
   ]
  },
  {
   "cell_type": "markdown",
   "metadata": {},
   "source": [
    "# Load Model and Encode All Docstrings\n",
    "\n",
    "Now that we have trained the language model, the next step is to use the language model to encode all of the docstrings into a vector. "
   ]
  },
  {
   "cell_type": "markdown",
   "metadata": {},
   "source": [
    "** Note that checkpointed versions of the language model artifacts are available for download: **\n",
    "\n",
    "1. `lang_model_cpu_v2.torch` : https://storage.googleapis.com/kubeflow-examples/code_search/data_from_cristian_19-3-19/lang_model/lang_model_cpu_v2.torch \n",
    "2. `lang_model_gpu_v2.torch` : https://storage.googleapis.com/kubeflow-examples/code_search/data_from_cristian_19-3-19/lang_model/lang_model_gpu_v2.torch\n",
    "3. `vocab_v2.cls` : https://storage.googleapis.com/kubeflow-examples/code_search/data_from_cristian_19-3-19/lang_model/vocab_v2.cls"
   ]
  },
  {
   "cell_type": "code",
   "execution_count": 42,
   "metadata": {},
   "outputs": [
    {
     "name": "stderr",
     "output_type": "stream",
     "text": [
      "WARNING:root:Loaded vocab of size 12,166\n",
      "WARNING:root:Processing 175,112 rows\n"
     ]
    }
   ],
   "source": [
    "from lang_model_utils import load_lm_vocab\n",
    "vocab = load_lm_vocab('../data_from_cristian_19-3-19/lang_model/vocab_v2.cls')\n",
    "idx_docs = vocab.transform(trn_raw + val_raw, max_seq_len=30, padding=False)\n",
    "lang_model = torch.load('../data_from_cristian_19-3-19/lang_model/lang_model_cpu_v2.torch', \n",
    "                        map_location=lambda storage, loc: storage)"
   ]
  },
  {
   "cell_type": "code",
   "execution_count": 43,
   "metadata": {},
   "outputs": [
    {
     "data": {
      "text/plain": [
       "SequentialRNN(\n",
       "  (0): RNN_Encoder(\n",
       "    (encoder): Embedding(12166, 500, padding_idx=1)\n",
       "    (encoder_with_dropout): EmbeddingDropout(\n",
       "      (embed): Embedding(12166, 500, padding_idx=1)\n",
       "    )\n",
       "    (rnns): ModuleList(\n",
       "      (0): WeightDrop(\n",
       "        (module): LSTM(500, 500)\n",
       "      )\n",
       "      (1): WeightDrop(\n",
       "        (module): LSTM(500, 500)\n",
       "      )\n",
       "      (2): WeightDrop(\n",
       "        (module): LSTM(500, 500)\n",
       "      )\n",
       "    )\n",
       "    (dropouti): LockedDropout(\n",
       "    )\n",
       "    (dropouths): ModuleList(\n",
       "      (0): LockedDropout(\n",
       "      )\n",
       "      (1): LockedDropout(\n",
       "      )\n",
       "      (2): LockedDropout(\n",
       "      )\n",
       "    )\n",
       "  )\n",
       "  (1): LinearDecoder(\n",
       "    (decoder): Linear(in_features=500, out_features=12166, bias=False)\n",
       "    (dropout): LockedDropout(\n",
       "    )\n",
       "  )\n",
       ")"
      ]
     },
     "execution_count": 43,
     "metadata": {},
     "output_type": "execute_result"
    }
   ],
   "source": [
    "lang_model.eval()"
   ]
  },
  {
   "cell_type": "markdown",
   "metadata": {},
   "source": [
    "**Note:** the below code extracts embeddings for docstrings one docstring at a time, which is very inefficient.  Ideally, you want to extract embeddings in batch but account for the fact that you will have padding, etc. when extracting the hidden states.  For this tutorial, we only provide this minimal example, however you are welcome to improve upon this and sumbit a PR!"
   ]
  },
  {
   "cell_type": "code",
   "execution_count": 44,
   "metadata": {},
   "outputs": [],
   "source": [
    "from tqdm import tqdm_notebook\n",
    "def list2arr(l):\n",
    "    \"Convert list into pytorch Variable.\"\n",
    "    return V(np.expand_dims(np.array(l), -1)).cpu()\n",
    "\n",
    "def make_prediction_from_list(model, l):\n",
    "    \"\"\"\n",
    "    Encode a list of integers that represent a sequence of tokens.  The\n",
    "    purpose is to encode a sentence or phrase.\n",
    "\n",
    "    Parameters\n",
    "    -----------\n",
    "    model : fastai language model\n",
    "    l : list\n",
    "        list of integers, representing a sequence of tokens that you want to encode\n",
    "\n",
    "    \"\"\"\n",
    "    arr = list2arr(l)# turn list into pytorch Variable with bs=1\n",
    "    model.reset()  # language model is stateful, so you must reset upon each prediction\n",
    "    hidden_states = model(arr)[-1][-1] # RNN Hidden Layer output is last output, and only need the last layer\n",
    "\n",
    "    #return avg-pooling, max-pooling, and last hidden state\n",
    "    return hidden_states.mean(0), hidden_states.max(0)[0], hidden_states[-1]\n",
    "\n",
    "\n",
    "def get_embeddings(lm_model, list_list_int):\n",
    "    \"\"\"\n",
    "    Vectorize a list of sequences List[List[int]] using a fast.ai language model.\n",
    "\n",
    "    Paramters\n",
    "    ---------\n",
    "    lm_model : fastai language model\n",
    "    list_list_int : List[List[int]]\n",
    "        A list of sequences to encode\n",
    "\n",
    "    Returns\n",
    "    -------\n",
    "    tuple: (avg, mean, last)\n",
    "        A tuple that returns the average-pooling, max-pooling over time steps as well as the last time step.\n",
    "    \"\"\"\n",
    "    n_rows = len(list_list_int)\n",
    "    n_dim = lm_model[0].nhid\n",
    "    avgarr = np.empty((n_rows, n_dim))\n",
    "    maxarr = np.empty((n_rows, n_dim))\n",
    "    lastarr = np.empty((n_rows, n_dim))\n",
    "\n",
    "    for i in tqdm_notebook(range(len(list_list_int))):\n",
    "        avg_, max_, last_ = make_prediction_from_list(lm_model, list_list_int[i])\n",
    "        avgarr[i,:] = avg_.data.numpy()\n",
    "        maxarr[i,:] = max_.data.numpy()\n",
    "        lastarr[i,:] = last_.data.numpy()\n",
    "        if(i%10000==0):\n",
    "            print(i)\n",
    "\n",
    "    return avgarr, maxarr, lastarr"
   ]
  },
  {
   "cell_type": "code",
   "execution_count": 45,
   "metadata": {},
   "outputs": [
    {
     "name": "stdout",
     "output_type": "stream",
     "text": [
      "175112\n"
     ]
    }
   ],
   "source": [
    "print(len(idx_docs))"
   ]
  },
  {
   "cell_type": "code",
   "execution_count": 46,
   "metadata": {},
   "outputs": [
    {
     "data": {
      "application/vnd.jupyter.widget-view+json": {
       "model_id": "28d845c2725c4a37b7578291f81f3cd7",
       "version_major": 2,
       "version_minor": 0
      },
      "text/plain": [
       "HBox(children=(IntProgress(value=0, max=175112), HTML(value='')))"
      ]
     },
     "metadata": {},
     "output_type": "display_data"
    },
    {
     "name": "stdout",
     "output_type": "stream",
     "text": [
      "0\n",
      "10000\n",
      "20000\n",
      "30000\n",
      "40000\n",
      "50000\n",
      "60000\n",
      "70000\n",
      "80000\n",
      "90000\n",
      "100000\n",
      "110000\n",
      "120000\n",
      "130000\n",
      "140000\n",
      "150000\n",
      "160000\n",
      "170000\n",
      "\n",
      "CPU times: user 23h 19min 28s, sys: 1min 40s, total: 23h 21min 9s\n",
      "Wall time: 43min 47s\n"
     ]
    }
   ],
   "source": [
    "%%time\n",
    "avg_hs, max_hs, last_hs = get_embeddings(lang_model, idx_docs)"
   ]
  },
  {
   "cell_type": "markdown",
   "metadata": {},
   "source": [
    "### Do the same thing for the test set"
   ]
  },
  {
   "cell_type": "code",
   "execution_count": 47,
   "metadata": {},
   "outputs": [
    {
     "name": "stderr",
     "output_type": "stream",
     "text": [
      "WARNING:root:Processing 87,556 rows\n"
     ]
    },
    {
     "data": {
      "application/vnd.jupyter.widget-view+json": {
       "model_id": "c9c18f4d9b1f49d09c5b74f0810435c7",
       "version_major": 2,
       "version_minor": 0
      },
      "text/plain": [
       "HBox(children=(IntProgress(value=0, max=87556), HTML(value='')))"
      ]
     },
     "metadata": {},
     "output_type": "display_data"
    },
    {
     "name": "stdout",
     "output_type": "stream",
     "text": [
      "0\n",
      "10000\n",
      "20000\n",
      "30000\n",
      "40000\n",
      "50000\n",
      "60000\n",
      "70000\n",
      "80000\n",
      "\n"
     ]
    }
   ],
   "source": [
    "idx_docs_test = vocab.transform(test_raw, max_seq_len=30, padding=False)\n",
    "avg_hs_test, max_hs_test, last_hs_test = get_embeddings(lang_model, idx_docs_test)"
   ]
  },
  {
   "cell_type": "markdown",
   "metadata": {},
   "source": [
    "# Save Language Model Embeddings For Docstrings"
   ]
  },
  {
   "cell_type": "code",
   "execution_count": 48,
   "metadata": {},
   "outputs": [],
   "source": [
    "savepath = Path('../data_from_cristian_19-3-19/lang_model_emb/')\n",
    "np.save(savepath/'avg_emb_dim500_v2.npy', avg_hs)\n",
    "np.save(savepath/'max_emb_dim500_v2.npy', max_hs)\n",
    "np.save(savepath/'last_emb_dim500_v2.npy', last_hs)"
   ]
  },
  {
   "cell_type": "code",
   "execution_count": 49,
   "metadata": {},
   "outputs": [],
   "source": [
    "# save the test set embeddings also\n",
    "np.save(savepath/'avg_emb_dim500_test_v2.npy', avg_hs_test)\n",
    "np.save(savepath/'max_emb_dim500_test_v2.npy', max_hs_test)\n",
    "np.save(savepath/'last_emb_dim500_test_v2.npy', last_hs_test)"
   ]
  },
  {
   "cell_type": "markdown",
   "metadata": {},
   "source": [
    "** Note that the embeddings saved to disk above have also been cached and are are available for download: **\n",
    "\n",
    "Train + Validation docstrings vectorized:\n",
    "\n",
    "1. `avg_emb_dim500_v2.npy` : https://storage.googleapis.com/kubeflow-examples/code_search/data_from_cristian_19-3-19/lang_model_emb/avg_emb_dim500_v2.npy\n",
    "2. `max_emb_dim500_v2.npy` : https://storage.googleapis.com/kubeflow-examples/code_search/data_from_cristian_19-3-19/lang_model_emb/last_emb_dim500_v2.npy\n",
    "3. `last_emb_dim500_v2.npy` : https://storage.googleapis.com/kubeflow-examples/code_search/data_from_cristian_19-3-19/lang_model_emb/max_emb_dim500_v2.npy\n",
    "\n",
    "Test set docstrings vectorized:\n",
    "\n",
    "1. `avg_emb_dim500_test_v2.npy`: https://storage.googleapis.com/kubeflow-examples/code_search/data_from_cristian_19-3-19/lang_model_emb/avg_emb_dim500_test_v2.npy\n",
    "\n",
    "2. `max_emb_dim500_test_v2.npy`: https://storage.googleapis.com/kubeflow-examples/code_search/data_from_cristian_19-3-19/lang_model_emb/last_emb_dim500_test_v2.npy\n",
    "\n",
    "3. `last_emb_dim500_test_v2.npy`: https://storage.googleapis.com/kubeflow-examples/code_search/data_from_cristian_19-3-19/lang_model_emb/max_emb_dim500_test_v2.npy"
   ]
  },
  {
   "cell_type": "markdown",
   "metadata": {},
   "source": [
    "# Evaluate Sentence Embeddings\n",
    "\n",
    "One popular way of evaluating sentence embeddings is to measure the efficacy of these embeddings in downstream tasks like sentiment analysis, textual similarity etc.  Usually you can use general-purpose benchmarks such as the examples outlined [here](https://github.com/facebookresearch/SentEval) to measure the quality of your embeddings.  However, since this is a very domain specific dataset - those general purpose benchmarks may not be appropriate.  Unfortunately, we have not designed downstream tasks that we can open source at this point.\n",
    "\n",
    "In the absence of these downstream tasks, we can at least sanity check that these embeddings contain semantic information by doing the following:\n",
    "\n",
    "1. Manually examine similarity between sentences, by supplying a statement and examining if the nearest phrase found is similar. \n",
    "\n",
    "2. Visualize the embeddings.\n",
    "\n",
    "We will do the first approach, and leave the second approach as an exercise for the reader.  **It should be noted that this is only a sanity check -- a more rigorous approach is to measure the impact of these embeddings on a variety of downstream tasks** and use that to form a more objective opinion about the quality of your embeddings.\n",
    "\n",
    "Furthermroe, there are many different ways of constructing a sentence embedding from the language model.  For example, we can take the average, the maximum or even the last value of the hidden states (or concatenate them all together).  **For simplicity, we will only evaluate the sentence embedding that is constructed by taking the average over the hidden states** (and leave other possibilities as an exercise for the reader). "
   ]
  },
  {
   "cell_type": "markdown",
   "metadata": {},
   "source": [
    "### Create search index using `nmslib` \n",
    "\n",
    "[nmslib](https://github.com/nmslib/nmslib) is a great library for doing nearest neighbor lookups, which we will use as a search engine for finding nearest neighbors of comments in vector-space.  \n",
    "\n",
    "The convenience function `create_nmslib_search_index` builds this search index given a matrix of vectors as input.\n",
    "\n"
   ]
  },
  {
   "cell_type": "code",
   "execution_count": 3,
   "metadata": {
    "scrolled": true
   },
   "outputs": [
    {
     "name": "stdout",
     "output_type": "stream",
     "text": [
      "Collecting tensorflow\n",
      "  Using cached https://files.pythonhosted.org/packages/77/63/a9fa76de8dffe7455304c4ed635be4aa9c0bacef6e0633d87d5f54530c5c/tensorflow-1.13.1-cp36-cp36m-manylinux1_x86_64.whl\n",
      "Collecting astor>=0.6.0 (from tensorflow)\n",
      "  Using cached https://files.pythonhosted.org/packages/35/6b/11530768cac581a12952a2aad00e1526b89d242d0b9f59534ef6e6a1752f/astor-0.7.1-py2.py3-none-any.whl\n",
      "Collecting tensorflow-estimator<1.14.0rc0,>=1.13.0 (from tensorflow)\n",
      "  Using cached https://files.pythonhosted.org/packages/bb/48/13f49fc3fa0fdf916aa1419013bb8f2ad09674c275b4046d5ee669a46873/tensorflow_estimator-1.13.0-py2.py3-none-any.whl\n",
      "Collecting absl-py>=0.1.6 (from tensorflow)\n",
      "Collecting six>=1.10.0 (from tensorflow)\n",
      "  Using cached https://files.pythonhosted.org/packages/73/fb/00a976f728d0d1fecfe898238ce23f502a721c0ac0ecfedb80e0d88c64e9/six-1.12.0-py2.py3-none-any.whl\n",
      "Collecting numpy>=1.13.3 (from tensorflow)\n",
      "  Using cached https://files.pythonhosted.org/packages/35/d5/4f8410ac303e690144f0a0603c4b8fd3b986feb2749c435f7cdbb288f17e/numpy-1.16.2-cp36-cp36m-manylinux1_x86_64.whl\n",
      "Collecting keras-preprocessing>=1.0.5 (from tensorflow)\n",
      "  Using cached https://files.pythonhosted.org/packages/c0/bf/0315ef6a9fd3fc2346e85b0ff1f5f83ca17073f2c31ac719ab2e4da0d4a3/Keras_Preprocessing-1.0.9-py2.py3-none-any.whl\n",
      "Collecting gast>=0.2.0 (from tensorflow)\n",
      "Collecting tensorboard<1.14.0,>=1.13.0 (from tensorflow)\n",
      "  Using cached https://files.pythonhosted.org/packages/0f/39/bdd75b08a6fba41f098b6cb091b9e8c7a80e1b4d679a581a0ccd17b10373/tensorboard-1.13.1-py3-none-any.whl\n",
      "Collecting wheel>=0.26 (from tensorflow)\n",
      "  Using cached https://files.pythonhosted.org/packages/96/ba/a4702cbb6a3a485239fbe9525443446203f00771af9ac000fa3ef2788201/wheel-0.33.1-py2.py3-none-any.whl\n",
      "Collecting protobuf>=3.6.1 (from tensorflow)\n",
      "  Downloading https://files.pythonhosted.org/packages/5a/aa/a858df367b464f5e9452e1c538aa47754d467023850c00b000287750fa77/protobuf-3.7.1-cp36-cp36m-manylinux1_x86_64.whl (1.2MB)\n",
      "\u001b[K    100% |████████████████████████████████| 1.2MB 1.0MB/s eta 0:00:01\n",
      "\u001b[?25hCollecting keras-applications>=1.0.6 (from tensorflow)\n",
      "  Using cached https://files.pythonhosted.org/packages/90/85/64c82949765cfb246bbdaf5aca2d55f400f792655927a017710a78445def/Keras_Applications-1.0.7-py2.py3-none-any.whl\n",
      "Requirement already up-to-date: termcolor>=1.1.0 in /opt/conda/lib/python3.6/site-packages (from tensorflow)\n",
      "Collecting grpcio>=1.8.6 (from tensorflow)\n",
      "  Using cached https://files.pythonhosted.org/packages/f4/dc/5503d89e530988eb7a1aed337dcb456ef8150f7c06132233bd9e41ec0215/grpcio-1.19.0-cp36-cp36m-manylinux1_x86_64.whl\n",
      "Collecting mock>=2.0.0 (from tensorflow-estimator<1.14.0rc0,>=1.13.0->tensorflow)\n",
      "  Using cached https://files.pythonhosted.org/packages/e6/35/f187bdf23be87092bd0f1200d43d23076cee4d0dec109f195173fd3ebc79/mock-2.0.0-py2.py3-none-any.whl\n",
      "Collecting markdown>=2.6.8 (from tensorboard<1.14.0,>=1.13.0->tensorflow)\n",
      "  Downloading https://files.pythonhosted.org/packages/f5/e4/d8c18f2555add57ff21bf25af36d827145896a07607486cc79a2aea641af/Markdown-3.1-py2.py3-none-any.whl (87kB)\n",
      "\u001b[K    100% |████████████████████████████████| 92kB 10.1MB/s ta 0:00:01\n",
      "\u001b[?25hCollecting werkzeug>=0.11.15 (from tensorboard<1.14.0,>=1.13.0->tensorflow)\n",
      "  Using cached https://files.pythonhosted.org/packages/24/4d/2fc4e872fbaaf44cc3fd5a9cd42fda7e57c031f08e28c9f35689e8b43198/Werkzeug-0.15.1-py2.py3-none-any.whl\n",
      "Collecting setuptools (from protobuf>=3.6.1->tensorflow)\n",
      "  Using cached https://files.pythonhosted.org/packages/d1/6a/4b2fcefd2ea0868810e92d519dacac1ddc64a2e53ba9e3422c3b62b378a6/setuptools-40.8.0-py2.py3-none-any.whl\n",
      "Collecting h5py (from keras-applications>=1.0.6->tensorflow)\n",
      "  Using cached https://files.pythonhosted.org/packages/30/99/d7d4fbf2d02bb30fb76179911a250074b55b852d34e98dd452a9f394ac06/h5py-2.9.0-cp36-cp36m-manylinux1_x86_64.whl\n",
      "Collecting pbr>=0.11 (from mock>=2.0.0->tensorflow-estimator<1.14.0rc0,>=1.13.0->tensorflow)\n",
      "  Using cached https://files.pythonhosted.org/packages/14/09/12fe9a14237a6b7e0ba3a8d6fcf254bf4b10ec56a0185f73d651145e9222/pbr-5.1.3-py2.py3-none-any.whl\n",
      "Installing collected packages: astor, six, numpy, pbr, mock, absl-py, tensorflow-estimator, keras-preprocessing, gast, setuptools, protobuf, wheel, markdown, grpcio, werkzeug, tensorboard, h5py, keras-applications, tensorflow\n",
      "  Found existing installation: astor 0.6.2\n",
      "    Uninstalling astor-0.6.2:\n",
      "      Successfully uninstalled astor-0.6.2\n",
      "  Found existing installation: six 1.11.0\n",
      "    Uninstalling six-1.11.0:\n",
      "      Successfully uninstalled six-1.11.0\n",
      "  Found existing installation: numpy 1.14.3\n",
      "    Uninstalling numpy-1.14.3:\n",
      "      Successfully uninstalled numpy-1.14.3\n",
      "  Found existing installation: pbr 4.0.3\n",
      "    Uninstalling pbr-4.0.3:\n",
      "      Successfully uninstalled pbr-4.0.3\n",
      "  Found existing installation: setuptools 39.2.0\n",
      "    Uninstalling setuptools-39.2.0:\n",
      "      Successfully uninstalled setuptools-39.2.0\n",
      "  Found existing installation: protobuf 3.5.2.post1\n",
      "    Uninstalling protobuf-3.5.2.post1:\n",
      "      Successfully uninstalled protobuf-3.5.2.post1\n",
      "  Found existing installation: wheel 0.30.0\n",
      "    Uninstalling wheel-0.30.0:\n",
      "      Successfully uninstalled wheel-0.30.0\n",
      "  Found existing installation: Werkzeug 0.14.1\n",
      "    Uninstalling Werkzeug-0.14.1:\n",
      "      Successfully uninstalled Werkzeug-0.14.1\n",
      "  Found existing installation: h5py 2.7.1\n",
      "    Uninstalling h5py-2.7.1:\n",
      "      Successfully uninstalled h5py-2.7.1\n",
      "Successfully installed absl-py-0.7.1 astor-0.7.1 gast-0.2.2 grpcio-1.19.0 h5py-2.9.0 keras-applications-1.0.7 keras-preprocessing-1.0.9 markdown-3.1 mock-2.0.0 numpy-1.16.2 pbr-5.1.3 protobuf-3.7.1 setuptools-40.8.0 six-1.12.0 tensorboard-1.13.1 tensorflow-1.13.1 tensorflow-estimator-1.13.0 werkzeug-0.15.1 wheel-0.33.1\n",
      "\u001b[33mYou are using pip version 9.0.1, however version 19.0.3 is available.\n",
      "You should consider upgrading via the 'pip install --upgrade pip' command.\u001b[0m\n"
     ]
    }
   ],
   "source": [
    "!pip install --upgrade tensorflow"
   ]
  },
  {
   "cell_type": "code",
   "execution_count": 13,
   "metadata": {},
   "outputs": [
    {
     "name": "stderr",
     "output_type": "stream",
     "text": [
      "Using TensorFlow backend.\n"
     ]
    }
   ],
   "source": [
    "from general_utils import create_nmslib_search_index\n",
    "import nmslib\n",
    "from lang_model_utils import Query2Emb\n",
    "from pathlib import Path\n",
    "import numpy as np\n",
    "from lang_model_utils import load_lm_vocab\n",
    "import torch"
   ]
  },
  {
   "cell_type": "code",
   "execution_count": 14,
   "metadata": {},
   "outputs": [],
   "source": [
    "# Load matrix of vectors\n",
    "loadpath = Path('../data_from_cristian_19-3-19/lang_model_emb/')\n",
    "avg_emb_dim500 = np.load(loadpath/'avg_emb_dim500_test_v2.npy')"
   ]
  },
  {
   "cell_type": "code",
   "execution_count": 15,
   "metadata": {},
   "outputs": [],
   "source": [
    "# Build search index (takes about an hour on a p3.8xlarge)\n",
    "dim500_avg_searchindex = create_nmslib_search_index(avg_emb_dim500)"
   ]
  },
  {
   "cell_type": "code",
   "execution_count": 16,
   "metadata": {},
   "outputs": [],
   "source": [
    "# save search index\n",
    "dim500_avg_searchindex.saveIndex('../data_from_cristian_19-3-19/lang_model_emb/dim500_avg_searchindex.nmslib')"
   ]
  },
  {
   "cell_type": "markdown",
   "metadata": {},
   "source": [
    "Note that if you did not train your own language model and are downloading the pre-trained model artifacts instead, you can similarly download the pre-computed search index here: \n",
    "\n",
    "https://storage.googleapis.com/kubeflow-examples/code_search/data_from_cristian_19-3-19/lang_model_emb/dim500_avg_searchindex.nmslib"
   ]
  },
  {
   "cell_type": "markdown",
   "metadata": {},
   "source": [
    "After you have built this search index with nmslib, you can do fast nearest-neighbor lookups.  We use the `Query2Emb` object to help convert strings to the embeddings: "
   ]
  },
  {
   "cell_type": "code",
   "execution_count": 17,
   "metadata": {},
   "outputs": [],
   "source": [
    "dim500_avg_searchindex = nmslib.init(method='hnsw', space='cosinesimil')\n",
    "dim500_avg_searchindex.loadIndex('../data_from_cristian_19-3-19/lang_model_emb/dim500_avg_searchindex.nmslib')"
   ]
  },
  {
   "cell_type": "code",
   "execution_count": 18,
   "metadata": {},
   "outputs": [
    {
     "name": "stderr",
     "output_type": "stream",
     "text": [
      "WARNING:root:Loaded vocab of size 12,166\n",
      "WARNING:root:Processing 1 rows\n"
     ]
    }
   ],
   "source": [
    "lang_model = torch.load('../data_from_cristian_19-3-19/lang_model/lang_model_cpu_v2.torch')\n",
    "vocab = load_lm_vocab('../data_from_cristian_19-3-19/lang_model/vocab_v2.cls')\n",
    "\n",
    "q2emb = Query2Emb(lang_model = lang_model.cpu(),\n",
    "                  vocab = vocab)"
   ]
  },
  {
   "cell_type": "markdown",
   "metadata": {},
   "source": [
    "The method `Query2Emb.emb_mean` will allow us to use the langauge model we trained earlier to generate a sentence embedding given a string.   Here is an example, `emb_mean` will return a numpy array of size (1, 500)."
   ]
  },
  {
   "cell_type": "code",
   "execution_count": 19,
   "metadata": {},
   "outputs": [
    {
     "name": "stderr",
     "output_type": "stream",
     "text": [
      "WARNING:root:Processing 1 rows\n"
     ]
    },
    {
     "data": {
      "text/plain": [
       "(1, 500)"
      ]
     },
     "execution_count": 19,
     "metadata": {},
     "output_type": "execute_result"
    }
   ],
   "source": [
    "query = q2emb.emb_mean('Soud is not working properly')\n",
    "query.shape"
   ]
  },
  {
   "cell_type": "markdown",
   "metadata": {},
   "source": [
    "**Make search engine to inspect semantic similarity of phrases**.  This will take 3 inputs:\n",
    "\n",
    "1. `nmslib_index` - this is the search index we built above.  This object takes a vector and will return the index of the closest vector(s) according to cosine distance.  \n",
    "2. `ref_data` - this is the data for which the index refer to, in this case will be the docstrings. \n",
    "3. `query2emb_func` - this is a function that will convert a string into an embedding."
   ]
  },
  {
   "cell_type": "code",
   "execution_count": 37,
   "metadata": {},
   "outputs": [],
   "source": [
    "class search_engine:\n",
    "    def __init__(self, \n",
    "                 nmslib_index, \n",
    "                 ref_data, \n",
    "                 query2emb_func):\n",
    "        \n",
    "        self.search_index = nmslib_index\n",
    "        self.data = ref_data\n",
    "        self.query2emb_func = query2emb_func\n",
    "    \n",
    "    def search(self, str_search, k=20):\n",
    "        query = self.query2emb_func(str_search)\n",
    "        idxs, dists = self.search_index.knnQuery(query, k=k)\n",
    "        print(idxs)\n",
    "        for idx, dist in zip(idxs, dists):\n",
    "            print(f'cosine dist:{dist:.4f}\\n---------------\\n', self.data[idx])\n",
    "            #print(\"--------\",dist)"
   ]
  },
  {
   "cell_type": "code",
   "execution_count": 38,
   "metadata": {},
   "outputs": [],
   "source": [
    "se = search_engine(nmslib_index=dim500_avg_searchindex,\n",
    "                   ref_data = test_raw,\n",
    "                   query2emb_func = q2emb.emb_mean)"
   ]
  },
  {
   "cell_type": "markdown",
   "metadata": {},
   "source": [
    "## Manually Inspect Phrase Similarity\n",
    "\n",
    "Compare a user-supplied query vs. vectorized docstrings on test set.  We can see that similar phrases are not exactly the same, but the nearest neighbors are reasonable.  "
   ]
  },
  {
   "cell_type": "code",
   "execution_count": 39,
   "metadata": {},
   "outputs": [],
   "source": [
    "import logging\n",
    "logging.getLogger().setLevel(logging.ERROR)"
   ]
  },
  {
   "cell_type": "code",
   "execution_count": 40,
   "metadata": {},
   "outputs": [
    {
     "name": "stdout",
     "output_type": "stream",
     "text": [
      "[38142 38143 80127 24325 42224 71183 70521 72260 72464 76163 30440 26989 21245 10689 35621 76189 28159 28160\n",
      " 13596  4353]\n",
      "cosine dist:0.0646\n",
      "---------------\n",
      " sound not clear\n",
      "\n",
      "cosine dist:0.0646\n",
      "---------------\n",
      " sound not clear\n",
      "\n",
      "cosine dist:0.0708\n",
      "---------------\n",
      " audio not working\n",
      "\n",
      "cosine dist:0.0871\n",
      "---------------\n",
      " audio mic dont work\n",
      "\n",
      "cosine dist:0.1074\n",
      "---------------\n",
      " audio bad suddenly\n",
      "\n",
      "cosine dist:0.1104\n",
      "---------------\n",
      " ggpz bass speaker not working\n",
      "\n",
      "cosine dist:0.1155\n",
      "---------------\n",
      " sound cuttinginout sides\n",
      "\n",
      "cosine dist:0.1155\n",
      "---------------\n",
      " sound cuttinginout sides\n",
      "\n",
      "cosine dist:0.1155\n",
      "---------------\n",
      " sound cuttinginout sides\n",
      "\n",
      "cosine dist:0.1155\n",
      "---------------\n",
      " sound cuttinginout sides\n",
      "\n",
      "cosine dist:0.1159\n",
      "---------------\n",
      " sound speaker browned\n",
      "\n",
      "cosine dist:0.1178\n",
      "---------------\n",
      " audio left bad mic isnt working\n",
      "\n",
      "cosine dist:0.1196\n",
      "---------------\n",
      " sound keeps going\n",
      "\n",
      "cosine dist:0.1266\n",
      "---------------\n",
      " sound suddenly stopped\n",
      "\n",
      "cosine dist:0.1288\n",
      "---------------\n",
      " mhxhz audio left headphone not work\n",
      "\n",
      "cosine dist:0.1298\n",
      "---------------\n",
      " audio doesnt work dont\n",
      "\n",
      "cosine dist:0.1322\n",
      "---------------\n",
      " audio left ear isnt working\n",
      "\n",
      "cosine dist:0.1322\n",
      "---------------\n",
      " audio left ear isnt working\n",
      "\n",
      "cosine dist:0.1331\n",
      "---------------\n",
      " sound feedback\n",
      "\n",
      "cosine dist:0.1370\n",
      "---------------\n",
      " audio cutting\n",
      "\n"
     ]
    }
   ],
   "source": [
    "se.search('audio is not good')"
   ]
  },
  {
   "cell_type": "code",
   "execution_count": 29,
   "metadata": {},
   "outputs": [
    {
     "name": "stdout",
     "output_type": "stream",
     "text": [
      "[59861 59859 81099 56918 73856]\n",
      "cosine dist:0.0852\n",
      "---------------\n",
      " lznmls connection issue wont work case\n",
      "\n",
      "cosine dist:0.1115\n",
      "---------------\n",
      " lznjff connection issues wont work case missing keys\n",
      "\n",
      "cosine dist:0.1186\n",
      "---------------\n",
      " lznowh connection issue keyboard wont connect ipad\n",
      "\n",
      "cosine dist:0.1227\n",
      "---------------\n",
      " lzmfq connection issues\n",
      "\n",
      "cosine dist:0.1278\n",
      "---------------\n",
      " lzxzhh wireless connection doesnt work properly\n",
      "\n"
     ]
    }
   ],
   "source": [
    "se.search(\"The connection is not working properly\")"
   ]
  },
  {
   "cell_type": "code",
   "execution_count": 15,
   "metadata": {},
   "outputs": [
    {
     "name": "stdout",
     "output_type": "stream",
     "text": [
      "[64058 43230 69121]\n",
      "cosine dist:0.0397\n",
      "---------------\n",
      " mk faux contacts itinerants pour pouvoir taper des lettres oblige secouer le keyboard pour taper du numerique le pave est inoperant et je dois passer en majuscules pour utiliser le lineaire quelle solution cdt\n",
      "\n",
      "cosine dist:0.0404\n",
      "---------------\n",
      " numero serie du produit gg dachat jai suivi les instructions tel quindique sur le courriel du service la clientele mais le probleme son persiste je desire donc faire une demande garantie voici le dernier courriel recu qui indique le numero reference stephane name kenneth understand would assistance bluetooth audio adapter apologize not getting back promptly regarding inquiry unfortunately experiencing higher average volume time shouldnt happening device suggest try steps isolate issue youve encountered move audio source closer might range speaker adapter move away sources wireless signal experiencing interference adjust volume audio source speakers restart speaker adapter audio source changes end kindly keep posted additional input please let future reference case reference allow quickly find history need additional help not receive reply request eventually closed solved sent gather feedback\n",
      "\n",
      "cosine dist:0.0445\n",
      "---------------\n",
      " en fait clavier ne semble plus fonctionner et je ne comprends pas du tout pourquoi au debut je pensais que la batterie etait morte mais apres les avoir changees cela ne fonctionne toujours pas je lai commande le avec le numero commande fact keyboard not seem work anymore not understand first thought battery dead change not work order order\n",
      "\n"
     ]
    }
   ],
   "source": [
    "se.search('Date la commande  Quelle est la procédure pour retourner le produit Doiton renvoyer le produit en France ou en Irlande ')"
   ]
  },
  {
   "cell_type": "code",
   "execution_count": 16,
   "metadata": {},
   "outputs": [
    {
     "name": "stdout",
     "output_type": "stream",
     "text": [
      "[58537 32476 45599]\n",
      "cosine dist:0.0596\n",
      "---------------\n",
      " battery life not reading correctly\n",
      "\n",
      "cosine dist:0.0747\n",
      "---------------\n",
      " battery not working earbuds battery erong color\n",
      "\n",
      "cosine dist:0.0747\n",
      "---------------\n",
      " battery not working earbuds battery erong color\n",
      "\n"
     ]
    }
   ],
   "source": [
    "se.search('Battery does not last long')"
   ]
  },
  {
   "cell_type": "code",
   "execution_count": 17,
   "metadata": {},
   "outputs": [
    {
     "name": "stdout",
     "output_type": "stream",
     "text": [
      "[62873 64434 80453]\n",
      "cosine dist:0.1164\n",
      "---------------\n",
      " lzx apresenta uma mancha na imagem\n",
      "\n",
      "cosine dist:0.1164\n",
      "---------------\n",
      " lzx apresenta uma mancha na imagem\n",
      "\n",
      "cosine dist:0.2022\n",
      "---------------\n",
      " lzfcl le boutton du centre scroll wheel ne fonctionne plus\n",
      "\n"
     ]
    }
   ],
   "source": [
    "se.search('Lidentifiant Keyboad ne fonctionne pas correctement')"
   ]
  },
  {
   "cell_type": "code",
   "execution_count": 18,
   "metadata": {},
   "outputs": [
    {
     "name": "stdout",
     "output_type": "stream",
     "text": [
      "[33068 43380  8661]\n",
      "cosine dist:0.0962\n",
      "---------------\n",
      " lzasd mouse no longer working\n",
      "\n",
      "cosine dist:0.1004\n",
      "---------------\n",
      " lzbby mouse no longer charges\n",
      "\n",
      "cosine dist:0.1292\n",
      "---------------\n",
      " lzdrzz mouse keeps studdering\n",
      "\n"
     ]
    }
   ],
   "source": [
    "se.search('the mouse almost no longer')"
   ]
  },
  {
   "cell_type": "code",
   "execution_count": 19,
   "metadata": {},
   "outputs": [
    {
     "name": "stdout",
     "output_type": "stream",
     "text": [
      "[81446 81447 14813]\n",
      "cosine dist:0.0538\n",
      "---------------\n",
      " lzjru merhaba sol tik cok zor basiyor\n",
      "\n",
      "cosine dist:0.0538\n",
      "---------------\n",
      " lzjru merhaba sol tik cok zor basiyor\n",
      "\n",
      "cosine dist:0.0744\n",
      "---------------\n",
      " bunu almak istiyorum ama sadece abd var gmt\n",
      "\n"
     ]
    }
   ],
   "source": [
    "se.search('cote gauche mon casque ne fonctionne plus')"
   ]
  },
  {
   "cell_type": "markdown",
   "metadata": {},
   "source": [
    "### Visualize Embeddings (Optional)\n",
    "\n",
    "We highly recommend using [tensorboard](https://www.tensorflow.org/versions/r1.0/get_started/embedding_viz) as way to visualize embeddings.  Tensorboard contains an interactive search that makes it easy (and fun) to explore embeddings.  We leave this as an exercise to the reader."
   ]
  },
  {
   "cell_type": "code",
   "execution_count": 20,
   "metadata": {},
   "outputs": [
    {
     "data": {
      "text/plain": [
       "['mrcb keyboard failed connect laptops plugging starts blinking keyboard keeps connecting disconnecting computer makes usb connect disconnect sound continuously impossible\\n',\n",
       " 'panasonic viera smart tvav receiver cd playersky box bluray player works fine cannot sound smart tv apps youtube netflix av receiver sound keep cutting every three seconds tried using digital optical cable hdmi cables help solve issue\\n',\n",
       " 'neet cancel order immediately\\n',\n",
       " 'chat not available please respond soon possible\\n',\n",
       " 'ive using jaybird freedom headphones year lost charging clip im currently battery no way charge way another charging clip jaybird freedoms\\n']"
      ]
     },
     "execution_count": 20,
     "metadata": {},
     "output_type": "execute_result"
    }
   ],
   "source": [
    "trn_raw[100:105]"
   ]
  },
  {
   "cell_type": "code",
   "execution_count": 21,
   "metadata": {},
   "outputs": [
    {
     "name": "stdout",
     "output_type": "stream",
     "text": [
      "Requirement already satisfied: email_reply_parser in /opt/conda/lib/python3.6/site-packages\n",
      "\u001b[33mYou are using pip version 9.0.1, however version 19.0.3 is available.\n",
      "You should consider upgrading via the 'pip install --upgrade pip' command.\u001b[0m\n"
     ]
    }
   ],
   "source": [
    "!pip install email_reply_parser"
   ]
  },
  {
   "cell_type": "code",
   "execution_count": 22,
   "metadata": {},
   "outputs": [],
   "source": [
    "import re\n",
    "from email_reply_parser import EmailReplyParser\n",
    "from bs4 import BeautifulSoup\n",
    "def preprocessing(x):\n",
    "    x = BeautifulSoup(x)\n",
    "    x = EmailReplyParser.parse_reply(x.get_text())\n",
    "    x = re.sub(r'<.*?>', '', x)\n",
    "    x = x.replace(\"\\n\", \" \").strip()\n",
    "    x = re.sub(pattern=r'[\\!\"#$%&\\*+,-./:;<=>?@^_`()|~=]', repl='', string=x)\n",
    "    x = x.replace(\"\\n\", \" \").strip()\n",
    "    x = x.strip()\n",
    "    x = re.sub(r\"(^|\\W)\\d+\", \"\", x)\n",
    "    x = x.lower()\n",
    "    x = re.sub(r'[^a-zA-Z]', ' ',x)\n",
    "    x = re.sub(\"\\s\\s+\", \" \", x)\n",
    "\n",
    "    \n",
    "    stopwords = {'forwarded','message','lz','logitech','dear', 'my', 'date', 'i', 'recently', \n",
    "                 'hi', 'hello', 'product', 'serial', 'number', '1', '2', '3', '4', '5', '6', \n",
    "                 '7', '8', '9', '0', 'purchased', 'purchase', 'support', 'http', 'com', \n",
    "                 'logitech', 'www', 'https', 'logi', 'customercare','contact', 'terms', 'blvd',\n",
    "                 'gateway', 'newark', 'usa', 'logo' ,'care', 'ca', 'footer', 'use', \n",
    "                 'customer', 'owned', 'us', 'survey', 'americas', 'copyright', 'headquarters', \n",
    "                 'owners', 'respective', 'the','rights', 'trademarks', 'reserved', 'property','dear','regards','thanks', \n",
    "                 'mail', 'email','lz','g','x','k','date','like','get','one','set','thank',\n",
    "                 'also','two','see','able','n','could','since','last','know','still','got','pm','p','n','s'\n",
    "              'operating','system','platform','ce','s','hs','y','mr', 'de','lfcm','sy','m','kh','w','ks','hs','afternoon','morning','regards','thx'\n",
    "              'thanks','fri', 'mon', 'tue', 'wed', 'thu', 'sat', 'sun', 'jan', 'feb',\n",
    "               'mar', 'apr', 'may', 'jun', 'jul', 'sep', 'oct', 'nov', 'dec'}\n",
    "\n",
    "    x = x.split()\n",
    "    x = [word for word in x if word.lower() not in stopwords]\n",
    "    x = ' '.join(x)\n",
    "    return x\n"
   ]
  },
  {
   "cell_type": "code",
   "execution_count": 23,
   "metadata": {},
   "outputs": [],
   "source": [
    "import spacy\n",
    "import pandas as pd\n",
    "import numpy as np\n",
    "import nltk\n",
    "from nltk.tokenize.toktok import ToktokTokenizer\n",
    "import re\n",
    "from bs4 import BeautifulSoup\n",
    "from contractions import CONTRACTION_MAP\n",
    "import unicodedata\n",
    "import re\n",
    "from email_reply_parser import EmailReplyParser\n",
    "from bs4 import BeautifulSoup\n",
    "nlp = spacy.load('en', parse = True, tag=True, entity=True)\n",
    "#nlp_vec = spacy.load('en_vecs', parse = True, tag=True, entity=True)\n",
    "tokenizer = ToktokTokenizer()\n",
    "stopword_list = nltk.corpus.stopwords.words('english')\n",
    "stopword_list.remove('no')\n",
    "stopword_list.remove('not')"
   ]
  },
  {
   "cell_type": "code",
   "execution_count": 24,
   "metadata": {},
   "outputs": [],
   "source": [
    "## Remove HTML tags and Get Primary Emails\n",
    "\n",
    "def strip_html_tags_primary_email(text):\n",
    "    soup = BeautifulSoup(text, \"html.parser\")\n",
    "    stripped_text = soup.get_text()\n",
    "    x = EmailReplyParser.parse_reply(stripped_text)\n",
    "    return x\n",
    "\n",
    "strip_html_tags_primary_email('<html><h2>Some important text</h2></html>')\n",
    "\n",
    "## Remove accented characters\n",
    "\n",
    "def remove_accented_chars(text):\n",
    "    text = unicodedata.normalize('NFKD', text).encode('ascii', 'ignore').decode('utf-8', 'ignore')\n",
    "    return text\n",
    "\n",
    "remove_accented_chars('Sómě Áccěntěd těxt')\n",
    "\n",
    "## Expand contractions\n",
    "\n",
    "\n",
    "def expand_contractions(text, contraction_mapping=CONTRACTION_MAP):\n",
    "    \n",
    "    contractions_pattern = re.compile('({})'.format('|'.join(contraction_mapping.keys())), \n",
    "                                      flags=re.IGNORECASE|re.DOTALL)\n",
    "    def expand_match(contraction):\n",
    "        match = contraction.group(0)\n",
    "        first_char = match[0]\n",
    "        expanded_contraction = contraction_mapping.get(match)\\\n",
    "                                if contraction_mapping.get(match)\\\n",
    "                                else contraction_mapping.get(match.lower())                       \n",
    "        expanded_contraction = first_char+expanded_contraction[1:]\n",
    "        return expanded_contraction\n",
    "        \n",
    "    expanded_text = contractions_pattern.sub(expand_match, text)\n",
    "    expanded_text = re.sub(\"'\", \"\", expanded_text)\n",
    "    return expanded_text\n",
    "\n",
    "expand_contractions(\"Y'all can't expand contractions I'd think\")\n",
    "\n",
    "## Remove special characters\n",
    "\n",
    "def remove_special_characters(text, remove_digits=False):\n",
    "    pattern = r'[^a-zA-Z0-9\\s]' if not remove_digits else r'[^a-zA-z\\s]'\n",
    "    text = re.sub(pattern, '', text)\n",
    "    return text\n",
    "\n",
    "remove_special_characters(\"Well this was fun! What do you think? 123#@!\", \n",
    "                          remove_digits=True)\n",
    "\n",
    "## Text lemmatization\n",
    "\n",
    "def lemmatize_text(text):\n",
    "    text = nlp(text)\n",
    "    text = ' '.join([word.lemma_ if word.lemma_ != '-PRON-' else word.text for word in text])\n",
    "    return text\n",
    "\n",
    "lemmatize_text(\"My system keeps crashing! his crashed yesterday, ours crashes daily\")\n",
    "\n",
    "## Text stemming\n",
    "\n",
    "def simple_stemmer(text):\n",
    "    ps = nltk.porter.PorterStemmer()\n",
    "    text = ' '.join([ps.stem(word) for word in text.split()])\n",
    "    return text\n",
    "\n",
    "simple_stemmer(\"My system keeps crashing his crashed yesterday, ours crashes daily\")\n",
    "\n",
    "## Remove stopwords\n",
    "\n",
    "def remove_stopwords(text, is_lower_case=False):\n",
    "    tokens = tokenizer.tokenize(text)\n",
    "    tokens = [token.strip() for token in tokens]\n",
    "    if is_lower_case:\n",
    "        filtered_tokens = [token for token in tokens if token not in stopword_list]\n",
    "    else:\n",
    "        filtered_tokens = [token for token in tokens if token.lower() not in stopword_list]\n",
    "    filtered_text = ' '.join(filtered_tokens)    \n",
    "    return filtered_text\n",
    "\n",
    "remove_stopwords(\"The, and, if are stopwords, computer is not\")\n",
    "\n",
    "## Customized Stop word removal\n",
    "\n",
    "def remove_stopwords_customized(text):\n",
    "\n",
    "\n",
    "    stopwords = {'forwarded','message','lz','logitech','dear', 'my', 'date', 'i', 'recently', \n",
    "                     'hi', 'hello', 'product', 'serial', 'number', '1', '2', '3', '4', '5', '6', \n",
    "                     '7', '8', '9', '0', 'purchased', 'purchase', 'support', 'http', 'com', \n",
    "                     'logitech', 'www', 'https', 'logi', 'customercare','contact', 'terms', 'blvd',\n",
    "                     'gateway', 'newark', 'usa', 'logo' ,'care', 'ca', 'footer', 'use', \n",
    "                     'customer', 'owned', 'us', 'survey', 'americas', 'copyright', 'headquarters', \n",
    "                     'owners', 'respective', 'the','rights', 'trademarks', 'reserved', 'property','dear','regards','thanks', \n",
    "                     'mail', 'email','lz','g','x','k','date','like','get','one','set','thank',\n",
    "                     'also','two','see','able','n','could','since','last','know','still','got','pm','p','n','s'\n",
    "                  'operating','system','platform','ce','s','hs','y','mr', 'de','lfcm','sy','m','kh','w','ks','hs','afternoon','morning','regards','thx'\n",
    "                  'thanks','fri', 'mon', 'tue', 'wed', 'thu', 'sat', 'sun', 'jan', 'feb',\n",
    "                   'mar', 'apr', 'may', 'jun', 'jul', 'sep', 'oct', 'nov', 'dec'}\n",
    "    x = text.split()\n",
    "    x = [word for word in x if word.lower() not in stopwords]\n",
    "    x = ' '.join(x)\n",
    "    return x\n",
    "\n",
    "remove_stopwords_customized(\"\"\"Hi Noor,\n",
    "             Dated: fri , may 2018,\n",
    "             My Mouse is not working from the day i have bought it\n",
    "             \n",
    "             Please Logitech do the necessary\n",
    "             \n",
    "             Thanks and Regards ,\n",
    "             Noordeen\"\"\")\n",
    "\n",
    "## Building a text preprocessing function\n",
    "\n",
    "\n",
    "\n",
    "def preprocessing(x):\n",
    "    try:\n",
    "        \n",
    "        x = strip_html_tags_primary_email(x)\n",
    "        #x = expand_contractions(x)\n",
    "        x = remove_accented_chars(x)\n",
    "        x = x.lower()\n",
    "        x = re.sub(r'[\\r|\\n|\\r\\n]+', ' ',x)\n",
    "        #x = lemmatize_text(x)\n",
    "        special_char_pattern = re.compile(r'([{.(-)!}])')\n",
    "        \n",
    "        x = special_char_pattern.sub(\" \\\\1 \", x)\n",
    "        x = remove_special_characters(x, remove_digits=True)  \n",
    "        x = re.sub(' +', ' ', x)    \n",
    "        x = remove_stopwords(x, is_lower_case=True)\n",
    "        x = remove_stopwords_customized(x)\n",
    "\n",
    "\n",
    "        #x = BeautifulSoup(x)\n",
    "        #x = EmailReplyParser.parse_reply(x.get_text())\n",
    "        x = re.sub(r'<.*?>', '', x)\n",
    "        x = x.replace(\"\\n\", \" \").strip()\n",
    "        x = re.sub(pattern=r'[\\!\"#$%&\\*+,-./:;<=>?@^_`()|~=]', repl='', string=x)\n",
    "        x = x.replace(\"\\n\", \" \").strip()\n",
    "        x = x.strip()\n",
    "        x = re.sub(r\"(^|\\W)\\d+\", \"\", x)\n",
    "        x = x.lower()\n",
    "        x = re.sub(r'[^a-zA-Z]', ' ',x)\n",
    "        x = re.sub(\"\\s\\s+\", \" \", x)\n",
    "\n",
    "\n",
    "        stopwords = {'forwarded','message','lz','logitech','dear', 'my', 'date', 'i', 'recently', \n",
    "                     'hi', 'hello', 'product', 'serial', 'number', '1', '2', '3', '4', '5', '6', \n",
    "                     '7', '8', '9', '0', 'purchased', 'purchase', 'support', 'http', 'com', \n",
    "                     'logitech', 'www', 'https', 'logi', 'customercare','contact', 'terms', 'blvd',\n",
    "                     'gateway', 'newark', 'usa', 'logo' ,'care', 'ca', 'footer', 'use', \n",
    "                     'customer', 'owned', 'us', 'survey', 'americas', 'copyright', 'headquarters', \n",
    "                     'owners', 'respective', 'the','rights', 'trademarks', 'reserved', 'property','dear','regards','thanks', \n",
    "                     'mail', 'email','lz','g','x','k','date','like','get','one','set','thank',\n",
    "                     'also','two','see','able','n','could','since','last','know','still','got','pm','p','n','s'\n",
    "                  'operating','system','platform','ce','s','hs','y','mr', 'de','lfcm','sy','m','kh','w','ks','hs','afternoon','morning','regards','thx'\n",
    "                  'thanks','fri', 'mon', 'tue', 'wed', 'thu', 'sat', 'sun', 'jan', 'feb',\n",
    "                   'mar', 'apr', 'may', 'jun', 'jul', 'sep', 'oct', 'nov', 'dec'}\n",
    "\n",
    "        x = x.split()\n",
    "        x = [word for word in x if word.lower() not in stopwords]\n",
    "        x = ' '.join(x)\n",
    "        return x\n",
    "    except():\n",
    "        return \"error\"\n",
    "    \n",
    "\n",
    "        x = x.split()\n",
    "        x = [word for word in x if word.lower() not in stopwords]\n",
    "        x = ' '.join(x)\n",
    "        return x\n",
    "    except():\n",
    "        return \"error\"\n",
    "    \n",
    "    \n",
    "import re\n",
    "def preprocess_2(x):\n",
    "    a = x.replace(\"\\n\",\"\")\n",
    "    a = re.sub(pattern=r'[\\!\"#$%&\\*+,-./:;<=>?@^_`()|~=]', \n",
    "                        repl='', \n",
    "                        string=a)\n",
    "    stopwords = {'umz','ltx','numberml','numbermr','numberlzn','numberlze','numbersy','numbersc','numberlznoata','h','numberlz','lz'}\n",
    "\n",
    "    a = a.split()\n",
    "    a = [word for word in a if word.lower() not in stopwords]\n",
    "    a = ' '.join(a)\n",
    "    return a.strip()\n"
   ]
  },
  {
   "cell_type": "code",
   "execution_count": null,
   "metadata": {},
   "outputs": [],
   "source": []
  },
  {
   "cell_type": "code",
   "execution_count": 25,
   "metadata": {},
   "outputs": [
    {
     "ename": "NameError",
     "evalue": "name 'df' is not defined",
     "output_type": "error",
     "traceback": [
      "\u001b[0;31m---------------------------------------------------------------------------\u001b[0m",
      "\u001b[0;31mNameError\u001b[0m                                 Traceback (most recent call last)",
      "\u001b[0;32m<ipython-input-25-3aed5f69835b>\u001b[0m in \u001b[0;36m<module>\u001b[0;34m()\u001b[0m\n\u001b[0;32m----> 1\u001b[0;31m \u001b[0mdf\u001b[0m\u001b[0;34m.\u001b[0m\u001b[0mreset_index\u001b[0m\u001b[0;34m(\u001b[0m\u001b[0minplace\u001b[0m\u001b[0;34m=\u001b[0m\u001b[0;32mTrue\u001b[0m\u001b[0;34m)\u001b[0m\u001b[0;34m\u001b[0m\u001b[0m\n\u001b[0m",
      "\u001b[0;31mNameError\u001b[0m: name 'df' is not defined"
     ]
    }
   ],
   "source": [
    "df.reset_index(inplace=True)"
   ]
  },
  {
   "cell_type": "code",
   "execution_count": 114,
   "metadata": {},
   "outputs": [],
   "source": [
    "class search_engine:\n",
    "    def __init__(self, \n",
    "                 nmslib_index, \n",
    "                 ref_data, \n",
    "                 query2emb_func):\n",
    "        \n",
    "        self.search_index = nmslib_index\n",
    "        self.data = ref_data\n",
    "        self.query2emb_func = query2emb_func\n",
    "    \n",
    "    def search(self, str_search, accountid, caseid, length, date, status, case_serial,webproductname, k=30):\n",
    "        preprocess = preprocessing(str_search)\n",
    "        preprocess = preprocess_2(preprocess)\n",
    "        #print(\"preprocess = \",preprocess)\n",
    "        query = self.query2emb_func(preprocess)\n",
    "        idxs, dists = self.search_index.knnQuery(query, k=k)\n",
    "        res = \"Not Duplicated\"\n",
    "        cols = ['accountid','case_number_1_id','case_1_description','case_number_2_id','case_2_description']\n",
    "        lst = []\n",
    "        vals = []\n",
    "        for idx, dist in zip(idxs, dists):\n",
    "            #print(f'cosine dist:{dist:.4f}\\n---------------\\n', self.data[idx])\n",
    "            #print(\"row id = \",idx)\n",
    "            #print(\"Account name = \",df.AccountID[idx])\n",
    "            #print(\"accountid = \",accountid)\n",
    "            #print(idx)\n",
    "\n",
    "              \n",
    "            if((accountid==df.AccountID[idx]) and (caseid!=df.CaseNumber[idx])):\n",
    "                \n",
    "                #cols = ['accountid','case_1_id','case_1_description','case_2_id','case_2_description']\n",
    "                vals = [accountid, df.CaseNumber[idx], df.Description[idx],df[\"Case Created Date\"][idx],df.Status[idx],df.Case_Serial[idx],df.webproductname[idx],df.length_original_data[idx],caseid,str_search,date,status,case_serial,webproductname,length,dist]\n",
    "                #lst.append(vals)\n",
    "    \n",
    "    \n",
    "                #lst_dict.append({'accountid':accountid, 'case_1_id':df.id[idx], 'case_1_description': df.description[idx]})\n",
    "\n",
    "                #dfres['accountid'] = accountid\n",
    "                #dfres['case_1_id'] = df.id[idx]\n",
    "                #dfres['case_1_description'] = df.description[idx]\n",
    "                #dfres['case_2_id'] = caseid\n",
    "                #dfres['case_2_description'] = str_search\n",
    "                #print(\"duplicated\")\n",
    "                res = \"Duplicated \",idx\n",
    "                #print(vals)\n",
    "                #continue\n",
    "            #print(\"----------------------------------\")\n",
    "        #print(\"Result = \",res)\n",
    "        #df1 = pd.DataFrame(lst, columns=cols)\n",
    "\n",
    "        return vals"
   ]
  },
  {
   "cell_type": "code",
   "execution_count": 115,
   "metadata": {},
   "outputs": [],
   "source": [
    "se = search_engine(nmslib_index=dim500_avg_searchindex,\n",
    "                   ref_data = test_raw,\n",
    "                   query2emb_func = q2emb.emb_mean)"
   ]
  },
  {
   "cell_type": "code",
   "execution_count": 116,
   "metadata": {},
   "outputs": [
    {
     "data": {
      "text/html": [
       "<div>\n",
       "<style scoped>\n",
       "    .dataframe tbody tr th:only-of-type {\n",
       "        vertical-align: middle;\n",
       "    }\n",
       "\n",
       "    .dataframe tbody tr th {\n",
       "        vertical-align: top;\n",
       "    }\n",
       "\n",
       "    .dataframe thead th {\n",
       "        text-align: right;\n",
       "    }\n",
       "</style>\n",
       "<table border=\"1\" class=\"dataframe\">\n",
       "  <thead>\n",
       "    <tr style=\"text-align: right;\">\n",
       "      <th></th>\n",
       "      <th>index</th>\n",
       "      <th>Case_Id</th>\n",
       "      <th>CaseNumber</th>\n",
       "      <th>AccountID</th>\n",
       "      <th>Case Created Date</th>\n",
       "      <th>webproductname</th>\n",
       "      <th>Status</th>\n",
       "      <th>Solution</th>\n",
       "      <th>Subject</th>\n",
       "      <th>Case_Serial</th>\n",
       "      <th>Description</th>\n",
       "      <th>full_text</th>\n",
       "      <th>lang</th>\n",
       "      <th>clean_data</th>\n",
       "      <th>length_clean_data</th>\n",
       "      <th>length_original_data</th>\n",
       "    </tr>\n",
       "  </thead>\n",
       "  <tbody>\n",
       "    <tr>\n",
       "      <th>0</th>\n",
       "      <td>0</td>\n",
       "      <td>5005A00000v1ZjhQAE</td>\n",
       "      <td>6890562</td>\n",
       "      <td>0015A0000225nxbQAA</td>\n",
       "      <td>2018-05-17 16:48:11</td>\n",
       "      <td>G502 Proteus Spectrum RGB Tunable Gaming Mouse</td>\n",
       "      <td>Closed Duplicate</td>\n",
       "      <td>NaN</td>\n",
       "      <td>Duplicate case of 06890525</td>\n",
       "      <td>1810lz0ecfq9</td>\n",
       "      <td>Hello, my name is Steven Godleski. I received ...</td>\n",
       "      <td>Duplicate case of 06890525. Hello, my name is ...</td>\n",
       "      <td>en</td>\n",
       "      <td>name steven godleski received rgb gift week ag...</td>\n",
       "      <td>308</td>\n",
       "      <td>606</td>\n",
       "    </tr>\n",
       "  </tbody>\n",
       "</table>\n",
       "</div>"
      ],
      "text/plain": [
       "   index             Case_Id  CaseNumber           AccountID  \\\n",
       "0      0  5005A00000v1ZjhQAE     6890562  0015A0000225nxbQAA   \n",
       "\n",
       "     Case Created Date                                  webproductname  \\\n",
       "0  2018-05-17 16:48:11  G502 Proteus Spectrum RGB Tunable Gaming Mouse   \n",
       "\n",
       "             Status Solution                     Subject   Case_Serial  \\\n",
       "0  Closed Duplicate      NaN  Duplicate case of 06890525  1810lz0ecfq9   \n",
       "\n",
       "                                         Description  \\\n",
       "0  Hello, my name is Steven Godleski. I received ...   \n",
       "\n",
       "                                           full_text lang  \\\n",
       "0  Duplicate case of 06890525. Hello, my name is ...   en   \n",
       "\n",
       "                                          clean_data  length_clean_data  \\\n",
       "0  name steven godleski received rgb gift week ag...                308   \n",
       "\n",
       "   length_original_data  \n",
       "0                   606  "
      ]
     },
     "execution_count": 116,
     "metadata": {},
     "output_type": "execute_result"
    }
   ],
   "source": [
    "df.head(1)"
   ]
  },
  {
   "cell_type": "code",
   "execution_count": 43,
   "metadata": {},
   "outputs": [
    {
     "ename": "KeyError",
     "evalue": "'index'",
     "output_type": "error",
     "traceback": [
      "\u001b[0;31m---------------------------------------------------------------------------\u001b[0m",
      "\u001b[0;31mKeyError\u001b[0m                                  Traceback (most recent call last)",
      "\u001b[0;32m/opt/conda/lib/python3.6/site-packages/pandas/core/indexes/base.py\u001b[0m in \u001b[0;36mget_loc\u001b[0;34m(self, key, method, tolerance)\u001b[0m\n\u001b[1;32m   3062\u001b[0m             \u001b[0;32mtry\u001b[0m\u001b[0;34m:\u001b[0m\u001b[0;34m\u001b[0m\u001b[0m\n\u001b[0;32m-> 3063\u001b[0;31m                 \u001b[0;32mreturn\u001b[0m \u001b[0mself\u001b[0m\u001b[0;34m.\u001b[0m\u001b[0m_engine\u001b[0m\u001b[0;34m.\u001b[0m\u001b[0mget_loc\u001b[0m\u001b[0;34m(\u001b[0m\u001b[0mkey\u001b[0m\u001b[0;34m)\u001b[0m\u001b[0;34m\u001b[0m\u001b[0m\n\u001b[0m\u001b[1;32m   3064\u001b[0m             \u001b[0;32mexcept\u001b[0m \u001b[0mKeyError\u001b[0m\u001b[0;34m:\u001b[0m\u001b[0;34m\u001b[0m\u001b[0m\n",
      "\u001b[0;32mpandas/_libs/index.pyx\u001b[0m in \u001b[0;36mpandas._libs.index.IndexEngine.get_loc\u001b[0;34m()\u001b[0m\n",
      "\u001b[0;32mpandas/_libs/index.pyx\u001b[0m in \u001b[0;36mpandas._libs.index.IndexEngine.get_loc\u001b[0;34m()\u001b[0m\n",
      "\u001b[0;32mpandas/_libs/hashtable_class_helper.pxi\u001b[0m in \u001b[0;36mpandas._libs.hashtable.PyObjectHashTable.get_item\u001b[0;34m()\u001b[0m\n",
      "\u001b[0;32mpandas/_libs/hashtable_class_helper.pxi\u001b[0m in \u001b[0;36mpandas._libs.hashtable.PyObjectHashTable.get_item\u001b[0;34m()\u001b[0m\n",
      "\u001b[0;31mKeyError\u001b[0m: 'index'",
      "\nDuring handling of the above exception, another exception occurred:\n",
      "\u001b[0;31mKeyError\u001b[0m                                  Traceback (most recent call last)",
      "\u001b[0;32m<ipython-input-43-bdd2cd78e55a>\u001b[0m in \u001b[0;36m<module>\u001b[0;34m()\u001b[0m\n\u001b[0;32m----> 1\u001b[0;31m \u001b[0;32mdel\u001b[0m \u001b[0mdf\u001b[0m\u001b[0;34m[\u001b[0m\u001b[0;34m\"index\"\u001b[0m\u001b[0;34m]\u001b[0m\u001b[0;34m\u001b[0m\u001b[0m\n\u001b[0m",
      "\u001b[0;32m/opt/conda/lib/python3.6/site-packages/pandas/core/generic.py\u001b[0m in \u001b[0;36m__delitem__\u001b[0;34m(self, key)\u001b[0m\n\u001b[1;32m   2738\u001b[0m             \u001b[0;31m# there was no match, this call should raise the appropriate\u001b[0m\u001b[0;34m\u001b[0m\u001b[0;34m\u001b[0m\u001b[0m\n\u001b[1;32m   2739\u001b[0m             \u001b[0;31m# exception:\u001b[0m\u001b[0;34m\u001b[0m\u001b[0;34m\u001b[0m\u001b[0m\n\u001b[0;32m-> 2740\u001b[0;31m             \u001b[0mself\u001b[0m\u001b[0;34m.\u001b[0m\u001b[0m_data\u001b[0m\u001b[0;34m.\u001b[0m\u001b[0mdelete\u001b[0m\u001b[0;34m(\u001b[0m\u001b[0mkey\u001b[0m\u001b[0;34m)\u001b[0m\u001b[0;34m\u001b[0m\u001b[0m\n\u001b[0m\u001b[1;32m   2741\u001b[0m \u001b[0;34m\u001b[0m\u001b[0m\n\u001b[1;32m   2742\u001b[0m         \u001b[0;31m# delete from the caches\u001b[0m\u001b[0;34m\u001b[0m\u001b[0;34m\u001b[0m\u001b[0m\n",
      "\u001b[0;32m/opt/conda/lib/python3.6/site-packages/pandas/core/internals.py\u001b[0m in \u001b[0;36mdelete\u001b[0;34m(self, item)\u001b[0m\n\u001b[1;32m   4172\u001b[0m         \u001b[0mDelete\u001b[0m \u001b[0mselected\u001b[0m \u001b[0mitem\u001b[0m \u001b[0;34m(\u001b[0m\u001b[0mitems\u001b[0m \u001b[0;32mif\u001b[0m \u001b[0mnon\u001b[0m\u001b[0;34m-\u001b[0m\u001b[0munique\u001b[0m\u001b[0;34m)\u001b[0m \u001b[0;32min\u001b[0m\u001b[0;34m-\u001b[0m\u001b[0mplace\u001b[0m\u001b[0;34m.\u001b[0m\u001b[0;34m\u001b[0m\u001b[0m\n\u001b[1;32m   4173\u001b[0m         \"\"\"\n\u001b[0;32m-> 4174\u001b[0;31m         \u001b[0mindexer\u001b[0m \u001b[0;34m=\u001b[0m \u001b[0mself\u001b[0m\u001b[0;34m.\u001b[0m\u001b[0mitems\u001b[0m\u001b[0;34m.\u001b[0m\u001b[0mget_loc\u001b[0m\u001b[0;34m(\u001b[0m\u001b[0mitem\u001b[0m\u001b[0;34m)\u001b[0m\u001b[0;34m\u001b[0m\u001b[0m\n\u001b[0m\u001b[1;32m   4175\u001b[0m \u001b[0;34m\u001b[0m\u001b[0m\n\u001b[1;32m   4176\u001b[0m         \u001b[0mis_deleted\u001b[0m \u001b[0;34m=\u001b[0m \u001b[0mnp\u001b[0m\u001b[0;34m.\u001b[0m\u001b[0mzeros\u001b[0m\u001b[0;34m(\u001b[0m\u001b[0mself\u001b[0m\u001b[0;34m.\u001b[0m\u001b[0mshape\u001b[0m\u001b[0;34m[\u001b[0m\u001b[0;36m0\u001b[0m\u001b[0;34m]\u001b[0m\u001b[0;34m,\u001b[0m \u001b[0mdtype\u001b[0m\u001b[0;34m=\u001b[0m\u001b[0mnp\u001b[0m\u001b[0;34m.\u001b[0m\u001b[0mbool_\u001b[0m\u001b[0;34m)\u001b[0m\u001b[0;34m\u001b[0m\u001b[0m\n",
      "\u001b[0;32m/opt/conda/lib/python3.6/site-packages/pandas/core/indexes/base.py\u001b[0m in \u001b[0;36mget_loc\u001b[0;34m(self, key, method, tolerance)\u001b[0m\n\u001b[1;32m   3063\u001b[0m                 \u001b[0;32mreturn\u001b[0m \u001b[0mself\u001b[0m\u001b[0;34m.\u001b[0m\u001b[0m_engine\u001b[0m\u001b[0;34m.\u001b[0m\u001b[0mget_loc\u001b[0m\u001b[0;34m(\u001b[0m\u001b[0mkey\u001b[0m\u001b[0;34m)\u001b[0m\u001b[0;34m\u001b[0m\u001b[0m\n\u001b[1;32m   3064\u001b[0m             \u001b[0;32mexcept\u001b[0m \u001b[0mKeyError\u001b[0m\u001b[0;34m:\u001b[0m\u001b[0;34m\u001b[0m\u001b[0m\n\u001b[0;32m-> 3065\u001b[0;31m                 \u001b[0;32mreturn\u001b[0m \u001b[0mself\u001b[0m\u001b[0;34m.\u001b[0m\u001b[0m_engine\u001b[0m\u001b[0;34m.\u001b[0m\u001b[0mget_loc\u001b[0m\u001b[0;34m(\u001b[0m\u001b[0mself\u001b[0m\u001b[0;34m.\u001b[0m\u001b[0m_maybe_cast_indexer\u001b[0m\u001b[0;34m(\u001b[0m\u001b[0mkey\u001b[0m\u001b[0;34m)\u001b[0m\u001b[0;34m)\u001b[0m\u001b[0;34m\u001b[0m\u001b[0m\n\u001b[0m\u001b[1;32m   3066\u001b[0m \u001b[0;34m\u001b[0m\u001b[0m\n\u001b[1;32m   3067\u001b[0m         \u001b[0mindexer\u001b[0m \u001b[0;34m=\u001b[0m \u001b[0mself\u001b[0m\u001b[0;34m.\u001b[0m\u001b[0mget_indexer\u001b[0m\u001b[0;34m(\u001b[0m\u001b[0;34m[\u001b[0m\u001b[0mkey\u001b[0m\u001b[0;34m]\u001b[0m\u001b[0;34m,\u001b[0m \u001b[0mmethod\u001b[0m\u001b[0;34m=\u001b[0m\u001b[0mmethod\u001b[0m\u001b[0;34m,\u001b[0m \u001b[0mtolerance\u001b[0m\u001b[0;34m=\u001b[0m\u001b[0mtolerance\u001b[0m\u001b[0;34m)\u001b[0m\u001b[0;34m\u001b[0m\u001b[0m\n",
      "\u001b[0;32mpandas/_libs/index.pyx\u001b[0m in \u001b[0;36mpandas._libs.index.IndexEngine.get_loc\u001b[0;34m()\u001b[0m\n",
      "\u001b[0;32mpandas/_libs/index.pyx\u001b[0m in \u001b[0;36mpandas._libs.index.IndexEngine.get_loc\u001b[0;34m()\u001b[0m\n",
      "\u001b[0;32mpandas/_libs/hashtable_class_helper.pxi\u001b[0m in \u001b[0;36mpandas._libs.hashtable.PyObjectHashTable.get_item\u001b[0;34m()\u001b[0m\n",
      "\u001b[0;32mpandas/_libs/hashtable_class_helper.pxi\u001b[0m in \u001b[0;36mpandas._libs.hashtable.PyObjectHashTable.get_item\u001b[0;34m()\u001b[0m\n",
      "\u001b[0;31mKeyError\u001b[0m: 'index'"
     ]
    }
   ],
   "source": [
    "del df[\"index\"]"
   ]
  },
  {
   "cell_type": "code",
   "execution_count": null,
   "metadata": {},
   "outputs": [],
   "source": []
  },
  {
   "cell_type": "code",
   "execution_count": 117,
   "metadata": {},
   "outputs": [],
   "source": [
    "df = df.reset_index()"
   ]
  },
  {
   "cell_type": "code",
   "execution_count": 45,
   "metadata": {},
   "outputs": [
    {
     "name": "stdout",
     "output_type": "stream",
     "text": [
      "Requirement already satisfied: progressbar in /opt/conda/lib/python3.6/site-packages\n",
      "\u001b[33mYou are using pip version 9.0.1, however version 19.0.3 is available.\n",
      "You should consider upgrading via the 'pip install --upgrade pip' command.\u001b[0m\n"
     ]
    }
   ],
   "source": [
    "!pip install progressbar"
   ]
  },
  {
   "cell_type": "code",
   "execution_count": 77,
   "metadata": {},
   "outputs": [
    {
     "name": "stdout",
     "output_type": "stream",
     "text": [
      "Collecting progressbar33\n",
      "Installing collected packages: progressbar33\n",
      "Successfully installed progressbar33-2.4\n",
      "\u001b[33mYou are using pip version 9.0.1, however version 19.0.3 is available.\n",
      "You should consider upgrading via the 'pip install --upgrade pip' command.\u001b[0m\n"
     ]
    }
   ],
   "source": [
    "!pip install progressbar33"
   ]
  },
  {
   "cell_type": "code",
   "execution_count": 78,
   "metadata": {
    "scrolled": true
   },
   "outputs": [
    {
     "name": "stdout",
     "output_type": "stream",
     "text": [
      "Requirement already satisfied: ipywidgets in /opt/conda/lib/python3.6/site-packages\n",
      "Requirement already satisfied: ipython>=4.0.0; python_version >= \"3.3\" in /opt/conda/lib/python3.6/site-packages (from ipywidgets)\n",
      "Requirement already satisfied: widgetsnbextension~=3.2.0 in /opt/conda/lib/python3.6/site-packages (from ipywidgets)\n",
      "Requirement already satisfied: nbformat>=4.2.0 in /opt/conda/lib/python3.6/site-packages (from ipywidgets)\n",
      "Requirement already satisfied: traitlets>=4.3.1 in /opt/conda/lib/python3.6/site-packages (from ipywidgets)\n",
      "Requirement already satisfied: ipykernel>=4.5.1 in /opt/conda/lib/python3.6/site-packages (from ipywidgets)\n",
      "Requirement already satisfied: pickleshare in /opt/conda/lib/python3.6/site-packages (from ipython>=4.0.0; python_version >= \"3.3\"->ipywidgets)\n",
      "Requirement already satisfied: jedi>=0.10 in /opt/conda/lib/python3.6/site-packages (from ipython>=4.0.0; python_version >= \"3.3\"->ipywidgets)\n",
      "Requirement already satisfied: setuptools>=18.5 in /opt/conda/lib/python3.6/site-packages (from ipython>=4.0.0; python_version >= \"3.3\"->ipywidgets)\n",
      "Requirement already satisfied: prompt-toolkit<2.0.0,>=1.0.15 in /opt/conda/lib/python3.6/site-packages (from ipython>=4.0.0; python_version >= \"3.3\"->ipywidgets)\n",
      "Requirement already satisfied: pexpect; sys_platform != \"win32\" in /opt/conda/lib/python3.6/site-packages (from ipython>=4.0.0; python_version >= \"3.3\"->ipywidgets)\n",
      "Requirement already satisfied: backcall in /opt/conda/lib/python3.6/site-packages (from ipython>=4.0.0; python_version >= \"3.3\"->ipywidgets)\n",
      "Requirement already satisfied: simplegeneric>0.8 in /opt/conda/lib/python3.6/site-packages (from ipython>=4.0.0; python_version >= \"3.3\"->ipywidgets)\n",
      "Requirement already satisfied: pygments in /opt/conda/lib/python3.6/site-packages (from ipython>=4.0.0; python_version >= \"3.3\"->ipywidgets)\n",
      "Requirement already satisfied: decorator in /opt/conda/lib/python3.6/site-packages (from ipython>=4.0.0; python_version >= \"3.3\"->ipywidgets)\n",
      "Requirement already satisfied: notebook>=4.4.1 in /opt/conda/lib/python3.6/site-packages (from widgetsnbextension~=3.2.0->ipywidgets)\n",
      "Requirement already satisfied: ipython_genutils in /opt/conda/lib/python3.6/site-packages (from nbformat>=4.2.0->ipywidgets)\n",
      "Requirement already satisfied: jsonschema!=2.5.0,>=2.4 in /opt/conda/lib/python3.6/site-packages (from nbformat>=4.2.0->ipywidgets)\n",
      "Requirement already satisfied: jupyter_core in /opt/conda/lib/python3.6/site-packages (from nbformat>=4.2.0->ipywidgets)\n",
      "Requirement already satisfied: six in /opt/conda/lib/python3.6/site-packages (from traitlets>=4.3.1->ipywidgets)\n",
      "Requirement already satisfied: tornado>=4.0 in /opt/conda/lib/python3.6/site-packages (from ipykernel>=4.5.1->ipywidgets)\n",
      "Requirement already satisfied: jupyter-client in /opt/conda/lib/python3.6/site-packages (from ipykernel>=4.5.1->ipywidgets)\n",
      "Requirement already satisfied: parso>=0.2.0 in /opt/conda/lib/python3.6/site-packages (from jedi>=0.10->ipython>=4.0.0; python_version >= \"3.3\"->ipywidgets)\n",
      "Requirement already satisfied: wcwidth in /opt/conda/lib/python3.6/site-packages (from prompt-toolkit<2.0.0,>=1.0.15->ipython>=4.0.0; python_version >= \"3.3\"->ipywidgets)\n",
      "Requirement already satisfied: ptyprocess>=0.5 in /opt/conda/lib/python3.6/site-packages (from pexpect; sys_platform != \"win32\"->ipython>=4.0.0; python_version >= \"3.3\"->ipywidgets)\n",
      "Requirement already satisfied: nbconvert in /opt/conda/lib/python3.6/site-packages (from notebook>=4.4.1->widgetsnbextension~=3.2.0->ipywidgets)\n",
      "Requirement already satisfied: jinja2 in /opt/conda/lib/python3.6/site-packages (from notebook>=4.4.1->widgetsnbextension~=3.2.0->ipywidgets)\n",
      "Requirement already satisfied: pyzmq>=17 in /opt/conda/lib/python3.6/site-packages (from notebook>=4.4.1->widgetsnbextension~=3.2.0->ipywidgets)\n",
      "Requirement already satisfied: terminado>=0.8.1 in /opt/conda/lib/python3.6/site-packages (from notebook>=4.4.1->widgetsnbextension~=3.2.0->ipywidgets)\n",
      "Requirement already satisfied: Send2Trash in /opt/conda/lib/python3.6/site-packages (from notebook>=4.4.1->widgetsnbextension~=3.2.0->ipywidgets)\n",
      "Requirement already satisfied: python-dateutil>=2.1 in /opt/conda/lib/python3.6/site-packages (from jupyter-client->ipykernel>=4.5.1->ipywidgets)\n",
      "Requirement already satisfied: mistune>=0.7.4 in /opt/conda/lib/python3.6/site-packages (from nbconvert->notebook>=4.4.1->widgetsnbextension~=3.2.0->ipywidgets)\n",
      "Requirement already satisfied: entrypoints>=0.2.2 in /opt/conda/lib/python3.6/site-packages (from nbconvert->notebook>=4.4.1->widgetsnbextension~=3.2.0->ipywidgets)\n",
      "Requirement already satisfied: bleach in /opt/conda/lib/python3.6/site-packages (from nbconvert->notebook>=4.4.1->widgetsnbextension~=3.2.0->ipywidgets)\n",
      "Requirement already satisfied: pandocfilters>=1.4.1 in /opt/conda/lib/python3.6/site-packages (from nbconvert->notebook>=4.4.1->widgetsnbextension~=3.2.0->ipywidgets)\n",
      "Requirement already satisfied: testpath in /opt/conda/lib/python3.6/site-packages (from nbconvert->notebook>=4.4.1->widgetsnbextension~=3.2.0->ipywidgets)\n",
      "Requirement already satisfied: MarkupSafe>=0.23 in /opt/conda/lib/python3.6/site-packages (from jinja2->notebook>=4.4.1->widgetsnbextension~=3.2.0->ipywidgets)\n",
      "Requirement already satisfied: html5lib!=1.0b1,!=1.0b2,!=1.0b3,!=1.0b4,!=1.0b5,!=1.0b6,!=1.0b7,!=1.0b8,>=0.99999999pre in /opt/conda/lib/python3.6/site-packages (from bleach->nbconvert->notebook>=4.4.1->widgetsnbextension~=3.2.0->ipywidgets)\n",
      "Requirement already satisfied: webencodings in /opt/conda/lib/python3.6/site-packages (from html5lib!=1.0b1,!=1.0b2,!=1.0b3,!=1.0b4,!=1.0b5,!=1.0b6,!=1.0b7,!=1.0b8,>=0.99999999pre->bleach->nbconvert->notebook>=4.4.1->widgetsnbextension~=3.2.0->ipywidgets)\n",
      "\u001b[33mYou are using pip version 9.0.1, however version 19.0.3 is available.\n",
      "You should consider upgrading via the 'pip install --upgrade pip' command.\u001b[0m\n",
      "Enabling notebook extension jupyter-js-widgets/extension...\n",
      "      - Validating: \u001b[32mOK\u001b[0m\n",
      "\n",
      "Errored, use --debug for full output:\n",
      "ValueError: Please install nodejs 5+ and npm before continuing. nodejs may be installed using conda or directly from the nodejs website.\n"
     ]
    }
   ],
   "source": [
    "!pip install ipywidgets \n",
    "!jupyter nbextension enable --py widgetsnbextension\n",
    "!jupyter labextension install @jupyter-widgets/jupyterlab-manager\n"
   ]
  },
  {
   "cell_type": "code",
   "execution_count": 79,
   "metadata": {},
   "outputs": [
    {
     "name": "stdout",
     "output_type": "stream",
     "text": [
      "Requirement already satisfied: pandas in /opt/conda/lib/python3.6/site-packages\n",
      "Requirement already satisfied: pytz>=2011k in /opt/conda/lib/python3.6/site-packages (from pandas)\n",
      "Requirement already satisfied: numpy>=1.9.0 in /opt/conda/lib/python3.6/site-packages (from pandas)\n",
      "Requirement already satisfied: python-dateutil>=2.5.0 in /opt/conda/lib/python3.6/site-packages (from pandas)\n",
      "Requirement already satisfied: six>=1.5 in /opt/conda/lib/python3.6/site-packages (from python-dateutil>=2.5.0->pandas)\n",
      "\u001b[33mYou are using pip version 9.0.1, however version 19.0.3 is available.\n",
      "You should consider upgrading via the 'pip install --upgrade pip' command.\u001b[0m\n"
     ]
    }
   ],
   "source": [
    "!pip install pandas"
   ]
  },
  {
   "cell_type": "code",
   "execution_count": 84,
   "metadata": {},
   "outputs": [
    {
     "name": "stdout",
     "output_type": "stream",
     "text": [
      "Requirement already satisfied: tqdm==4.23.4 in /opt/conda/lib/python3.6/site-packages\n",
      "\u001b[33mYou are using pip version 9.0.1, however version 19.0.3 is available.\n",
      "You should consider upgrading via the 'pip install --upgrade pip' command.\u001b[0m\n"
     ]
    }
   ],
   "source": [
    "!pip install tqdm==4.23.4"
   ]
  },
  {
   "cell_type": "code",
   "execution_count": 46,
   "metadata": {},
   "outputs": [
    {
     "data": {
      "text/plain": [
       "'4.23.4'"
      ]
     },
     "execution_count": 46,
     "metadata": {},
     "output_type": "execute_result"
    }
   ],
   "source": [
    "#pd.__version__\n",
    "import tqdm\n",
    "tqdm.__version__\n"
   ]
  },
  {
   "cell_type": "code",
   "execution_count": 47,
   "metadata": {},
   "outputs": [],
   "source": [
    "%%capture\n",
    "from tqdm import tqdm_notebook as tqdm\n",
    "tqdm().pandas()"
   ]
  },
  {
   "cell_type": "code",
   "execution_count": 48,
   "metadata": {},
   "outputs": [],
   "source": [
    "from progressbar import ProgressBar\n",
    "pbar = ProgressBar()\n",
    "from tqdm import tqdm, trange"
   ]
  },
  {
   "cell_type": "code",
   "execution_count": 118,
   "metadata": {},
   "outputs": [
    {
     "name": "stderr",
     "output_type": "stream",
     "text": [
      "100%|██████████| 87556/87556 [32:02<00:00, 45.55it/s] \n"
     ]
    }
   ],
   "source": [
    "import warnings\n",
    "warnings.filterwarnings('ignore')\n",
    "lst = []\n",
    "cols = ['accountid','case_number_1_id','case_1_description','case_1_date','case_1_Status','case_1_serialnumber','case_1_webproductname__c','length_case_1_description','case_number_2_id','case_2_description','case_2_date','case_2_Status','case_2_serialnumber','case_2_webproductname__c','length_case_2_description','distance']\n",
    "\n",
    "with tqdm(total=len(df)) as pbar:\n",
    "\n",
    "    for index, row in df.iterrows():\n",
    "        a = se.search(row[\"Description\"], row[\"AccountID\"],row[\"CaseNumber\"],row[\"length_original_data\"],row[\"Case Created Date\"],row['Status'],row['Case_Serial'],row['webproductname'])\n",
    "        pbar.update(1)\n",
    "        if len(a)!=0:\n",
    "            #print(a)\n",
    "            lst.append(a)\n",
    "\n",
    "    df1 = pd.DataFrame(lst, columns=cols)\n",
    "    df1.to_csv(\"duplicate1932019.csv\",index=False)\n",
    "    #df1.to_csv(\"duplicate22119.csv\",index=False)\n",
    "    #se.search(df.description[2141],df.accountid[2141],df.id[2141])"
   ]
  },
  {
   "cell_type": "code",
   "execution_count": 257,
   "metadata": {},
   "outputs": [],
   "source": [
    "df1 = pd.read_csv(\"duplicate1932019.csv\")"
   ]
  },
  {
   "cell_type": "code",
   "execution_count": 258,
   "metadata": {},
   "outputs": [
    {
     "data": {
      "text/html": [
       "<div>\n",
       "<style scoped>\n",
       "    .dataframe tbody tr th:only-of-type {\n",
       "        vertical-align: middle;\n",
       "    }\n",
       "\n",
       "    .dataframe tbody tr th {\n",
       "        vertical-align: top;\n",
       "    }\n",
       "\n",
       "    .dataframe thead th {\n",
       "        text-align: right;\n",
       "    }\n",
       "</style>\n",
       "<table border=\"1\" class=\"dataframe\">\n",
       "  <thead>\n",
       "    <tr style=\"text-align: right;\">\n",
       "      <th></th>\n",
       "      <th>accountid</th>\n",
       "      <th>case_number_1_id</th>\n",
       "      <th>case_1_description</th>\n",
       "      <th>case_1_date</th>\n",
       "      <th>case_1_Status</th>\n",
       "      <th>case_1_serialnumber</th>\n",
       "      <th>case_1_webproductname__c</th>\n",
       "      <th>length_case_1_description</th>\n",
       "      <th>case_number_2_id</th>\n",
       "      <th>case_2_description</th>\n",
       "      <th>case_2_date</th>\n",
       "      <th>case_2_Status</th>\n",
       "      <th>case_2_serialnumber</th>\n",
       "      <th>case_2_webproductname__c</th>\n",
       "      <th>length_case_2_description</th>\n",
       "      <th>distance</th>\n",
       "    </tr>\n",
       "  </thead>\n",
       "  <tbody>\n",
       "    <tr>\n",
       "      <th>0</th>\n",
       "      <td>0015A0000225nxbQAA</td>\n",
       "      <td>6890525</td>\n",
       "      <td>Hello, my name is Steven Godleski. I received ...</td>\n",
       "      <td>2018-05-17 16:39:44</td>\n",
       "      <td>Solved</td>\n",
       "      <td>1810lz0ecfq9</td>\n",
       "      <td>G502 Proteus Spectrum RGB Tunable Gaming Mouse</td>\n",
       "      <td>606</td>\n",
       "      <td>6890562</td>\n",
       "      <td>Hello, my name is Steven Godleski. I received ...</td>\n",
       "      <td>2018-05-17 16:48:11</td>\n",
       "      <td>Closed Duplicate</td>\n",
       "      <td>1810lz0ecfq9</td>\n",
       "      <td>G502 Proteus Spectrum RGB Tunable Gaming Mouse</td>\n",
       "      <td>606</td>\n",
       "      <td>5.245900e-02</td>\n",
       "    </tr>\n",
       "    <tr>\n",
       "      <th>1</th>\n",
       "      <td>0015A0000225nxbQAA</td>\n",
       "      <td>6890562</td>\n",
       "      <td>Hello, my name is Steven Godleski. I received ...</td>\n",
       "      <td>2018-05-17 16:48:11</td>\n",
       "      <td>Closed Duplicate</td>\n",
       "      <td>1810lz0ecfq9</td>\n",
       "      <td>G502 Proteus Spectrum RGB Tunable Gaming Mouse</td>\n",
       "      <td>606</td>\n",
       "      <td>6890525</td>\n",
       "      <td>Hello, my name is Steven Godleski. I received ...</td>\n",
       "      <td>2018-05-17 16:39:44</td>\n",
       "      <td>Solved</td>\n",
       "      <td>1810lz0ecfq9</td>\n",
       "      <td>G502 Proteus Spectrum RGB Tunable Gaming Mouse</td>\n",
       "      <td>606</td>\n",
       "      <td>5.245900e-02</td>\n",
       "    </tr>\n",
       "    <tr>\n",
       "      <th>2</th>\n",
       "      <td>0015A000021TgIYQA0</td>\n",
       "      <td>6890887</td>\n",
       "      <td>It will not charge  i have 3 speakers  and nev...</td>\n",
       "      <td>2018-05-17 18:10:40</td>\n",
       "      <td>Closed Duplicate</td>\n",
       "      <td>NaN</td>\n",
       "      <td>Logitech UE Boombox</td>\n",
       "      <td>60</td>\n",
       "      <td>6890842</td>\n",
       "      <td>It will not charge  i have 3 speakers  and nev...</td>\n",
       "      <td>2018-05-17 18:00:10</td>\n",
       "      <td>Closed Duplicate</td>\n",
       "      <td>NaN</td>\n",
       "      <td>Logitech UE Boombox</td>\n",
       "      <td>60</td>\n",
       "      <td>5.960464e-07</td>\n",
       "    </tr>\n",
       "    <tr>\n",
       "      <th>3</th>\n",
       "      <td>0015A000021TgIYQA0</td>\n",
       "      <td>6890842</td>\n",
       "      <td>It will not charge  i have 3 speakers  and nev...</td>\n",
       "      <td>2018-05-17 18:00:10</td>\n",
       "      <td>Closed Duplicate</td>\n",
       "      <td>NaN</td>\n",
       "      <td>Logitech UE Boombox</td>\n",
       "      <td>60</td>\n",
       "      <td>6890887</td>\n",
       "      <td>It will not charge  i have 3 speakers  and nev...</td>\n",
       "      <td>2018-05-17 18:10:40</td>\n",
       "      <td>Closed Duplicate</td>\n",
       "      <td>NaN</td>\n",
       "      <td>Logitech UE Boombox</td>\n",
       "      <td>60</td>\n",
       "      <td>5.960464e-07</td>\n",
       "    </tr>\n",
       "    <tr>\n",
       "      <th>4</th>\n",
       "      <td>0015A0000225pKHQAY</td>\n",
       "      <td>6891365</td>\n",
       "      <td>My left click button and the one of the side b...</td>\n",
       "      <td>2018-05-17 20:21:36</td>\n",
       "      <td>Solved</td>\n",
       "      <td>1637LZ0ECLZ8</td>\n",
       "      <td>G303 Daedalus Apex Performance Edition Gaming ...</td>\n",
       "      <td>263</td>\n",
       "      <td>6891412</td>\n",
       "      <td>My left click button and the one of the side b...</td>\n",
       "      <td>2018-05-17 20:32:01</td>\n",
       "      <td>Closed Duplicate</td>\n",
       "      <td>1637LZ0ECLZ8</td>\n",
       "      <td>G303 Daedalus Apex Performance Edition Gaming ...</td>\n",
       "      <td>263</td>\n",
       "      <td>0.000000e+00</td>\n",
       "    </tr>\n",
       "  </tbody>\n",
       "</table>\n",
       "</div>"
      ],
      "text/plain": [
       "            accountid  case_number_1_id  \\\n",
       "0  0015A0000225nxbQAA           6890525   \n",
       "1  0015A0000225nxbQAA           6890562   \n",
       "2  0015A000021TgIYQA0           6890887   \n",
       "3  0015A000021TgIYQA0           6890842   \n",
       "4  0015A0000225pKHQAY           6891365   \n",
       "\n",
       "                                  case_1_description          case_1_date  \\\n",
       "0  Hello, my name is Steven Godleski. I received ...  2018-05-17 16:39:44   \n",
       "1  Hello, my name is Steven Godleski. I received ...  2018-05-17 16:48:11   \n",
       "2  It will not charge  i have 3 speakers  and nev...  2018-05-17 18:10:40   \n",
       "3  It will not charge  i have 3 speakers  and nev...  2018-05-17 18:00:10   \n",
       "4  My left click button and the one of the side b...  2018-05-17 20:21:36   \n",
       "\n",
       "      case_1_Status case_1_serialnumber  \\\n",
       "0            Solved        1810lz0ecfq9   \n",
       "1  Closed Duplicate        1810lz0ecfq9   \n",
       "2  Closed Duplicate                 NaN   \n",
       "3  Closed Duplicate                 NaN   \n",
       "4            Solved        1637LZ0ECLZ8   \n",
       "\n",
       "                            case_1_webproductname__c  \\\n",
       "0     G502 Proteus Spectrum RGB Tunable Gaming Mouse   \n",
       "1     G502 Proteus Spectrum RGB Tunable Gaming Mouse   \n",
       "2                                Logitech UE Boombox   \n",
       "3                                Logitech UE Boombox   \n",
       "4  G303 Daedalus Apex Performance Edition Gaming ...   \n",
       "\n",
       "   length_case_1_description  case_number_2_id  \\\n",
       "0                        606           6890562   \n",
       "1                        606           6890525   \n",
       "2                         60           6890842   \n",
       "3                         60           6890887   \n",
       "4                        263           6891412   \n",
       "\n",
       "                                  case_2_description          case_2_date  \\\n",
       "0  Hello, my name is Steven Godleski. I received ...  2018-05-17 16:48:11   \n",
       "1  Hello, my name is Steven Godleski. I received ...  2018-05-17 16:39:44   \n",
       "2  It will not charge  i have 3 speakers  and nev...  2018-05-17 18:00:10   \n",
       "3  It will not charge  i have 3 speakers  and nev...  2018-05-17 18:10:40   \n",
       "4  My left click button and the one of the side b...  2018-05-17 20:32:01   \n",
       "\n",
       "      case_2_Status case_2_serialnumber  \\\n",
       "0  Closed Duplicate        1810lz0ecfq9   \n",
       "1            Solved        1810lz0ecfq9   \n",
       "2  Closed Duplicate                 NaN   \n",
       "3  Closed Duplicate                 NaN   \n",
       "4  Closed Duplicate        1637LZ0ECLZ8   \n",
       "\n",
       "                            case_2_webproductname__c  \\\n",
       "0     G502 Proteus Spectrum RGB Tunable Gaming Mouse   \n",
       "1     G502 Proteus Spectrum RGB Tunable Gaming Mouse   \n",
       "2                                Logitech UE Boombox   \n",
       "3                                Logitech UE Boombox   \n",
       "4  G303 Daedalus Apex Performance Edition Gaming ...   \n",
       "\n",
       "   length_case_2_description      distance  \n",
       "0                        606  5.245900e-02  \n",
       "1                        606  5.245900e-02  \n",
       "2                         60  5.960464e-07  \n",
       "3                         60  5.960464e-07  \n",
       "4                        263  0.000000e+00  "
      ]
     },
     "execution_count": 258,
     "metadata": {},
     "output_type": "execute_result"
    }
   ],
   "source": [
    "df1.head() "
   ]
  },
  {
   "cell_type": "code",
   "execution_count": 259,
   "metadata": {},
   "outputs": [
    {
     "data": {
      "text/plain": [
       "(33063, 16)"
      ]
     },
     "execution_count": 259,
     "metadata": {},
     "output_type": "execute_result"
    }
   ],
   "source": [
    "df1.shape"
   ]
  },
  {
   "cell_type": "code",
   "execution_count": 260,
   "metadata": {},
   "outputs": [
    {
     "data": {
      "text/plain": [
       "Index(['accountid', 'case_number_1_id', 'case_1_description', 'case_1_date',\n",
       "       'case_1_Status', 'case_1_serialnumber', 'case_1_webproductname__c',\n",
       "       'length_case_1_description', 'case_number_2_id', 'case_2_description',\n",
       "       'case_2_date', 'case_2_Status', 'case_2_serialnumber',\n",
       "       'case_2_webproductname__c', 'length_case_2_description', 'distance'],\n",
       "      dtype='object')"
      ]
     },
     "execution_count": 260,
     "metadata": {},
     "output_type": "execute_result"
    }
   ],
   "source": [
    "df1.columns"
   ]
  },
  {
   "cell_type": "code",
   "execution_count": 243,
   "metadata": {},
   "outputs": [],
   "source": [
    "del df1[\"index\"]"
   ]
  },
  {
   "cell_type": "code",
   "execution_count": null,
   "metadata": {},
   "outputs": [],
   "source": []
  },
  {
   "cell_type": "code",
   "execution_count": 261,
   "metadata": {},
   "outputs": [],
   "source": [
    "df1.reset_index(inplace=True)"
   ]
  },
  {
   "cell_type": "code",
   "execution_count": 262,
   "metadata": {},
   "outputs": [],
   "source": [
    "del df1[\"index\"]"
   ]
  },
  {
   "cell_type": "code",
   "execution_count": 263,
   "metadata": {},
   "outputs": [
    {
     "data": {
      "text/plain": [
       "(14411, 20)"
      ]
     },
     "execution_count": 263,
     "metadata": {},
     "output_type": "execute_result"
    }
   ],
   "source": [
    "df1[\"case_1_timestamp\"] = df1.case_1_date.apply(lambda x: pd.to_datetime(x))\n",
    "\n",
    "df1[\"case_2_timestamp\"] = df1.case_2_date.apply(lambda x: pd.to_datetime(x))\n",
    "\n",
    "df1[\"case_1_first\"] = df1[\"case_1_timestamp\"]<df1[\"case_2_timestamp\"]\n",
    "\n",
    "def drop_custom_dup(x):\n",
    "    if x[\"case_1_first\"]:\n",
    "        return int(str(x[\"case_number_1_id\"]) + str(x[\"case_number_2_id\"]))\n",
    "    else:\n",
    "        return int(str(x[\"case_number_2_id\"]) + str(x[\"case_number_1_id\"]))\n",
    "\n",
    "df1[\"case_merge\"] = df1.apply(drop_custom_dup,axis=1)\n",
    "\n",
    "df1.drop_duplicates(subset=[\"case_merge\"],inplace=True)\n",
    "\n",
    "df1.shape"
   ]
  },
  {
   "cell_type": "code",
   "execution_count": 264,
   "metadata": {},
   "outputs": [],
   "source": [
    "\n",
    "cols = ['accountid',\n",
    " 'case_number_1_id',\n",
    " 'case_1_description',\n",
    " 'case_1_date',\n",
    " 'case_1_Status',\n",
    " 'case_1_serialnumber',\n",
    " 'case_1_webproductname__c',\n",
    " 'length_case_1_description',\n",
    " 'case_number_2_id',\n",
    " 'case_2_description',\n",
    " 'case_2_date',\n",
    " 'case_2_Status',\n",
    " 'case_2_serialnumber',\n",
    " 'case_2_webproductname__c',\n",
    " 'length_case_2_description',\n",
    " 'case_1_timestamp',\n",
    " 'case_2_timestamp',\n",
    " 'distance']\n",
    "lst = []\n",
    "\n",
    "for i,row in df1.iterrows():\n",
    "    if row['case_1_first']==True:\n",
    "        \n",
    "        lst.append([row['accountid'], row['case_number_1_id'], row['case_1_description'],row['case_1_date'],row['case_1_Status'],row['case_1_serialnumber'],row['case_1_webproductname__c'],row['length_case_1_description'],row['case_number_2_id'],\n",
    "                   row['case_2_description'],row['case_2_date'],row['case_2_Status'],row['case_2_serialnumber'],row['case_2_webproductname__c'],row['length_case_2_description'],row['case_1_timestamp'],row['case_2_timestamp'],row['distance']])\n",
    "    else:\n",
    "        #print(\"case2\")\n",
    "\n",
    "        lst.append([row['accountid'], \n",
    "                    row['case_number_2_id'], row['case_2_description'],row['case_2_date'],row['case_2_Status'],row['case_2_serialnumber'],row['case_2_webproductname__c'],row['length_case_2_description'],\n",
    "                    row['case_number_1_id'], row['case_1_description'],row['case_1_date'],row['case_1_Status'],row['case_1_serialnumber'],row['case_1_webproductname__c'],row['length_case_1_description'],\n",
    "                    row['case_2_timestamp'],row['case_1_timestamp'],row['distance']])\n",
    "\n",
    "        \n",
    "\n",
    "df1 = pd.DataFrame(lst, columns=cols)      "
   ]
  },
  {
   "cell_type": "code",
   "execution_count": 265,
   "metadata": {},
   "outputs": [
    {
     "data": {
      "text/plain": [
       "(14411, 18)"
      ]
     },
     "execution_count": 265,
     "metadata": {},
     "output_type": "execute_result"
    }
   ],
   "source": [
    "df1.shape"
   ]
  },
  {
   "cell_type": "code",
   "execution_count": 266,
   "metadata": {},
   "outputs": [],
   "source": [
    "full_duplicate = df1"
   ]
  },
  {
   "cell_type": "code",
   "execution_count": 267,
   "metadata": {},
   "outputs": [
    {
     "data": {
      "text/plain": [
       "(14411, 18)"
      ]
     },
     "execution_count": 267,
     "metadata": {},
     "output_type": "execute_result"
    }
   ],
   "source": [
    "full_duplicate.shape"
   ]
  },
  {
   "cell_type": "code",
   "execution_count": 268,
   "metadata": {},
   "outputs": [
    {
     "data": {
      "text/html": [
       "<div>\n",
       "<style scoped>\n",
       "    .dataframe tbody tr th:only-of-type {\n",
       "        vertical-align: middle;\n",
       "    }\n",
       "\n",
       "    .dataframe tbody tr th {\n",
       "        vertical-align: top;\n",
       "    }\n",
       "\n",
       "    .dataframe thead th {\n",
       "        text-align: right;\n",
       "    }\n",
       "</style>\n",
       "<table border=\"1\" class=\"dataframe\">\n",
       "  <thead>\n",
       "    <tr style=\"text-align: right;\">\n",
       "      <th></th>\n",
       "      <th>accountid</th>\n",
       "      <th>case_number_1_id</th>\n",
       "      <th>case_1_description</th>\n",
       "      <th>case_1_date</th>\n",
       "      <th>case_1_Status</th>\n",
       "      <th>case_1_serialnumber</th>\n",
       "      <th>case_1_webproductname__c</th>\n",
       "      <th>length_case_1_description</th>\n",
       "      <th>case_number_2_id</th>\n",
       "      <th>case_2_description</th>\n",
       "      <th>case_2_date</th>\n",
       "      <th>case_2_Status</th>\n",
       "      <th>case_2_serialnumber</th>\n",
       "      <th>case_2_webproductname__c</th>\n",
       "      <th>length_case_2_description</th>\n",
       "      <th>case_1_timestamp</th>\n",
       "      <th>case_2_timestamp</th>\n",
       "      <th>distance</th>\n",
       "    </tr>\n",
       "  </thead>\n",
       "  <tbody>\n",
       "    <tr>\n",
       "      <th>0</th>\n",
       "      <td>0015A0000225nxbQAA</td>\n",
       "      <td>6890525</td>\n",
       "      <td>Hello, my name is Steven Godleski. I received ...</td>\n",
       "      <td>2018-05-17 16:39:44</td>\n",
       "      <td>Solved</td>\n",
       "      <td>1810lz0ecfq9</td>\n",
       "      <td>G502 Proteus Spectrum RGB Tunable Gaming Mouse</td>\n",
       "      <td>606</td>\n",
       "      <td>6890562</td>\n",
       "      <td>Hello, my name is Steven Godleski. I received ...</td>\n",
       "      <td>2018-05-17 16:48:11</td>\n",
       "      <td>Closed Duplicate</td>\n",
       "      <td>1810lz0ecfq9</td>\n",
       "      <td>G502 Proteus Spectrum RGB Tunable Gaming Mouse</td>\n",
       "      <td>606</td>\n",
       "      <td>2018-05-17 16:39:44</td>\n",
       "      <td>2018-05-17 16:48:11</td>\n",
       "      <td>5.245900e-02</td>\n",
       "    </tr>\n",
       "    <tr>\n",
       "      <th>1</th>\n",
       "      <td>0015A000021TgIYQA0</td>\n",
       "      <td>6890842</td>\n",
       "      <td>It will not charge  i have 3 speakers  and nev...</td>\n",
       "      <td>2018-05-17 18:00:10</td>\n",
       "      <td>Closed Duplicate</td>\n",
       "      <td>NaN</td>\n",
       "      <td>Logitech UE Boombox</td>\n",
       "      <td>60</td>\n",
       "      <td>6890887</td>\n",
       "      <td>It will not charge  i have 3 speakers  and nev...</td>\n",
       "      <td>2018-05-17 18:10:40</td>\n",
       "      <td>Closed Duplicate</td>\n",
       "      <td>NaN</td>\n",
       "      <td>Logitech UE Boombox</td>\n",
       "      <td>60</td>\n",
       "      <td>2018-05-17 18:00:10</td>\n",
       "      <td>2018-05-17 18:10:40</td>\n",
       "      <td>5.960464e-07</td>\n",
       "    </tr>\n",
       "    <tr>\n",
       "      <th>2</th>\n",
       "      <td>0015A0000225pKHQAY</td>\n",
       "      <td>6891365</td>\n",
       "      <td>My left click button and the one of the side b...</td>\n",
       "      <td>2018-05-17 20:21:36</td>\n",
       "      <td>Solved</td>\n",
       "      <td>1637LZ0ECLZ8</td>\n",
       "      <td>G303 Daedalus Apex Performance Edition Gaming ...</td>\n",
       "      <td>263</td>\n",
       "      <td>6891412</td>\n",
       "      <td>My left click button and the one of the side b...</td>\n",
       "      <td>2018-05-17 20:32:01</td>\n",
       "      <td>Closed Duplicate</td>\n",
       "      <td>1637LZ0ECLZ8</td>\n",
       "      <td>G303 Daedalus Apex Performance Edition Gaming ...</td>\n",
       "      <td>263</td>\n",
       "      <td>2018-05-17 20:21:36</td>\n",
       "      <td>2018-05-17 20:32:01</td>\n",
       "      <td>0.000000e+00</td>\n",
       "    </tr>\n",
       "    <tr>\n",
       "      <th>3</th>\n",
       "      <td>0015A000021TqToQAK</td>\n",
       "      <td>6891518</td>\n",
       "      <td>V button not working</td>\n",
       "      <td>2018-05-17 21:03:39</td>\n",
       "      <td>Solved</td>\n",
       "      <td>See 06880191</td>\n",
       "      <td>MK540 ADVANCED Wireless Keyboard and Mouse Combo</td>\n",
       "      <td>20</td>\n",
       "      <td>6891624</td>\n",
       "      <td>V button not working</td>\n",
       "      <td>2018-05-17 21:36:26</td>\n",
       "      <td>Closed Duplicate</td>\n",
       "      <td>See 06880191</td>\n",
       "      <td>Advanced Combo</td>\n",
       "      <td>20</td>\n",
       "      <td>2018-05-17 21:03:39</td>\n",
       "      <td>2018-05-17 21:36:26</td>\n",
       "      <td>1.192093e-07</td>\n",
       "    </tr>\n",
       "    <tr>\n",
       "      <th>4</th>\n",
       "      <td>0015A0000225o3jQAA</td>\n",
       "      <td>6890593</td>\n",
       "      <td>Just bought new MK735 and can not get it to wo...</td>\n",
       "      <td>2018-05-17 17:00:53</td>\n",
       "      <td>Solved</td>\n",
       "      <td>JNZYR0059</td>\n",
       "      <td>Wireless Desktop MK710</td>\n",
       "      <td>61</td>\n",
       "      <td>6890652</td>\n",
       "      <td>Just bought the mk735 keyboard combo and can n...</td>\n",
       "      <td>2018-05-17 17:13:25</td>\n",
       "      <td>Closed Duplicate</td>\n",
       "      <td>JNZYR0059</td>\n",
       "      <td>MK735 Performance</td>\n",
       "      <td>138</td>\n",
       "      <td>2018-05-17 17:00:53</td>\n",
       "      <td>2018-05-17 17:13:25</td>\n",
       "      <td>1.306338e-01</td>\n",
       "    </tr>\n",
       "  </tbody>\n",
       "</table>\n",
       "</div>"
      ],
      "text/plain": [
       "            accountid  case_number_1_id  \\\n",
       "0  0015A0000225nxbQAA           6890525   \n",
       "1  0015A000021TgIYQA0           6890842   \n",
       "2  0015A0000225pKHQAY           6891365   \n",
       "3  0015A000021TqToQAK           6891518   \n",
       "4  0015A0000225o3jQAA           6890593   \n",
       "\n",
       "                                  case_1_description          case_1_date  \\\n",
       "0  Hello, my name is Steven Godleski. I received ...  2018-05-17 16:39:44   \n",
       "1  It will not charge  i have 3 speakers  and nev...  2018-05-17 18:00:10   \n",
       "2  My left click button and the one of the side b...  2018-05-17 20:21:36   \n",
       "3                               V button not working  2018-05-17 21:03:39   \n",
       "4  Just bought new MK735 and can not get it to wo...  2018-05-17 17:00:53   \n",
       "\n",
       "      case_1_Status case_1_serialnumber  \\\n",
       "0            Solved        1810lz0ecfq9   \n",
       "1  Closed Duplicate                 NaN   \n",
       "2            Solved        1637LZ0ECLZ8   \n",
       "3            Solved        See 06880191   \n",
       "4            Solved           JNZYR0059   \n",
       "\n",
       "                            case_1_webproductname__c  \\\n",
       "0     G502 Proteus Spectrum RGB Tunable Gaming Mouse   \n",
       "1                                Logitech UE Boombox   \n",
       "2  G303 Daedalus Apex Performance Edition Gaming ...   \n",
       "3   MK540 ADVANCED Wireless Keyboard and Mouse Combo   \n",
       "4                             Wireless Desktop MK710   \n",
       "\n",
       "   length_case_1_description  case_number_2_id  \\\n",
       "0                        606           6890562   \n",
       "1                         60           6890887   \n",
       "2                        263           6891412   \n",
       "3                         20           6891624   \n",
       "4                         61           6890652   \n",
       "\n",
       "                                  case_2_description          case_2_date  \\\n",
       "0  Hello, my name is Steven Godleski. I received ...  2018-05-17 16:48:11   \n",
       "1  It will not charge  i have 3 speakers  and nev...  2018-05-17 18:10:40   \n",
       "2  My left click button and the one of the side b...  2018-05-17 20:32:01   \n",
       "3                               V button not working  2018-05-17 21:36:26   \n",
       "4  Just bought the mk735 keyboard combo and can n...  2018-05-17 17:13:25   \n",
       "\n",
       "      case_2_Status case_2_serialnumber  \\\n",
       "0  Closed Duplicate        1810lz0ecfq9   \n",
       "1  Closed Duplicate                 NaN   \n",
       "2  Closed Duplicate        1637LZ0ECLZ8   \n",
       "3  Closed Duplicate        See 06880191   \n",
       "4  Closed Duplicate           JNZYR0059   \n",
       "\n",
       "                            case_2_webproductname__c  \\\n",
       "0     G502 Proteus Spectrum RGB Tunable Gaming Mouse   \n",
       "1                                Logitech UE Boombox   \n",
       "2  G303 Daedalus Apex Performance Edition Gaming ...   \n",
       "3                                     Advanced Combo   \n",
       "4                                  MK735 Performance   \n",
       "\n",
       "   length_case_2_description    case_1_timestamp    case_2_timestamp  \\\n",
       "0                        606 2018-05-17 16:39:44 2018-05-17 16:48:11   \n",
       "1                         60 2018-05-17 18:00:10 2018-05-17 18:10:40   \n",
       "2                        263 2018-05-17 20:21:36 2018-05-17 20:32:01   \n",
       "3                         20 2018-05-17 21:03:39 2018-05-17 21:36:26   \n",
       "4                        138 2018-05-17 17:00:53 2018-05-17 17:13:25   \n",
       "\n",
       "       distance  \n",
       "0  5.245900e-02  \n",
       "1  5.960464e-07  \n",
       "2  0.000000e+00  \n",
       "3  1.192093e-07  \n",
       "4  1.306338e-01  "
      ]
     },
     "execution_count": 268,
     "metadata": {},
     "output_type": "execute_result"
    }
   ],
   "source": [
    "full_duplicate.head()"
   ]
  },
  {
   "cell_type": "code",
   "execution_count": 270,
   "metadata": {},
   "outputs": [
    {
     "data": {
      "text/html": [
       "<div>\n",
       "<style scoped>\n",
       "    .dataframe tbody tr th:only-of-type {\n",
       "        vertical-align: middle;\n",
       "    }\n",
       "\n",
       "    .dataframe tbody tr th {\n",
       "        vertical-align: top;\n",
       "    }\n",
       "\n",
       "    .dataframe thead th {\n",
       "        text-align: right;\n",
       "    }\n",
       "</style>\n",
       "<table border=\"1\" class=\"dataframe\">\n",
       "  <thead>\n",
       "    <tr style=\"text-align: right;\">\n",
       "      <th></th>\n",
       "      <th>accountid</th>\n",
       "      <th>case_number_1_id</th>\n",
       "      <th>case_1_description</th>\n",
       "      <th>case_1_date</th>\n",
       "      <th>case_1_Status</th>\n",
       "      <th>case_1_serialnumber</th>\n",
       "      <th>case_1_webproductname__c</th>\n",
       "      <th>length_case_1_description</th>\n",
       "      <th>case_number_2_id</th>\n",
       "      <th>case_2_description</th>\n",
       "      <th>case_2_date</th>\n",
       "      <th>case_2_Status</th>\n",
       "      <th>case_2_serialnumber</th>\n",
       "      <th>case_2_webproductname__c</th>\n",
       "      <th>length_case_2_description</th>\n",
       "      <th>case_1_timestamp</th>\n",
       "      <th>case_2_timestamp</th>\n",
       "      <th>distance</th>\n",
       "    </tr>\n",
       "  </thead>\n",
       "  <tbody>\n",
       "    <tr>\n",
       "      <th>2117</th>\n",
       "      <td>0013100001rsrUiAAI</td>\n",
       "      <td>7638554</td>\n",
       "      <td>Product serial number: 1724LZN0C7X8\\r\\nPurchas...</td>\n",
       "      <td>2018-11-29 14:03:33</td>\n",
       "      <td>Solved</td>\n",
       "      <td>NaN</td>\n",
       "      <td>Rugged Case Add-on keyboard</td>\n",
       "      <td>104</td>\n",
       "      <td>7924549</td>\n",
       "      <td>Product serial number: 1725LZN0EQZ8\\nPurchase ...</td>\n",
       "      <td>2019-02-12 16:22:20</td>\n",
       "      <td>Unresolved</td>\n",
       "      <td>1805LZN05W08</td>\n",
       "      <td>Rugged Case Add-on keyboard</td>\n",
       "      <td>114</td>\n",
       "      <td>2018-11-29 14:03:33</td>\n",
       "      <td>2019-02-12 16:22:20</td>\n",
       "      <td>0.118549</td>\n",
       "    </tr>\n",
       "  </tbody>\n",
       "</table>\n",
       "</div>"
      ],
      "text/plain": [
       "               accountid  case_number_1_id  \\\n",
       "2117  0013100001rsrUiAAI           7638554   \n",
       "\n",
       "                                     case_1_description          case_1_date  \\\n",
       "2117  Product serial number: 1724LZN0C7X8\\r\\nPurchas...  2018-11-29 14:03:33   \n",
       "\n",
       "     case_1_Status case_1_serialnumber     case_1_webproductname__c  \\\n",
       "2117        Solved                 NaN  Rugged Case Add-on keyboard   \n",
       "\n",
       "      length_case_1_description  case_number_2_id  \\\n",
       "2117                        104           7924549   \n",
       "\n",
       "                                     case_2_description          case_2_date  \\\n",
       "2117  Product serial number: 1725LZN0EQZ8\\nPurchase ...  2019-02-12 16:22:20   \n",
       "\n",
       "     case_2_Status case_2_serialnumber     case_2_webproductname__c  \\\n",
       "2117    Unresolved        1805LZN05W08  Rugged Case Add-on keyboard   \n",
       "\n",
       "      length_case_2_description    case_1_timestamp    case_2_timestamp  \\\n",
       "2117                        114 2018-11-29 14:03:33 2019-02-12 16:22:20   \n",
       "\n",
       "      distance  \n",
       "2117  0.118549  "
      ]
     },
     "execution_count": 270,
     "metadata": {},
     "output_type": "execute_result"
    }
   ],
   "source": [
    "full_duplicate[full_duplicate.case_number_1_id==7638554]"
   ]
  },
  {
   "cell_type": "code",
   "execution_count": 271,
   "metadata": {},
   "outputs": [
    {
     "data": {
      "text/plain": [
       "(14411, 18)"
      ]
     },
     "execution_count": 271,
     "metadata": {},
     "output_type": "execute_result"
    }
   ],
   "source": [
    "full_duplicate.shape"
   ]
  },
  {
   "cell_type": "code",
   "execution_count": 275,
   "metadata": {},
   "outputs": [
    {
     "data": {
      "text/plain": [
       "Index(['index', 'accountid', 'case_number_1_id', 'case_1_description',\n",
       "       'case_1_date', 'case_1_Status', 'case_1_serialnumber',\n",
       "       'case_1_webproductname__c', 'length_case_1_description',\n",
       "       'case_number_2_id', 'case_2_description', 'case_2_date',\n",
       "       'case_2_Status', 'case_2_serialnumber', 'case_2_webproductname__c',\n",
       "       'length_case_2_description', 'case_1_timestamp', 'case_2_timestamp',\n",
       "       'distance'],\n",
       "      dtype='object')"
      ]
     },
     "execution_count": 275,
     "metadata": {},
     "output_type": "execute_result"
    }
   ],
   "source": [
    "full_duplicate.columns"
   ]
  },
  {
   "cell_type": "code",
   "execution_count": 273,
   "metadata": {},
   "outputs": [],
   "source": [
    "full_duplicate.reset_index(inplace=True)"
   ]
  },
  {
   "cell_type": "code",
   "execution_count": 276,
   "metadata": {},
   "outputs": [],
   "source": [
    "del full_duplicate[\"index\"]"
   ]
  },
  {
   "cell_type": "code",
   "execution_count": 340,
   "metadata": {},
   "outputs": [
    {
     "data": {
      "text/plain": [
       "(14411, 18)"
      ]
     },
     "execution_count": 340,
     "metadata": {},
     "output_type": "execute_result"
    }
   ],
   "source": [
    "full_duplicate.shape"
   ]
  },
  {
   "cell_type": "code",
   "execution_count": 341,
   "metadata": {},
   "outputs": [],
   "source": [
    "def check(x):\n",
    "    if(x.case_1_serialnumber==x.case_2_serialnumber or pd.isnull(x.case_1_serialnumber) or pd.isnull(x.case_2_serialnumber)):\n",
    "        if(x.case_1_webproductname__c == x.case_2_webproductname__c or pd.isnull(x.case_1_webproductname__c) or pd.isnull(x.case_2_webproductname__c)):\n",
    "            return True\n",
    "        else:\n",
    "            return False\n",
    "    else:\n",
    "        return False\n"
   ]
  },
  {
   "cell_type": "code",
   "execution_count": 342,
   "metadata": {},
   "outputs": [],
   "source": [
    "full_duplicate_bool = full_duplicate.apply(lambda x: check(x),axis=1)"
   ]
  },
  {
   "cell_type": "code",
   "execution_count": 343,
   "metadata": {},
   "outputs": [],
   "source": [
    "full_duplicate_ser_prod = full_duplicate[full_duplicate_bool]"
   ]
  },
  {
   "cell_type": "code",
   "execution_count": 344,
   "metadata": {},
   "outputs": [
    {
     "data": {
      "text/plain": [
       "(11728, 18)"
      ]
     },
     "execution_count": 344,
     "metadata": {},
     "output_type": "execute_result"
    }
   ],
   "source": [
    "full_duplicate_ser_prod.shape"
   ]
  },
  {
   "cell_type": "code",
   "execution_count": 345,
   "metadata": {},
   "outputs": [
    {
     "data": {
      "text/html": [
       "<div>\n",
       "<style scoped>\n",
       "    .dataframe tbody tr th:only-of-type {\n",
       "        vertical-align: middle;\n",
       "    }\n",
       "\n",
       "    .dataframe tbody tr th {\n",
       "        vertical-align: top;\n",
       "    }\n",
       "\n",
       "    .dataframe thead th {\n",
       "        text-align: right;\n",
       "    }\n",
       "</style>\n",
       "<table border=\"1\" class=\"dataframe\">\n",
       "  <thead>\n",
       "    <tr style=\"text-align: right;\">\n",
       "      <th></th>\n",
       "      <th>accountid</th>\n",
       "      <th>case_number_1_id</th>\n",
       "      <th>case_1_description</th>\n",
       "      <th>case_1_date</th>\n",
       "      <th>case_1_Status</th>\n",
       "      <th>case_1_serialnumber</th>\n",
       "      <th>case_1_webproductname__c</th>\n",
       "      <th>length_case_1_description</th>\n",
       "      <th>case_number_2_id</th>\n",
       "      <th>case_2_description</th>\n",
       "      <th>case_2_date</th>\n",
       "      <th>case_2_Status</th>\n",
       "      <th>case_2_serialnumber</th>\n",
       "      <th>case_2_webproductname__c</th>\n",
       "      <th>length_case_2_description</th>\n",
       "      <th>case_1_timestamp</th>\n",
       "      <th>case_2_timestamp</th>\n",
       "      <th>distance</th>\n",
       "    </tr>\n",
       "  </thead>\n",
       "  <tbody>\n",
       "    <tr>\n",
       "      <th>2117</th>\n",
       "      <td>0013100001rsrUiAAI</td>\n",
       "      <td>7638554</td>\n",
       "      <td>Product serial number: 1724LZN0C7X8\\r\\nPurchas...</td>\n",
       "      <td>2018-11-29 14:03:33</td>\n",
       "      <td>Solved</td>\n",
       "      <td>NaN</td>\n",
       "      <td>Rugged Case Add-on keyboard</td>\n",
       "      <td>104</td>\n",
       "      <td>7924549</td>\n",
       "      <td>Product serial number: 1725LZN0EQZ8\\nPurchase ...</td>\n",
       "      <td>2019-02-12 16:22:20</td>\n",
       "      <td>Unresolved</td>\n",
       "      <td>1805LZN05W08</td>\n",
       "      <td>Rugged Case Add-on keyboard</td>\n",
       "      <td>114</td>\n",
       "      <td>2018-11-29 14:03:33</td>\n",
       "      <td>2019-02-12 16:22:20</td>\n",
       "      <td>0.118549</td>\n",
       "    </tr>\n",
       "  </tbody>\n",
       "</table>\n",
       "</div>"
      ],
      "text/plain": [
       "               accountid  case_number_1_id  \\\n",
       "2117  0013100001rsrUiAAI           7638554   \n",
       "\n",
       "                                     case_1_description          case_1_date  \\\n",
       "2117  Product serial number: 1724LZN0C7X8\\r\\nPurchas...  2018-11-29 14:03:33   \n",
       "\n",
       "     case_1_Status case_1_serialnumber     case_1_webproductname__c  \\\n",
       "2117        Solved                 NaN  Rugged Case Add-on keyboard   \n",
       "\n",
       "      length_case_1_description  case_number_2_id  \\\n",
       "2117                        104           7924549   \n",
       "\n",
       "                                     case_2_description          case_2_date  \\\n",
       "2117  Product serial number: 1725LZN0EQZ8\\nPurchase ...  2019-02-12 16:22:20   \n",
       "\n",
       "     case_2_Status case_2_serialnumber     case_2_webproductname__c  \\\n",
       "2117    Unresolved        1805LZN05W08  Rugged Case Add-on keyboard   \n",
       "\n",
       "      length_case_2_description    case_1_timestamp    case_2_timestamp  \\\n",
       "2117                        114 2018-11-29 14:03:33 2019-02-12 16:22:20   \n",
       "\n",
       "      distance  \n",
       "2117  0.118549  "
      ]
     },
     "execution_count": 345,
     "metadata": {},
     "output_type": "execute_result"
    }
   ],
   "source": [
    "full_duplicate_ser_prod[full_duplicate_ser_prod.case_number_1_id==7638554]"
   ]
  },
  {
   "cell_type": "code",
   "execution_count": 346,
   "metadata": {},
   "outputs": [],
   "source": [
    "full_duplicate_ser_prod.reset_index(inplace=True)"
   ]
  },
  {
   "cell_type": "code",
   "execution_count": 347,
   "metadata": {},
   "outputs": [],
   "source": [
    "del full_duplicate_ser_prod[\"index\"]"
   ]
  },
  {
   "cell_type": "code",
   "execution_count": 348,
   "metadata": {},
   "outputs": [
    {
     "data": {
      "text/html": [
       "<div>\n",
       "<style scoped>\n",
       "    .dataframe tbody tr th:only-of-type {\n",
       "        vertical-align: middle;\n",
       "    }\n",
       "\n",
       "    .dataframe tbody tr th {\n",
       "        vertical-align: top;\n",
       "    }\n",
       "\n",
       "    .dataframe thead th {\n",
       "        text-align: right;\n",
       "    }\n",
       "</style>\n",
       "<table border=\"1\" class=\"dataframe\">\n",
       "  <thead>\n",
       "    <tr style=\"text-align: right;\">\n",
       "      <th></th>\n",
       "      <th>accountid</th>\n",
       "      <th>case_number_1_id</th>\n",
       "      <th>case_1_description</th>\n",
       "      <th>case_1_date</th>\n",
       "      <th>case_1_Status</th>\n",
       "      <th>case_1_serialnumber</th>\n",
       "      <th>case_1_webproductname__c</th>\n",
       "      <th>length_case_1_description</th>\n",
       "      <th>case_number_2_id</th>\n",
       "      <th>case_2_description</th>\n",
       "      <th>case_2_date</th>\n",
       "      <th>case_2_Status</th>\n",
       "      <th>case_2_serialnumber</th>\n",
       "      <th>case_2_webproductname__c</th>\n",
       "      <th>length_case_2_description</th>\n",
       "      <th>case_1_timestamp</th>\n",
       "      <th>case_2_timestamp</th>\n",
       "      <th>distance</th>\n",
       "    </tr>\n",
       "  </thead>\n",
       "  <tbody>\n",
       "    <tr>\n",
       "      <th>0</th>\n",
       "      <td>0015A0000225nxbQAA</td>\n",
       "      <td>6890525</td>\n",
       "      <td>Hello, my name is Steven Godleski. I received ...</td>\n",
       "      <td>2018-05-17 16:39:44</td>\n",
       "      <td>Solved</td>\n",
       "      <td>1810lz0ecfq9</td>\n",
       "      <td>G502 Proteus Spectrum RGB Tunable Gaming Mouse</td>\n",
       "      <td>606</td>\n",
       "      <td>6890562</td>\n",
       "      <td>Hello, my name is Steven Godleski. I received ...</td>\n",
       "      <td>2018-05-17 16:48:11</td>\n",
       "      <td>Closed Duplicate</td>\n",
       "      <td>1810lz0ecfq9</td>\n",
       "      <td>G502 Proteus Spectrum RGB Tunable Gaming Mouse</td>\n",
       "      <td>606</td>\n",
       "      <td>2018-05-17 16:39:44</td>\n",
       "      <td>2018-05-17 16:48:11</td>\n",
       "      <td>5.245900e-02</td>\n",
       "    </tr>\n",
       "    <tr>\n",
       "      <th>1</th>\n",
       "      <td>0015A000021TgIYQA0</td>\n",
       "      <td>6890842</td>\n",
       "      <td>It will not charge  i have 3 speakers  and nev...</td>\n",
       "      <td>2018-05-17 18:00:10</td>\n",
       "      <td>Closed Duplicate</td>\n",
       "      <td>NaN</td>\n",
       "      <td>Logitech UE Boombox</td>\n",
       "      <td>60</td>\n",
       "      <td>6890887</td>\n",
       "      <td>It will not charge  i have 3 speakers  and nev...</td>\n",
       "      <td>2018-05-17 18:10:40</td>\n",
       "      <td>Closed Duplicate</td>\n",
       "      <td>NaN</td>\n",
       "      <td>Logitech UE Boombox</td>\n",
       "      <td>60</td>\n",
       "      <td>2018-05-17 18:00:10</td>\n",
       "      <td>2018-05-17 18:10:40</td>\n",
       "      <td>5.960464e-07</td>\n",
       "    </tr>\n",
       "    <tr>\n",
       "      <th>2</th>\n",
       "      <td>0015A0000225pKHQAY</td>\n",
       "      <td>6891365</td>\n",
       "      <td>My left click button and the one of the side b...</td>\n",
       "      <td>2018-05-17 20:21:36</td>\n",
       "      <td>Solved</td>\n",
       "      <td>1637LZ0ECLZ8</td>\n",
       "      <td>G303 Daedalus Apex Performance Edition Gaming ...</td>\n",
       "      <td>263</td>\n",
       "      <td>6891412</td>\n",
       "      <td>My left click button and the one of the side b...</td>\n",
       "      <td>2018-05-17 20:32:01</td>\n",
       "      <td>Closed Duplicate</td>\n",
       "      <td>1637LZ0ECLZ8</td>\n",
       "      <td>G303 Daedalus Apex Performance Edition Gaming ...</td>\n",
       "      <td>263</td>\n",
       "      <td>2018-05-17 20:21:36</td>\n",
       "      <td>2018-05-17 20:32:01</td>\n",
       "      <td>0.000000e+00</td>\n",
       "    </tr>\n",
       "    <tr>\n",
       "      <th>3</th>\n",
       "      <td>0015A0000225pBoQAI</td>\n",
       "      <td>6891288</td>\n",
       "      <td>Neither the keyboard nor the mouser respond on...</td>\n",
       "      <td>2018-05-17 20:00:28</td>\n",
       "      <td>Solved</td>\n",
       "      <td>097855065476</td>\n",
       "      <td>Desktop MK120</td>\n",
       "      <td>192</td>\n",
       "      <td>6891337</td>\n",
       "      <td>Neither the keyboard nor the mouser respond on...</td>\n",
       "      <td>2018-05-17 20:12:06</td>\n",
       "      <td>Closed Duplicate</td>\n",
       "      <td>097855065476</td>\n",
       "      <td>Desktop MK120</td>\n",
       "      <td>192</td>\n",
       "      <td>2018-05-17 20:00:28</td>\n",
       "      <td>2018-05-17 20:12:06</td>\n",
       "      <td>1.744491e-02</td>\n",
       "    </tr>\n",
       "    <tr>\n",
       "      <th>4</th>\n",
       "      <td>0015A000021TIL7QAO</td>\n",
       "      <td>7012166</td>\n",
       "      <td>Sent with [ProtonMail](https://protonmail.com)...</td>\n",
       "      <td>2018-06-22 16:05:26</td>\n",
       "      <td>Solved</td>\n",
       "      <td>NaN</td>\n",
       "      <td>Jaybird RUN</td>\n",
       "      <td>940</td>\n",
       "      <td>7012217</td>\n",
       "      <td>Sent with [ProtonMail](https://protonmail.com)...</td>\n",
       "      <td>2018-06-22 16:16:13</td>\n",
       "      <td>Solved</td>\n",
       "      <td>NaN</td>\n",
       "      <td>Jaybird RUN</td>\n",
       "      <td>1302</td>\n",
       "      <td>2018-06-22 16:05:26</td>\n",
       "      <td>2018-06-22 16:16:13</td>\n",
       "      <td>5.960464e-07</td>\n",
       "    </tr>\n",
       "  </tbody>\n",
       "</table>\n",
       "</div>"
      ],
      "text/plain": [
       "            accountid  case_number_1_id  \\\n",
       "0  0015A0000225nxbQAA           6890525   \n",
       "1  0015A000021TgIYQA0           6890842   \n",
       "2  0015A0000225pKHQAY           6891365   \n",
       "3  0015A0000225pBoQAI           6891288   \n",
       "4  0015A000021TIL7QAO           7012166   \n",
       "\n",
       "                                  case_1_description          case_1_date  \\\n",
       "0  Hello, my name is Steven Godleski. I received ...  2018-05-17 16:39:44   \n",
       "1  It will not charge  i have 3 speakers  and nev...  2018-05-17 18:00:10   \n",
       "2  My left click button and the one of the side b...  2018-05-17 20:21:36   \n",
       "3  Neither the keyboard nor the mouser respond on...  2018-05-17 20:00:28   \n",
       "4  Sent with [ProtonMail](https://protonmail.com)...  2018-06-22 16:05:26   \n",
       "\n",
       "      case_1_Status case_1_serialnumber  \\\n",
       "0            Solved        1810lz0ecfq9   \n",
       "1  Closed Duplicate                 NaN   \n",
       "2            Solved        1637LZ0ECLZ8   \n",
       "3            Solved        097855065476   \n",
       "4            Solved                 NaN   \n",
       "\n",
       "                            case_1_webproductname__c  \\\n",
       "0     G502 Proteus Spectrum RGB Tunable Gaming Mouse   \n",
       "1                                Logitech UE Boombox   \n",
       "2  G303 Daedalus Apex Performance Edition Gaming ...   \n",
       "3                                      Desktop MK120   \n",
       "4                                        Jaybird RUN   \n",
       "\n",
       "   length_case_1_description  case_number_2_id  \\\n",
       "0                        606           6890562   \n",
       "1                         60           6890887   \n",
       "2                        263           6891412   \n",
       "3                        192           6891337   \n",
       "4                        940           7012217   \n",
       "\n",
       "                                  case_2_description          case_2_date  \\\n",
       "0  Hello, my name is Steven Godleski. I received ...  2018-05-17 16:48:11   \n",
       "1  It will not charge  i have 3 speakers  and nev...  2018-05-17 18:10:40   \n",
       "2  My left click button and the one of the side b...  2018-05-17 20:32:01   \n",
       "3  Neither the keyboard nor the mouser respond on...  2018-05-17 20:12:06   \n",
       "4  Sent with [ProtonMail](https://protonmail.com)...  2018-06-22 16:16:13   \n",
       "\n",
       "      case_2_Status case_2_serialnumber  \\\n",
       "0  Closed Duplicate        1810lz0ecfq9   \n",
       "1  Closed Duplicate                 NaN   \n",
       "2  Closed Duplicate        1637LZ0ECLZ8   \n",
       "3  Closed Duplicate        097855065476   \n",
       "4            Solved                 NaN   \n",
       "\n",
       "                            case_2_webproductname__c  \\\n",
       "0     G502 Proteus Spectrum RGB Tunable Gaming Mouse   \n",
       "1                                Logitech UE Boombox   \n",
       "2  G303 Daedalus Apex Performance Edition Gaming ...   \n",
       "3                                      Desktop MK120   \n",
       "4                                        Jaybird RUN   \n",
       "\n",
       "   length_case_2_description    case_1_timestamp    case_2_timestamp  \\\n",
       "0                        606 2018-05-17 16:39:44 2018-05-17 16:48:11   \n",
       "1                         60 2018-05-17 18:00:10 2018-05-17 18:10:40   \n",
       "2                        263 2018-05-17 20:21:36 2018-05-17 20:32:01   \n",
       "3                        192 2018-05-17 20:00:28 2018-05-17 20:12:06   \n",
       "4                       1302 2018-06-22 16:05:26 2018-06-22 16:16:13   \n",
       "\n",
       "       distance  \n",
       "0  5.245900e-02  \n",
       "1  5.960464e-07  \n",
       "2  0.000000e+00  \n",
       "3  1.744491e-02  \n",
       "4  5.960464e-07  "
      ]
     },
     "execution_count": 348,
     "metadata": {},
     "output_type": "execute_result"
    }
   ],
   "source": [
    "full_duplicate_ser_prod.head()"
   ]
  },
  {
   "cell_type": "code",
   "execution_count": 349,
   "metadata": {},
   "outputs": [
    {
     "data": {
      "text/plain": [
       "(11728, 18)"
      ]
     },
     "execution_count": 349,
     "metadata": {},
     "output_type": "execute_result"
    }
   ],
   "source": [
    "full_duplicate_ser_prod.shape"
   ]
  },
  {
   "cell_type": "code",
   "execution_count": 350,
   "metadata": {},
   "outputs": [],
   "source": [
    "import re\n",
    "def check_serial(df):\n",
    "    x = re.search(\"\\\\s\\\\d\\\\d\\\\d\\\\d\\\\w\\\\w\\\\w\\\\w\\\\w\\\\w\\\\w\\\\d[\\\\s\\\\.]|\\\\s[a-zA-Z][a-zA-Z]\\\\w\\\\w\\\\w\\\\w\\\\w\\\\w\\\\w\\\\w\\\\d[\\\\s\\\\.]\", df)\n",
    "    x1 = re.search(\"\\d\\d\\d\\d\\w\\w\\w\\w\\w\\w\\w\\w\\d\", df)\n",
    "    x2 = re.search(\"\\w\\w\\d\\d\\d\\d\\d\\d\\d\\d\\d\", df)\n",
    "    if x:\n",
    "        found = x.group(0).replace('.','').strip()\n",
    "        return found\n",
    "        # Display the number of characaters to ensure it is exactly 12 (do not take space or dot)\n",
    "        #print(len(found))\n",
    "    elif x1:\n",
    "        found = x1.group(0).replace('.','').strip()\n",
    "        return found\n",
    "    elif x2:\n",
    "        found = x2.group(0).replace('.','').strip()\n",
    "        return found\n",
    "    else:\n",
    "        return np.NAN"
   ]
  },
  {
   "cell_type": "code",
   "execution_count": 351,
   "metadata": {},
   "outputs": [],
   "source": [
    "full_duplicate_ser_prod[\"case_1_serialnumber_extract\"] = full_duplicate_ser_prod.case_1_description.apply(lambda x: check_serial(x))\n"
   ]
  },
  {
   "cell_type": "code",
   "execution_count": null,
   "metadata": {},
   "outputs": [],
   "source": []
  },
  {
   "cell_type": "code",
   "execution_count": 352,
   "metadata": {},
   "outputs": [],
   "source": [
    "full_duplicate_ser_prod[\"case_2_serialnumber_extract\"] = full_duplicate_ser_prod.case_2_description.apply(lambda x: check_serial(x))\n"
   ]
  },
  {
   "cell_type": "code",
   "execution_count": 400,
   "metadata": {},
   "outputs": [
    {
     "data": {
      "text/html": [
       "<div>\n",
       "<style scoped>\n",
       "    .dataframe tbody tr th:only-of-type {\n",
       "        vertical-align: middle;\n",
       "    }\n",
       "\n",
       "    .dataframe tbody tr th {\n",
       "        vertical-align: top;\n",
       "    }\n",
       "\n",
       "    .dataframe thead th {\n",
       "        text-align: right;\n",
       "    }\n",
       "</style>\n",
       "<table border=\"1\" class=\"dataframe\">\n",
       "  <thead>\n",
       "    <tr style=\"text-align: right;\">\n",
       "      <th></th>\n",
       "      <th>accountid</th>\n",
       "      <th>case_number_1_id</th>\n",
       "      <th>case_1_description</th>\n",
       "      <th>case_1_date</th>\n",
       "      <th>case_1_Status</th>\n",
       "      <th>case_1_serialnumber</th>\n",
       "      <th>case_1_webproductname__c</th>\n",
       "      <th>length_case_1_description</th>\n",
       "      <th>case_number_2_id</th>\n",
       "      <th>case_2_description</th>\n",
       "      <th>...</th>\n",
       "      <th>case_2_serialnumber</th>\n",
       "      <th>case_2_webproductname__c</th>\n",
       "      <th>length_case_2_description</th>\n",
       "      <th>case_1_timestamp</th>\n",
       "      <th>case_2_timestamp</th>\n",
       "      <th>distance</th>\n",
       "      <th>case_1_serialnumber_extract</th>\n",
       "      <th>case_2_serialnumber_extract</th>\n",
       "      <th>case_1_serialnumber_extract_check</th>\n",
       "      <th>case_2_serialnumber_extract_check</th>\n",
       "    </tr>\n",
       "  </thead>\n",
       "  <tbody>\n",
       "    <tr>\n",
       "      <th>20</th>\n",
       "      <td>0015A00001yy0tMQAQ</td>\n",
       "      <td>6980598</td>\n",
       "      <td>Product serial number: 1724LZN11T18\\r\\nPurchas...</td>\n",
       "      <td>2018-06-13 16:41:43</td>\n",
       "      <td>Solved</td>\n",
       "      <td>1724LZN12FN8</td>\n",
       "      <td>Rugged Case Add-on keyboard</td>\n",
       "      <td>347</td>\n",
       "      <td>7512317</td>\n",
       "      <td>Product serial number: 1724LZN11U58\\r\\nPurchas...</td>\n",
       "      <td>...</td>\n",
       "      <td>1724LZN12FN8</td>\n",
       "      <td>Rugged Case Add-on keyboard</td>\n",
       "      <td>347</td>\n",
       "      <td>2018-06-13 16:41:43</td>\n",
       "      <td>2018-10-29 13:02:04</td>\n",
       "      <td>0.000662</td>\n",
       "      <td>1724LZN11T18</td>\n",
       "      <td>1724LZN11U58</td>\n",
       "      <td>1724LZN11T18</td>\n",
       "      <td>1724LZN11U58</td>\n",
       "    </tr>\n",
       "    <tr>\n",
       "      <th>10144</th>\n",
       "      <td>0015A00001yy0tMQAQ</td>\n",
       "      <td>6980598</td>\n",
       "      <td>Product serial number: 1724LZN11T18\\r\\nPurchas...</td>\n",
       "      <td>2018-06-13 16:41:43</td>\n",
       "      <td>Solved</td>\n",
       "      <td>1724LZN12FN8</td>\n",
       "      <td>Rugged Case Add-on keyboard</td>\n",
       "      <td>347</td>\n",
       "      <td>7787066</td>\n",
       "      <td>Product serial number: 1724LZN11U08\\r\\nPurchas...</td>\n",
       "      <td>...</td>\n",
       "      <td>1724LZN12FN8</td>\n",
       "      <td>Rugged Case Add-on keyboard</td>\n",
       "      <td>347</td>\n",
       "      <td>2018-06-13 16:41:43</td>\n",
       "      <td>2019-01-07 14:37:44</td>\n",
       "      <td>0.000662</td>\n",
       "      <td>1724LZN11T18</td>\n",
       "      <td>1724LZN11U08</td>\n",
       "      <td>1724LZN11T18</td>\n",
       "      <td>1724LZN11U08</td>\n",
       "    </tr>\n",
       "    <tr>\n",
       "      <th>10147</th>\n",
       "      <td>0015A00001yy0tMQAQ</td>\n",
       "      <td>6980598</td>\n",
       "      <td>Product serial number: 1724LZN11T18\\r\\nPurchas...</td>\n",
       "      <td>2018-06-13 16:41:43</td>\n",
       "      <td>Solved</td>\n",
       "      <td>1724LZN12FN8</td>\n",
       "      <td>Rugged Case Add-on keyboard</td>\n",
       "      <td>347</td>\n",
       "      <td>7787119</td>\n",
       "      <td>Product serial number: 1724LZN11U48\\r\\nPurchas...</td>\n",
       "      <td>...</td>\n",
       "      <td>1724LZN12FN8</td>\n",
       "      <td>Rugged Case Add-on keyboard</td>\n",
       "      <td>347</td>\n",
       "      <td>2018-06-13 16:41:43</td>\n",
       "      <td>2019-01-07 14:49:44</td>\n",
       "      <td>0.000662</td>\n",
       "      <td>1724LZN11T18</td>\n",
       "      <td>1724LZN11U48</td>\n",
       "      <td>1724LZN11T18</td>\n",
       "      <td>1724LZN11U48</td>\n",
       "    </tr>\n",
       "  </tbody>\n",
       "</table>\n",
       "<p>3 rows × 22 columns</p>\n",
       "</div>"
      ],
      "text/plain": [
       "                accountid  case_number_1_id  \\\n",
       "20     0015A00001yy0tMQAQ           6980598   \n",
       "10144  0015A00001yy0tMQAQ           6980598   \n",
       "10147  0015A00001yy0tMQAQ           6980598   \n",
       "\n",
       "                                      case_1_description          case_1_date  \\\n",
       "20     Product serial number: 1724LZN11T18\\r\\nPurchas...  2018-06-13 16:41:43   \n",
       "10144  Product serial number: 1724LZN11T18\\r\\nPurchas...  2018-06-13 16:41:43   \n",
       "10147  Product serial number: 1724LZN11T18\\r\\nPurchas...  2018-06-13 16:41:43   \n",
       "\n",
       "      case_1_Status case_1_serialnumber     case_1_webproductname__c  \\\n",
       "20           Solved        1724LZN12FN8  Rugged Case Add-on keyboard   \n",
       "10144        Solved        1724LZN12FN8  Rugged Case Add-on keyboard   \n",
       "10147        Solved        1724LZN12FN8  Rugged Case Add-on keyboard   \n",
       "\n",
       "       length_case_1_description  case_number_2_id  \\\n",
       "20                           347           7512317   \n",
       "10144                        347           7787066   \n",
       "10147                        347           7787119   \n",
       "\n",
       "                                      case_2_description  \\\n",
       "20     Product serial number: 1724LZN11U58\\r\\nPurchas...   \n",
       "10144  Product serial number: 1724LZN11U08\\r\\nPurchas...   \n",
       "10147  Product serial number: 1724LZN11U48\\r\\nPurchas...   \n",
       "\n",
       "                     ...                case_2_serialnumber  \\\n",
       "20                   ...                       1724LZN12FN8   \n",
       "10144                ...                       1724LZN12FN8   \n",
       "10147                ...                       1724LZN12FN8   \n",
       "\n",
       "          case_2_webproductname__c length_case_2_description  \\\n",
       "20     Rugged Case Add-on keyboard                       347   \n",
       "10144  Rugged Case Add-on keyboard                       347   \n",
       "10147  Rugged Case Add-on keyboard                       347   \n",
       "\n",
       "         case_1_timestamp    case_2_timestamp  distance  \\\n",
       "20    2018-06-13 16:41:43 2018-10-29 13:02:04  0.000662   \n",
       "10144 2018-06-13 16:41:43 2019-01-07 14:37:44  0.000662   \n",
       "10147 2018-06-13 16:41:43 2019-01-07 14:49:44  0.000662   \n",
       "\n",
       "      case_1_serialnumber_extract  case_2_serialnumber_extract  \\\n",
       "20                   1724LZN11T18                 1724LZN11U58   \n",
       "10144                1724LZN11T18                 1724LZN11U08   \n",
       "10147                1724LZN11T18                 1724LZN11U48   \n",
       "\n",
       "      case_1_serialnumber_extract_check case_2_serialnumber_extract_check  \n",
       "20                         1724LZN11T18                      1724LZN11U58  \n",
       "10144                      1724LZN11T18                      1724LZN11U08  \n",
       "10147                      1724LZN11T18                      1724LZN11U48  \n",
       "\n",
       "[3 rows x 22 columns]"
      ]
     },
     "execution_count": 400,
     "metadata": {},
     "output_type": "execute_result"
    }
   ],
   "source": [
    "full_duplicate_ser_prod[full_duplicate_ser_prod.case_number_1_id==6980598]"
   ]
  },
  {
   "cell_type": "code",
   "execution_count": 391,
   "metadata": {},
   "outputs": [],
   "source": [
    "def check_ser_1_corr(x):\n",
    "    if(pd.notnull(x.case_1_serialnumber_extract)):\n",
    "        return x.case_1_serialnumber_extract\n",
    "    elif(pd.notnull(x.case_1_serialnumber)):\n",
    "        return x.case_1_serialnumber  \n",
    "    else:\n",
    "        return np.NAN\n",
    "        \n",
    "    \n",
    "    \n",
    "    "
   ]
  },
  {
   "cell_type": "code",
   "execution_count": 392,
   "metadata": {},
   "outputs": [],
   "source": [
    "full_duplicate_ser_prod[\"case_1_serialnumber_extract_check\"] = full_duplicate_ser_prod.apply(lambda x: check_ser_1_corr(x),axis=1)\n"
   ]
  },
  {
   "cell_type": "code",
   "execution_count": 385,
   "metadata": {},
   "outputs": [],
   "source": [
    "def check_ser_2_corr(x):\n",
    "    if(pd.notnull(x.case_2_serialnumber_extract)):\n",
    "        return x.case_2_serialnumber_extract\n",
    "    elif(pd.notnull(x.case_2_serialnumber)):\n",
    "        return x.case_2_serialnumber  \n",
    "    else:\n",
    "        return np.NAN"
   ]
  },
  {
   "cell_type": "code",
   "execution_count": 386,
   "metadata": {},
   "outputs": [],
   "source": [
    "full_duplicate_ser_prod[\"case_2_serialnumber_extract_check\"] = full_duplicate_ser_prod.apply(lambda x: check_ser_2_corr(x),axis=1)\n"
   ]
  },
  {
   "cell_type": "code",
   "execution_count": 395,
   "metadata": {},
   "outputs": [
    {
     "data": {
      "text/html": [
       "<div>\n",
       "<style scoped>\n",
       "    .dataframe tbody tr th:only-of-type {\n",
       "        vertical-align: middle;\n",
       "    }\n",
       "\n",
       "    .dataframe tbody tr th {\n",
       "        vertical-align: top;\n",
       "    }\n",
       "\n",
       "    .dataframe thead th {\n",
       "        text-align: right;\n",
       "    }\n",
       "</style>\n",
       "<table border=\"1\" class=\"dataframe\">\n",
       "  <thead>\n",
       "    <tr style=\"text-align: right;\">\n",
       "      <th></th>\n",
       "      <th>accountid</th>\n",
       "      <th>case_number_1_id</th>\n",
       "      <th>case_1_description</th>\n",
       "      <th>case_1_date</th>\n",
       "      <th>case_1_Status</th>\n",
       "      <th>case_1_serialnumber</th>\n",
       "      <th>case_1_webproductname__c</th>\n",
       "      <th>length_case_1_description</th>\n",
       "      <th>case_number_2_id</th>\n",
       "      <th>case_2_description</th>\n",
       "      <th>...</th>\n",
       "      <th>case_2_serialnumber</th>\n",
       "      <th>case_2_webproductname__c</th>\n",
       "      <th>length_case_2_description</th>\n",
       "      <th>case_1_timestamp</th>\n",
       "      <th>case_2_timestamp</th>\n",
       "      <th>distance</th>\n",
       "      <th>case_1_serialnumber_extract</th>\n",
       "      <th>case_2_serialnumber_extract</th>\n",
       "      <th>case_1_serialnumber_extract_check</th>\n",
       "      <th>case_2_serialnumber_extract_check</th>\n",
       "    </tr>\n",
       "  </thead>\n",
       "  <tbody>\n",
       "    <tr>\n",
       "      <th>20</th>\n",
       "      <td>0015A00001yy0tMQAQ</td>\n",
       "      <td>6980598</td>\n",
       "      <td>Product serial number: 1724LZN11T18\\r\\nPurchas...</td>\n",
       "      <td>2018-06-13 16:41:43</td>\n",
       "      <td>Solved</td>\n",
       "      <td>1724LZN12FN8</td>\n",
       "      <td>Rugged Case Add-on keyboard</td>\n",
       "      <td>347</td>\n",
       "      <td>7512317</td>\n",
       "      <td>Product serial number: 1724LZN11U58\\r\\nPurchas...</td>\n",
       "      <td>...</td>\n",
       "      <td>1724LZN12FN8</td>\n",
       "      <td>Rugged Case Add-on keyboard</td>\n",
       "      <td>347</td>\n",
       "      <td>2018-06-13 16:41:43</td>\n",
       "      <td>2018-10-29 13:02:04</td>\n",
       "      <td>0.000662</td>\n",
       "      <td>1724LZN11T18</td>\n",
       "      <td>1724LZN11U58</td>\n",
       "      <td>1724LZN11T18</td>\n",
       "      <td>1724LZN11U58</td>\n",
       "    </tr>\n",
       "    <tr>\n",
       "      <th>10144</th>\n",
       "      <td>0015A00001yy0tMQAQ</td>\n",
       "      <td>6980598</td>\n",
       "      <td>Product serial number: 1724LZN11T18\\r\\nPurchas...</td>\n",
       "      <td>2018-06-13 16:41:43</td>\n",
       "      <td>Solved</td>\n",
       "      <td>1724LZN12FN8</td>\n",
       "      <td>Rugged Case Add-on keyboard</td>\n",
       "      <td>347</td>\n",
       "      <td>7787066</td>\n",
       "      <td>Product serial number: 1724LZN11U08\\r\\nPurchas...</td>\n",
       "      <td>...</td>\n",
       "      <td>1724LZN12FN8</td>\n",
       "      <td>Rugged Case Add-on keyboard</td>\n",
       "      <td>347</td>\n",
       "      <td>2018-06-13 16:41:43</td>\n",
       "      <td>2019-01-07 14:37:44</td>\n",
       "      <td>0.000662</td>\n",
       "      <td>1724LZN11T18</td>\n",
       "      <td>1724LZN11U08</td>\n",
       "      <td>1724LZN11T18</td>\n",
       "      <td>1724LZN11U08</td>\n",
       "    </tr>\n",
       "    <tr>\n",
       "      <th>10147</th>\n",
       "      <td>0015A00001yy0tMQAQ</td>\n",
       "      <td>6980598</td>\n",
       "      <td>Product serial number: 1724LZN11T18\\r\\nPurchas...</td>\n",
       "      <td>2018-06-13 16:41:43</td>\n",
       "      <td>Solved</td>\n",
       "      <td>1724LZN12FN8</td>\n",
       "      <td>Rugged Case Add-on keyboard</td>\n",
       "      <td>347</td>\n",
       "      <td>7787119</td>\n",
       "      <td>Product serial number: 1724LZN11U48\\r\\nPurchas...</td>\n",
       "      <td>...</td>\n",
       "      <td>1724LZN12FN8</td>\n",
       "      <td>Rugged Case Add-on keyboard</td>\n",
       "      <td>347</td>\n",
       "      <td>2018-06-13 16:41:43</td>\n",
       "      <td>2019-01-07 14:49:44</td>\n",
       "      <td>0.000662</td>\n",
       "      <td>1724LZN11T18</td>\n",
       "      <td>1724LZN11U48</td>\n",
       "      <td>1724LZN11T18</td>\n",
       "      <td>1724LZN11U48</td>\n",
       "    </tr>\n",
       "  </tbody>\n",
       "</table>\n",
       "<p>3 rows × 22 columns</p>\n",
       "</div>"
      ],
      "text/plain": [
       "                accountid  case_number_1_id  \\\n",
       "20     0015A00001yy0tMQAQ           6980598   \n",
       "10144  0015A00001yy0tMQAQ           6980598   \n",
       "10147  0015A00001yy0tMQAQ           6980598   \n",
       "\n",
       "                                      case_1_description          case_1_date  \\\n",
       "20     Product serial number: 1724LZN11T18\\r\\nPurchas...  2018-06-13 16:41:43   \n",
       "10144  Product serial number: 1724LZN11T18\\r\\nPurchas...  2018-06-13 16:41:43   \n",
       "10147  Product serial number: 1724LZN11T18\\r\\nPurchas...  2018-06-13 16:41:43   \n",
       "\n",
       "      case_1_Status case_1_serialnumber     case_1_webproductname__c  \\\n",
       "20           Solved        1724LZN12FN8  Rugged Case Add-on keyboard   \n",
       "10144        Solved        1724LZN12FN8  Rugged Case Add-on keyboard   \n",
       "10147        Solved        1724LZN12FN8  Rugged Case Add-on keyboard   \n",
       "\n",
       "       length_case_1_description  case_number_2_id  \\\n",
       "20                           347           7512317   \n",
       "10144                        347           7787066   \n",
       "10147                        347           7787119   \n",
       "\n",
       "                                      case_2_description  \\\n",
       "20     Product serial number: 1724LZN11U58\\r\\nPurchas...   \n",
       "10144  Product serial number: 1724LZN11U08\\r\\nPurchas...   \n",
       "10147  Product serial number: 1724LZN11U48\\r\\nPurchas...   \n",
       "\n",
       "                     ...                case_2_serialnumber  \\\n",
       "20                   ...                       1724LZN12FN8   \n",
       "10144                ...                       1724LZN12FN8   \n",
       "10147                ...                       1724LZN12FN8   \n",
       "\n",
       "          case_2_webproductname__c length_case_2_description  \\\n",
       "20     Rugged Case Add-on keyboard                       347   \n",
       "10144  Rugged Case Add-on keyboard                       347   \n",
       "10147  Rugged Case Add-on keyboard                       347   \n",
       "\n",
       "         case_1_timestamp    case_2_timestamp  distance  \\\n",
       "20    2018-06-13 16:41:43 2018-10-29 13:02:04  0.000662   \n",
       "10144 2018-06-13 16:41:43 2019-01-07 14:37:44  0.000662   \n",
       "10147 2018-06-13 16:41:43 2019-01-07 14:49:44  0.000662   \n",
       "\n",
       "      case_1_serialnumber_extract  case_2_serialnumber_extract  \\\n",
       "20                   1724LZN11T18                 1724LZN11U58   \n",
       "10144                1724LZN11T18                 1724LZN11U08   \n",
       "10147                1724LZN11T18                 1724LZN11U48   \n",
       "\n",
       "      case_1_serialnumber_extract_check case_2_serialnumber_extract_check  \n",
       "20                         1724LZN11T18                      1724LZN11U58  \n",
       "10144                      1724LZN11T18                      1724LZN11U08  \n",
       "10147                      1724LZN11T18                      1724LZN11U48  \n",
       "\n",
       "[3 rows x 22 columns]"
      ]
     },
     "execution_count": 395,
     "metadata": {},
     "output_type": "execute_result"
    }
   ],
   "source": [
    "full_duplicate_ser_prod[full_duplicate_ser_prod.case_number_1_id==6980598]"
   ]
  },
  {
   "cell_type": "code",
   "execution_count": 396,
   "metadata": {},
   "outputs": [],
   "source": [
    "def re_check(x):\n",
    "    if(x.case_1_serialnumber_extract_check==x.case_2_serialnumber_extract_check or pd.isnull(x.case_1_serialnumber_extract_check) or pd.isnull(x.case_2_serialnumber_extract_check)):\n",
    "        if(x.case_1_webproductname__c == x.case_2_webproductname__c or pd.isnull(x.case_1_webproductname__c) or pd.isnull(x.case_2_webproductname__c)):\n",
    "            return True\n",
    "        else:\n",
    "            return False\n",
    "    else:\n",
    "        return False"
   ]
  },
  {
   "cell_type": "code",
   "execution_count": 397,
   "metadata": {},
   "outputs": [],
   "source": [
    "result_bool = full_duplicate_ser_prod.apply(lambda x: re_check(x),axis=1)"
   ]
  },
  {
   "cell_type": "code",
   "execution_count": 398,
   "metadata": {},
   "outputs": [],
   "source": [
    "full_duplicate_ser_prod_check = full_duplicate_ser_prod[result_bool]"
   ]
  },
  {
   "cell_type": "code",
   "execution_count": 399,
   "metadata": {},
   "outputs": [
    {
     "data": {
      "text/plain": [
       "(9646, 22)"
      ]
     },
     "execution_count": 399,
     "metadata": {},
     "output_type": "execute_result"
    }
   ],
   "source": [
    "full_duplicate_ser_prod_check.shape"
   ]
  },
  {
   "cell_type": "code",
   "execution_count": 401,
   "metadata": {},
   "outputs": [
    {
     "data": {
      "text/html": [
       "<div>\n",
       "<style scoped>\n",
       "    .dataframe tbody tr th:only-of-type {\n",
       "        vertical-align: middle;\n",
       "    }\n",
       "\n",
       "    .dataframe tbody tr th {\n",
       "        vertical-align: top;\n",
       "    }\n",
       "\n",
       "    .dataframe thead th {\n",
       "        text-align: right;\n",
       "    }\n",
       "</style>\n",
       "<table border=\"1\" class=\"dataframe\">\n",
       "  <thead>\n",
       "    <tr style=\"text-align: right;\">\n",
       "      <th></th>\n",
       "      <th>accountid</th>\n",
       "      <th>case_number_1_id</th>\n",
       "      <th>case_1_description</th>\n",
       "      <th>case_1_date</th>\n",
       "      <th>case_1_Status</th>\n",
       "      <th>case_1_serialnumber</th>\n",
       "      <th>case_1_webproductname__c</th>\n",
       "      <th>length_case_1_description</th>\n",
       "      <th>case_number_2_id</th>\n",
       "      <th>case_2_description</th>\n",
       "      <th>...</th>\n",
       "      <th>case_2_serialnumber</th>\n",
       "      <th>case_2_webproductname__c</th>\n",
       "      <th>length_case_2_description</th>\n",
       "      <th>case_1_timestamp</th>\n",
       "      <th>case_2_timestamp</th>\n",
       "      <th>distance</th>\n",
       "      <th>case_1_serialnumber_extract</th>\n",
       "      <th>case_2_serialnumber_extract</th>\n",
       "      <th>case_1_serialnumber_extract_check</th>\n",
       "      <th>case_2_serialnumber_extract_check</th>\n",
       "    </tr>\n",
       "  </thead>\n",
       "  <tbody>\n",
       "  </tbody>\n",
       "</table>\n",
       "<p>0 rows × 22 columns</p>\n",
       "</div>"
      ],
      "text/plain": [
       "Empty DataFrame\n",
       "Columns: [accountid, case_number_1_id, case_1_description, case_1_date, case_1_Status, case_1_serialnumber, case_1_webproductname__c, length_case_1_description, case_number_2_id, case_2_description, case_2_date, case_2_Status, case_2_serialnumber, case_2_webproductname__c, length_case_2_description, case_1_timestamp, case_2_timestamp, distance, case_1_serialnumber_extract, case_2_serialnumber_extract, case_1_serialnumber_extract_check, case_2_serialnumber_extract_check]\n",
       "Index: []\n",
       "\n",
       "[0 rows x 22 columns]"
      ]
     },
     "execution_count": 401,
     "metadata": {},
     "output_type": "execute_result"
    }
   ],
   "source": [
    "full_duplicate_ser_prod_check[full_duplicate_ser_prod_check.case_number_1_id==6980598]"
   ]
  },
  {
   "cell_type": "code",
   "execution_count": 402,
   "metadata": {},
   "outputs": [
    {
     "data": {
      "text/plain": [
       "(9646, 22)"
      ]
     },
     "execution_count": 402,
     "metadata": {},
     "output_type": "execute_result"
    }
   ],
   "source": [
    "full_duplicate_ser_prod_check.shape"
   ]
  },
  {
   "cell_type": "code",
   "execution_count": 404,
   "metadata": {},
   "outputs": [
    {
     "data": {
      "text/plain": [
       "(11728, 22)"
      ]
     },
     "execution_count": 404,
     "metadata": {},
     "output_type": "execute_result"
    }
   ],
   "source": [
    "full_duplicate_ser_prod.shape"
   ]
  },
  {
   "cell_type": "code",
   "execution_count": 366,
   "metadata": {},
   "outputs": [
    {
     "data": {
      "text/html": [
       "<div>\n",
       "<style scoped>\n",
       "    .dataframe tbody tr th:only-of-type {\n",
       "        vertical-align: middle;\n",
       "    }\n",
       "\n",
       "    .dataframe tbody tr th {\n",
       "        vertical-align: top;\n",
       "    }\n",
       "\n",
       "    .dataframe thead th {\n",
       "        text-align: right;\n",
       "    }\n",
       "</style>\n",
       "<table border=\"1\" class=\"dataframe\">\n",
       "  <thead>\n",
       "    <tr style=\"text-align: right;\">\n",
       "      <th></th>\n",
       "      <th>accountid</th>\n",
       "      <th>case_number_1_id</th>\n",
       "      <th>case_1_description</th>\n",
       "      <th>case_1_date</th>\n",
       "      <th>case_1_Status</th>\n",
       "      <th>case_1_serialnumber</th>\n",
       "      <th>case_1_webproductname__c</th>\n",
       "      <th>length_case_1_description</th>\n",
       "      <th>case_number_2_id</th>\n",
       "      <th>case_2_description</th>\n",
       "      <th>...</th>\n",
       "      <th>case_2_serialnumber</th>\n",
       "      <th>case_2_webproductname__c</th>\n",
       "      <th>length_case_2_description</th>\n",
       "      <th>case_1_timestamp</th>\n",
       "      <th>case_2_timestamp</th>\n",
       "      <th>distance</th>\n",
       "      <th>case_1_serialnumber_extract</th>\n",
       "      <th>case_2_serialnumber_extract</th>\n",
       "      <th>case_1_serialnumber_extract_check</th>\n",
       "      <th>case_2_serialnumber_extract_check</th>\n",
       "    </tr>\n",
       "  </thead>\n",
       "  <tbody>\n",
       "  </tbody>\n",
       "</table>\n",
       "<p>0 rows × 22 columns</p>\n",
       "</div>"
      ],
      "text/plain": [
       "Empty DataFrame\n",
       "Columns: [accountid, case_number_1_id, case_1_description, case_1_date, case_1_Status, case_1_serialnumber, case_1_webproductname__c, length_case_1_description, case_number_2_id, case_2_description, case_2_date, case_2_Status, case_2_serialnumber, case_2_webproductname__c, length_case_2_description, case_1_timestamp, case_2_timestamp, distance, case_1_serialnumber_extract, case_2_serialnumber_extract, case_1_serialnumber_extract_check, case_2_serialnumber_extract_check]\n",
       "Index: []\n",
       "\n",
       "[0 rows x 22 columns]"
      ]
     },
     "execution_count": 366,
     "metadata": {},
     "output_type": "execute_result"
    }
   ],
   "source": [
    "full_duplicate_ser_prod_check[full_duplicate_ser_prod_check.case_number_1_id==7638554]"
   ]
  },
  {
   "cell_type": "code",
   "execution_count": 367,
   "metadata": {},
   "outputs": [],
   "source": [
    "Search_for_These_values = ['mailer-daemon','Delivery has failed','mx.google.com','rejected your message to the following email addresses','The email account that you tried to reach does not exist'] \n",
    "pattern = '|'.join(Search_for_These_values)\n",
    "full_duplicate_ser_prod_check_remove_mail_error = full_duplicate_ser_prod_check.loc[~((full_duplicate_ser_prod_check['case_1_description'].str.contains(pattern, case=False)) | (full_duplicate_ser_prod_check['case_2_description'].str.contains(pattern, case=False)))]\n"
   ]
  },
  {
   "cell_type": "code",
   "execution_count": 368,
   "metadata": {},
   "outputs": [
    {
     "data": {
      "text/plain": [
       "(11728, 22)"
      ]
     },
     "execution_count": 368,
     "metadata": {},
     "output_type": "execute_result"
    }
   ],
   "source": [
    "full_duplicate_ser_prod.shape"
   ]
  },
  {
   "cell_type": "code",
   "execution_count": 369,
   "metadata": {},
   "outputs": [
    {
     "data": {
      "text/plain": [
       "(10944, 22)"
      ]
     },
     "execution_count": 369,
     "metadata": {},
     "output_type": "execute_result"
    }
   ],
   "source": [
    "full_duplicate_ser_prod_check.shape"
   ]
  },
  {
   "cell_type": "code",
   "execution_count": 370,
   "metadata": {},
   "outputs": [
    {
     "data": {
      "text/plain": [
       "(10943, 22)"
      ]
     },
     "execution_count": 370,
     "metadata": {},
     "output_type": "execute_result"
    }
   ],
   "source": [
    "full_duplicate_ser_prod_check_remove_mail_error.shape"
   ]
  },
  {
   "cell_type": "code",
   "execution_count": 371,
   "metadata": {},
   "outputs": [
    {
     "data": {
      "text/html": [
       "<div>\n",
       "<style scoped>\n",
       "    .dataframe tbody tr th:only-of-type {\n",
       "        vertical-align: middle;\n",
       "    }\n",
       "\n",
       "    .dataframe tbody tr th {\n",
       "        vertical-align: top;\n",
       "    }\n",
       "\n",
       "    .dataframe thead th {\n",
       "        text-align: right;\n",
       "    }\n",
       "</style>\n",
       "<table border=\"1\" class=\"dataframe\">\n",
       "  <thead>\n",
       "    <tr style=\"text-align: right;\">\n",
       "      <th></th>\n",
       "      <th>accountid</th>\n",
       "      <th>case_number_1_id</th>\n",
       "      <th>case_1_description</th>\n",
       "      <th>case_1_date</th>\n",
       "      <th>case_1_Status</th>\n",
       "      <th>case_1_serialnumber</th>\n",
       "      <th>case_1_webproductname__c</th>\n",
       "      <th>length_case_1_description</th>\n",
       "      <th>case_number_2_id</th>\n",
       "      <th>case_2_description</th>\n",
       "      <th>...</th>\n",
       "      <th>case_2_serialnumber</th>\n",
       "      <th>case_2_webproductname__c</th>\n",
       "      <th>length_case_2_description</th>\n",
       "      <th>case_1_timestamp</th>\n",
       "      <th>case_2_timestamp</th>\n",
       "      <th>distance</th>\n",
       "      <th>case_1_serialnumber_extract</th>\n",
       "      <th>case_2_serialnumber_extract</th>\n",
       "      <th>case_1_serialnumber_extract_check</th>\n",
       "      <th>case_2_serialnumber_extract_check</th>\n",
       "    </tr>\n",
       "  </thead>\n",
       "  <tbody>\n",
       "    <tr>\n",
       "      <th>0</th>\n",
       "      <td>0015A0000225nxbQAA</td>\n",
       "      <td>6890525</td>\n",
       "      <td>Hello, my name is Steven Godleski. I received ...</td>\n",
       "      <td>2018-05-17 16:39:44</td>\n",
       "      <td>Solved</td>\n",
       "      <td>1810lz0ecfq9</td>\n",
       "      <td>G502 Proteus Spectrum RGB Tunable Gaming Mouse</td>\n",
       "      <td>606</td>\n",
       "      <td>6890562</td>\n",
       "      <td>Hello, my name is Steven Godleski. I received ...</td>\n",
       "      <td>...</td>\n",
       "      <td>1810lz0ecfq9</td>\n",
       "      <td>G502 Proteus Spectrum RGB Tunable Gaming Mouse</td>\n",
       "      <td>606</td>\n",
       "      <td>2018-05-17 16:39:44</td>\n",
       "      <td>2018-05-17 16:48:11</td>\n",
       "      <td>5.245900e-02</td>\n",
       "      <td>NaN</td>\n",
       "      <td>NaN</td>\n",
       "      <td>NaN</td>\n",
       "      <td>1810lz0ecfq9</td>\n",
       "    </tr>\n",
       "    <tr>\n",
       "      <th>1</th>\n",
       "      <td>0015A000021TgIYQA0</td>\n",
       "      <td>6890842</td>\n",
       "      <td>It will not charge  i have 3 speakers  and nev...</td>\n",
       "      <td>2018-05-17 18:00:10</td>\n",
       "      <td>Closed Duplicate</td>\n",
       "      <td>NaN</td>\n",
       "      <td>Logitech UE Boombox</td>\n",
       "      <td>60</td>\n",
       "      <td>6890887</td>\n",
       "      <td>It will not charge  i have 3 speakers  and nev...</td>\n",
       "      <td>...</td>\n",
       "      <td>NaN</td>\n",
       "      <td>Logitech UE Boombox</td>\n",
       "      <td>60</td>\n",
       "      <td>2018-05-17 18:00:10</td>\n",
       "      <td>2018-05-17 18:10:40</td>\n",
       "      <td>5.960464e-07</td>\n",
       "      <td>NaN</td>\n",
       "      <td>NaN</td>\n",
       "      <td>NaN</td>\n",
       "      <td>NaN</td>\n",
       "    </tr>\n",
       "    <tr>\n",
       "      <th>2</th>\n",
       "      <td>0015A0000225pKHQAY</td>\n",
       "      <td>6891365</td>\n",
       "      <td>My left click button and the one of the side b...</td>\n",
       "      <td>2018-05-17 20:21:36</td>\n",
       "      <td>Solved</td>\n",
       "      <td>1637LZ0ECLZ8</td>\n",
       "      <td>G303 Daedalus Apex Performance Edition Gaming ...</td>\n",
       "      <td>263</td>\n",
       "      <td>6891412</td>\n",
       "      <td>My left click button and the one of the side b...</td>\n",
       "      <td>...</td>\n",
       "      <td>1637LZ0ECLZ8</td>\n",
       "      <td>G303 Daedalus Apex Performance Edition Gaming ...</td>\n",
       "      <td>263</td>\n",
       "      <td>2018-05-17 20:21:36</td>\n",
       "      <td>2018-05-17 20:32:01</td>\n",
       "      <td>0.000000e+00</td>\n",
       "      <td>NaN</td>\n",
       "      <td>NaN</td>\n",
       "      <td>NaN</td>\n",
       "      <td>1637LZ0ECLZ8</td>\n",
       "    </tr>\n",
       "    <tr>\n",
       "      <th>3</th>\n",
       "      <td>0015A0000225pBoQAI</td>\n",
       "      <td>6891288</td>\n",
       "      <td>Neither the keyboard nor the mouser respond on...</td>\n",
       "      <td>2018-05-17 20:00:28</td>\n",
       "      <td>Solved</td>\n",
       "      <td>097855065476</td>\n",
       "      <td>Desktop MK120</td>\n",
       "      <td>192</td>\n",
       "      <td>6891337</td>\n",
       "      <td>Neither the keyboard nor the mouser respond on...</td>\n",
       "      <td>...</td>\n",
       "      <td>097855065476</td>\n",
       "      <td>Desktop MK120</td>\n",
       "      <td>192</td>\n",
       "      <td>2018-05-17 20:00:28</td>\n",
       "      <td>2018-05-17 20:12:06</td>\n",
       "      <td>1.744491e-02</td>\n",
       "      <td>NaN</td>\n",
       "      <td>NaN</td>\n",
       "      <td>NaN</td>\n",
       "      <td>097855065476</td>\n",
       "    </tr>\n",
       "    <tr>\n",
       "      <th>4</th>\n",
       "      <td>0015A000021TIL7QAO</td>\n",
       "      <td>7012166</td>\n",
       "      <td>Sent with [ProtonMail](https://protonmail.com)...</td>\n",
       "      <td>2018-06-22 16:05:26</td>\n",
       "      <td>Solved</td>\n",
       "      <td>NaN</td>\n",
       "      <td>Jaybird RUN</td>\n",
       "      <td>940</td>\n",
       "      <td>7012217</td>\n",
       "      <td>Sent with [ProtonMail](https://protonmail.com)...</td>\n",
       "      <td>...</td>\n",
       "      <td>NaN</td>\n",
       "      <td>Jaybird RUN</td>\n",
       "      <td>1302</td>\n",
       "      <td>2018-06-22 16:05:26</td>\n",
       "      <td>2018-06-22 16:16:13</td>\n",
       "      <td>5.960464e-07</td>\n",
       "      <td>NaN</td>\n",
       "      <td>NaN</td>\n",
       "      <td>NaN</td>\n",
       "      <td>NaN</td>\n",
       "    </tr>\n",
       "  </tbody>\n",
       "</table>\n",
       "<p>5 rows × 22 columns</p>\n",
       "</div>"
      ],
      "text/plain": [
       "            accountid  case_number_1_id  \\\n",
       "0  0015A0000225nxbQAA           6890525   \n",
       "1  0015A000021TgIYQA0           6890842   \n",
       "2  0015A0000225pKHQAY           6891365   \n",
       "3  0015A0000225pBoQAI           6891288   \n",
       "4  0015A000021TIL7QAO           7012166   \n",
       "\n",
       "                                  case_1_description          case_1_date  \\\n",
       "0  Hello, my name is Steven Godleski. I received ...  2018-05-17 16:39:44   \n",
       "1  It will not charge  i have 3 speakers  and nev...  2018-05-17 18:00:10   \n",
       "2  My left click button and the one of the side b...  2018-05-17 20:21:36   \n",
       "3  Neither the keyboard nor the mouser respond on...  2018-05-17 20:00:28   \n",
       "4  Sent with [ProtonMail](https://protonmail.com)...  2018-06-22 16:05:26   \n",
       "\n",
       "      case_1_Status case_1_serialnumber  \\\n",
       "0            Solved        1810lz0ecfq9   \n",
       "1  Closed Duplicate                 NaN   \n",
       "2            Solved        1637LZ0ECLZ8   \n",
       "3            Solved        097855065476   \n",
       "4            Solved                 NaN   \n",
       "\n",
       "                            case_1_webproductname__c  \\\n",
       "0     G502 Proteus Spectrum RGB Tunable Gaming Mouse   \n",
       "1                                Logitech UE Boombox   \n",
       "2  G303 Daedalus Apex Performance Edition Gaming ...   \n",
       "3                                      Desktop MK120   \n",
       "4                                        Jaybird RUN   \n",
       "\n",
       "   length_case_1_description  case_number_2_id  \\\n",
       "0                        606           6890562   \n",
       "1                         60           6890887   \n",
       "2                        263           6891412   \n",
       "3                        192           6891337   \n",
       "4                        940           7012217   \n",
       "\n",
       "                                  case_2_description  \\\n",
       "0  Hello, my name is Steven Godleski. I received ...   \n",
       "1  It will not charge  i have 3 speakers  and nev...   \n",
       "2  My left click button and the one of the side b...   \n",
       "3  Neither the keyboard nor the mouser respond on...   \n",
       "4  Sent with [ProtonMail](https://protonmail.com)...   \n",
       "\n",
       "                 ...                case_2_serialnumber  \\\n",
       "0                ...                       1810lz0ecfq9   \n",
       "1                ...                                NaN   \n",
       "2                ...                       1637LZ0ECLZ8   \n",
       "3                ...                       097855065476   \n",
       "4                ...                                NaN   \n",
       "\n",
       "                            case_2_webproductname__c  \\\n",
       "0     G502 Proteus Spectrum RGB Tunable Gaming Mouse   \n",
       "1                                Logitech UE Boombox   \n",
       "2  G303 Daedalus Apex Performance Edition Gaming ...   \n",
       "3                                      Desktop MK120   \n",
       "4                                        Jaybird RUN   \n",
       "\n",
       "  length_case_2_description    case_1_timestamp    case_2_timestamp  \\\n",
       "0                       606 2018-05-17 16:39:44 2018-05-17 16:48:11   \n",
       "1                        60 2018-05-17 18:00:10 2018-05-17 18:10:40   \n",
       "2                       263 2018-05-17 20:21:36 2018-05-17 20:32:01   \n",
       "3                       192 2018-05-17 20:00:28 2018-05-17 20:12:06   \n",
       "4                      1302 2018-06-22 16:05:26 2018-06-22 16:16:13   \n",
       "\n",
       "       distance case_1_serialnumber_extract  case_2_serialnumber_extract  \\\n",
       "0  5.245900e-02                         NaN                          NaN   \n",
       "1  5.960464e-07                         NaN                          NaN   \n",
       "2  0.000000e+00                         NaN                          NaN   \n",
       "3  1.744491e-02                         NaN                          NaN   \n",
       "4  5.960464e-07                         NaN                          NaN   \n",
       "\n",
       "  case_1_serialnumber_extract_check case_2_serialnumber_extract_check  \n",
       "0                               NaN                      1810lz0ecfq9  \n",
       "1                               NaN                               NaN  \n",
       "2                               NaN                      1637LZ0ECLZ8  \n",
       "3                               NaN                      097855065476  \n",
       "4                               NaN                               NaN  \n",
       "\n",
       "[5 rows x 22 columns]"
      ]
     },
     "execution_count": 371,
     "metadata": {},
     "output_type": "execute_result"
    }
   ],
   "source": [
    "full_duplicate_ser_prod_check_remove_mail_error.head()"
   ]
  },
  {
   "cell_type": "code",
   "execution_count": 219,
   "metadata": {},
   "outputs": [
    {
     "data": {
      "text/plain": [
       "Index(['level_0', 'index', 'accountid', 'case_number_1_id',\n",
       "       'case_1_description', 'case_1_date', 'case_1_Status',\n",
       "       'case_1_serialnumber', 'case_1_webproductname__c',\n",
       "       'length_case_1_description', 'case_number_2_id', 'case_2_description',\n",
       "       'case_2_date', 'case_2_Status', 'case_2_serialnumber',\n",
       "       'case_2_webproductname__c', 'length_case_2_description', 'distance',\n",
       "       'case_1_timestamp', 'case_2_timestamp', 'case_1_first', 'case_merge',\n",
       "       'case_1_serialnumber_extract', 'case_2_serialnumber_extract',\n",
       "       'case_1_serialnumber_extract_check',\n",
       "       'case_2_serialnumber_extract_check'],\n",
       "      dtype='object')"
      ]
     },
     "execution_count": 219,
     "metadata": {},
     "output_type": "execute_result"
    }
   ],
   "source": [
    "full_duplicate_ser_prod_check.columns"
   ]
  },
  {
   "cell_type": "code",
   "execution_count": 156,
   "metadata": {},
   "outputs": [],
   "source": []
  },
  {
   "cell_type": "code",
   "execution_count": 405,
   "metadata": {},
   "outputs": [],
   "source": [
    "full_duplicate_ser_prod_check['t1'] = pd.to_datetime(full_duplicate_ser_prod_check['case_1_timestamp'])\n",
    "full_duplicate_ser_prod_check['t2'] = pd.to_datetime(full_duplicate_ser_prod_check['case_2_timestamp'])"
   ]
  },
  {
   "cell_type": "code",
   "execution_count": 406,
   "metadata": {},
   "outputs": [],
   "source": [
    "full_duplicate_ser_prod_check['Seconds_Difference'] = (full_duplicate_ser_prod_check.t2-full_duplicate_ser_prod_check.t1).astype('timedelta64[s]')\n"
   ]
  },
  {
   "cell_type": "code",
   "execution_count": 407,
   "metadata": {},
   "outputs": [],
   "source": [
    "import numpy as np\n",
    "full_duplicate_ser_prod_check['Seconds_Difference'] = np.abs(full_duplicate_ser_prod_check['Seconds_Difference'])"
   ]
  },
  {
   "cell_type": "code",
   "execution_count": 408,
   "metadata": {},
   "outputs": [
    {
     "data": {
      "text/plain": [
       "(9646, 25)"
      ]
     },
     "execution_count": 408,
     "metadata": {},
     "output_type": "execute_result"
    }
   ],
   "source": [
    "full_duplicate_ser_prod_check.shape"
   ]
  },
  {
   "cell_type": "code",
   "execution_count": 409,
   "metadata": {
    "scrolled": true
   },
   "outputs": [
    {
     "data": {
      "text/html": [
       "<div>\n",
       "<style scoped>\n",
       "    .dataframe tbody tr th:only-of-type {\n",
       "        vertical-align: middle;\n",
       "    }\n",
       "\n",
       "    .dataframe tbody tr th {\n",
       "        vertical-align: top;\n",
       "    }\n",
       "\n",
       "    .dataframe thead th {\n",
       "        text-align: right;\n",
       "    }\n",
       "</style>\n",
       "<table border=\"1\" class=\"dataframe\">\n",
       "  <thead>\n",
       "    <tr style=\"text-align: right;\">\n",
       "      <th></th>\n",
       "      <th>accountid</th>\n",
       "      <th>case_number_1_id</th>\n",
       "      <th>case_1_description</th>\n",
       "      <th>case_1_date</th>\n",
       "      <th>case_1_Status</th>\n",
       "      <th>case_1_serialnumber</th>\n",
       "      <th>case_1_webproductname__c</th>\n",
       "      <th>length_case_1_description</th>\n",
       "      <th>case_number_2_id</th>\n",
       "      <th>case_2_description</th>\n",
       "      <th>...</th>\n",
       "      <th>case_1_timestamp</th>\n",
       "      <th>case_2_timestamp</th>\n",
       "      <th>distance</th>\n",
       "      <th>case_1_serialnumber_extract</th>\n",
       "      <th>case_2_serialnumber_extract</th>\n",
       "      <th>case_1_serialnumber_extract_check</th>\n",
       "      <th>case_2_serialnumber_extract_check</th>\n",
       "      <th>t1</th>\n",
       "      <th>t2</th>\n",
       "      <th>Seconds_Difference</th>\n",
       "    </tr>\n",
       "  </thead>\n",
       "  <tbody>\n",
       "    <tr>\n",
       "      <th>0</th>\n",
       "      <td>0015A0000225nxbQAA</td>\n",
       "      <td>6890525</td>\n",
       "      <td>Hello, my name is Steven Godleski. I received ...</td>\n",
       "      <td>2018-05-17 16:39:44</td>\n",
       "      <td>Solved</td>\n",
       "      <td>1810lz0ecfq9</td>\n",
       "      <td>G502 Proteus Spectrum RGB Tunable Gaming Mouse</td>\n",
       "      <td>606</td>\n",
       "      <td>6890562</td>\n",
       "      <td>Hello, my name is Steven Godleski. I received ...</td>\n",
       "      <td>...</td>\n",
       "      <td>2018-05-17 16:39:44</td>\n",
       "      <td>2018-05-17 16:48:11</td>\n",
       "      <td>5.245900e-02</td>\n",
       "      <td>NaN</td>\n",
       "      <td>NaN</td>\n",
       "      <td>1810lz0ecfq9</td>\n",
       "      <td>1810lz0ecfq9</td>\n",
       "      <td>2018-05-17 16:39:44</td>\n",
       "      <td>2018-05-17 16:48:11</td>\n",
       "      <td>507.0</td>\n",
       "    </tr>\n",
       "    <tr>\n",
       "      <th>1</th>\n",
       "      <td>0015A000021TgIYQA0</td>\n",
       "      <td>6890842</td>\n",
       "      <td>It will not charge  i have 3 speakers  and nev...</td>\n",
       "      <td>2018-05-17 18:00:10</td>\n",
       "      <td>Closed Duplicate</td>\n",
       "      <td>NaN</td>\n",
       "      <td>Logitech UE Boombox</td>\n",
       "      <td>60</td>\n",
       "      <td>6890887</td>\n",
       "      <td>It will not charge  i have 3 speakers  and nev...</td>\n",
       "      <td>...</td>\n",
       "      <td>2018-05-17 18:00:10</td>\n",
       "      <td>2018-05-17 18:10:40</td>\n",
       "      <td>5.960464e-07</td>\n",
       "      <td>NaN</td>\n",
       "      <td>NaN</td>\n",
       "      <td>NaN</td>\n",
       "      <td>NaN</td>\n",
       "      <td>2018-05-17 18:00:10</td>\n",
       "      <td>2018-05-17 18:10:40</td>\n",
       "      <td>630.0</td>\n",
       "    </tr>\n",
       "    <tr>\n",
       "      <th>2</th>\n",
       "      <td>0015A0000225pKHQAY</td>\n",
       "      <td>6891365</td>\n",
       "      <td>My left click button and the one of the side b...</td>\n",
       "      <td>2018-05-17 20:21:36</td>\n",
       "      <td>Solved</td>\n",
       "      <td>1637LZ0ECLZ8</td>\n",
       "      <td>G303 Daedalus Apex Performance Edition Gaming ...</td>\n",
       "      <td>263</td>\n",
       "      <td>6891412</td>\n",
       "      <td>My left click button and the one of the side b...</td>\n",
       "      <td>...</td>\n",
       "      <td>2018-05-17 20:21:36</td>\n",
       "      <td>2018-05-17 20:32:01</td>\n",
       "      <td>0.000000e+00</td>\n",
       "      <td>NaN</td>\n",
       "      <td>NaN</td>\n",
       "      <td>1637LZ0ECLZ8</td>\n",
       "      <td>1637LZ0ECLZ8</td>\n",
       "      <td>2018-05-17 20:21:36</td>\n",
       "      <td>2018-05-17 20:32:01</td>\n",
       "      <td>625.0</td>\n",
       "    </tr>\n",
       "    <tr>\n",
       "      <th>3</th>\n",
       "      <td>0015A0000225pBoQAI</td>\n",
       "      <td>6891288</td>\n",
       "      <td>Neither the keyboard nor the mouser respond on...</td>\n",
       "      <td>2018-05-17 20:00:28</td>\n",
       "      <td>Solved</td>\n",
       "      <td>097855065476</td>\n",
       "      <td>Desktop MK120</td>\n",
       "      <td>192</td>\n",
       "      <td>6891337</td>\n",
       "      <td>Neither the keyboard nor the mouser respond on...</td>\n",
       "      <td>...</td>\n",
       "      <td>2018-05-17 20:00:28</td>\n",
       "      <td>2018-05-17 20:12:06</td>\n",
       "      <td>1.744491e-02</td>\n",
       "      <td>NaN</td>\n",
       "      <td>NaN</td>\n",
       "      <td>097855065476</td>\n",
       "      <td>097855065476</td>\n",
       "      <td>2018-05-17 20:00:28</td>\n",
       "      <td>2018-05-17 20:12:06</td>\n",
       "      <td>698.0</td>\n",
       "    </tr>\n",
       "    <tr>\n",
       "      <th>4</th>\n",
       "      <td>0015A000021TIL7QAO</td>\n",
       "      <td>7012166</td>\n",
       "      <td>Sent with [ProtonMail](https://protonmail.com)...</td>\n",
       "      <td>2018-06-22 16:05:26</td>\n",
       "      <td>Solved</td>\n",
       "      <td>NaN</td>\n",
       "      <td>Jaybird RUN</td>\n",
       "      <td>940</td>\n",
       "      <td>7012217</td>\n",
       "      <td>Sent with [ProtonMail](https://protonmail.com)...</td>\n",
       "      <td>...</td>\n",
       "      <td>2018-06-22 16:05:26</td>\n",
       "      <td>2018-06-22 16:16:13</td>\n",
       "      <td>5.960464e-07</td>\n",
       "      <td>NaN</td>\n",
       "      <td>NaN</td>\n",
       "      <td>NaN</td>\n",
       "      <td>NaN</td>\n",
       "      <td>2018-06-22 16:05:26</td>\n",
       "      <td>2018-06-22 16:16:13</td>\n",
       "      <td>647.0</td>\n",
       "    </tr>\n",
       "    <tr>\n",
       "      <th>5</th>\n",
       "      <td>0015A0000225p6UQAQ</td>\n",
       "      <td>6891237</td>\n",
       "      <td>The left side of the backspace key is not depr...</td>\n",
       "      <td>2018-05-17 19:46:45</td>\n",
       "      <td>Solved</td>\n",
       "      <td>1748CE13B0B9</td>\n",
       "      <td>K780 Multi-Device Wireless Keyboard</td>\n",
       "      <td>74</td>\n",
       "      <td>6891274</td>\n",
       "      <td>The left side of the backspace key is not depr...</td>\n",
       "      <td>...</td>\n",
       "      <td>2018-05-17 19:46:45</td>\n",
       "      <td>2018-05-17 19:57:09</td>\n",
       "      <td>-2.384186e-07</td>\n",
       "      <td>NaN</td>\n",
       "      <td>NaN</td>\n",
       "      <td>1748CE13B0B9</td>\n",
       "      <td>1748CE13B0B9</td>\n",
       "      <td>2018-05-17 19:46:45</td>\n",
       "      <td>2018-05-17 19:57:09</td>\n",
       "      <td>624.0</td>\n",
       "    </tr>\n",
       "    <tr>\n",
       "      <th>6</th>\n",
       "      <td>0015A0000225msWQAQ</td>\n",
       "      <td>6890425</td>\n",
       "      <td>Hello, when I got this mouse a week ago, it wo...</td>\n",
       "      <td>2018-05-17 16:13:28</td>\n",
       "      <td>Solved</td>\n",
       "      <td>1539HS050ZZ8</td>\n",
       "      <td>G600 MMO Gaming Mouse</td>\n",
       "      <td>144</td>\n",
       "      <td>6890508</td>\n",
       "      <td>Hello, when I got this mouse a week ago, it wo...</td>\n",
       "      <td>...</td>\n",
       "      <td>2018-05-17 16:13:28</td>\n",
       "      <td>2018-05-17 16:34:56</td>\n",
       "      <td>1.053488e-02</td>\n",
       "      <td>NaN</td>\n",
       "      <td>NaN</td>\n",
       "      <td>1539HS050ZZ8</td>\n",
       "      <td>1539HS050ZZ8</td>\n",
       "      <td>2018-05-17 16:13:28</td>\n",
       "      <td>2018-05-17 16:34:56</td>\n",
       "      <td>1288.0</td>\n",
       "    </tr>\n",
       "    <tr>\n",
       "      <th>7</th>\n",
       "      <td>0015A0000225pNVQAY</td>\n",
       "      <td>6891399</td>\n",
       "      <td>Is my mouse starting to not work for some reas...</td>\n",
       "      <td>2018-05-17 20:29:38</td>\n",
       "      <td>Solved</td>\n",
       "      <td>1739lz0jkj29</td>\n",
       "      <td>G502 Proteus Spectrum RGB Tunable Gaming Mouse</td>\n",
       "      <td>96</td>\n",
       "      <td>6891406</td>\n",
       "      <td>Is my mouse starting to not work for some reas...</td>\n",
       "      <td>...</td>\n",
       "      <td>2018-05-17 20:29:38</td>\n",
       "      <td>2018-05-17 20:31:16</td>\n",
       "      <td>5.364418e-07</td>\n",
       "      <td>NaN</td>\n",
       "      <td>NaN</td>\n",
       "      <td>1739lz0jkj29</td>\n",
       "      <td>1739lz0jkj29</td>\n",
       "      <td>2018-05-17 20:29:38</td>\n",
       "      <td>2018-05-17 20:31:16</td>\n",
       "      <td>98.0</td>\n",
       "    </tr>\n",
       "    <tr>\n",
       "      <th>8</th>\n",
       "      <td>0015A000021T4aaQAC</td>\n",
       "      <td>6859015</td>\n",
       "      <td>Product serial number: 1416LZ0EP728\\r\\nPurchas...</td>\n",
       "      <td>2018-05-08 19:14:52</td>\n",
       "      <td>Solved</td>\n",
       "      <td>1416LZ0EP728</td>\n",
       "      <td>Performance Mouse MX</td>\n",
       "      <td>321</td>\n",
       "      <td>6870408</td>\n",
       "      <td>Batteries last for about three weeks only. I u...</td>\n",
       "      <td>...</td>\n",
       "      <td>2018-05-08 19:14:52</td>\n",
       "      <td>2018-05-11 17:42:41</td>\n",
       "      <td>2.894044e-02</td>\n",
       "      <td>1416LZ0EP728</td>\n",
       "      <td>NaN</td>\n",
       "      <td>1416LZ0EP728</td>\n",
       "      <td>NaN</td>\n",
       "      <td>2018-05-08 19:14:52</td>\n",
       "      <td>2018-05-11 17:42:41</td>\n",
       "      <td>253669.0</td>\n",
       "    </tr>\n",
       "    <tr>\n",
       "      <th>9</th>\n",
       "      <td>0015A0000225pjvQAA</td>\n",
       "      <td>6891625</td>\n",
       "      <td>After installing the Windows 10 1803 feature u...</td>\n",
       "      <td>2018-05-17 21:37:17</td>\n",
       "      <td>Solved</td>\n",
       "      <td>NaN</td>\n",
       "      <td>G933 Artemis Spectrum Wireless 7.1 Surround Ga...</td>\n",
       "      <td>236</td>\n",
       "      <td>6891642</td>\n",
       "      <td>After installing the Windows 10 1803 feature u...</td>\n",
       "      <td>...</td>\n",
       "      <td>2018-05-17 21:37:17</td>\n",
       "      <td>2018-05-17 21:43:32</td>\n",
       "      <td>1.788139e-07</td>\n",
       "      <td>NaN</td>\n",
       "      <td>NaN</td>\n",
       "      <td>NaN</td>\n",
       "      <td>NaN</td>\n",
       "      <td>2018-05-17 21:37:17</td>\n",
       "      <td>2018-05-17 21:43:32</td>\n",
       "      <td>375.0</td>\n",
       "    </tr>\n",
       "    <tr>\n",
       "      <th>10</th>\n",
       "      <td>0015A000020ayVEQAY</td>\n",
       "      <td>6874849</td>\n",
       "      <td>So I received my second pair of x3 about 3 wee...</td>\n",
       "      <td>2018-05-13 21:40:19</td>\n",
       "      <td>Closed Duplicate</td>\n",
       "      <td>NaN</td>\n",
       "      <td>Jaybird X3</td>\n",
       "      <td>1891</td>\n",
       "      <td>6889503</td>\n",
       "      <td>So I received my second pair of x3 about 3 wee...</td>\n",
       "      <td>...</td>\n",
       "      <td>2018-05-13 21:40:19</td>\n",
       "      <td>2018-05-17 12:01:27</td>\n",
       "      <td>2.864498e-02</td>\n",
       "      <td>NaN</td>\n",
       "      <td>NaN</td>\n",
       "      <td>NaN</td>\n",
       "      <td>NaN</td>\n",
       "      <td>2018-05-13 21:40:19</td>\n",
       "      <td>2018-05-17 12:01:27</td>\n",
       "      <td>310868.0</td>\n",
       "    </tr>\n",
       "    <tr>\n",
       "      <th>11</th>\n",
       "      <td>0015A000021SFEnQAO</td>\n",
       "      <td>6831838</td>\n",
       "      <td>Hey I was just wondering what steps are necess...</td>\n",
       "      <td>2018-05-01 01:31:25</td>\n",
       "      <td>Solved</td>\n",
       "      <td>NaN</td>\n",
       "      <td>Jaybird X3</td>\n",
       "      <td>270</td>\n",
       "      <td>6833109</td>\n",
       "      <td>: Hey I was just wondering what steps are nece...</td>\n",
       "      <td>...</td>\n",
       "      <td>2018-05-01 01:31:25</td>\n",
       "      <td>2018-05-01 13:28:50</td>\n",
       "      <td>0.000000e+00</td>\n",
       "      <td>NaN</td>\n",
       "      <td>NaN</td>\n",
       "      <td>NaN</td>\n",
       "      <td>NaN</td>\n",
       "      <td>2018-05-01 01:31:25</td>\n",
       "      <td>2018-05-01 13:28:50</td>\n",
       "      <td>43045.0</td>\n",
       "    </tr>\n",
       "    <tr>\n",
       "      <th>12</th>\n",
       "      <td>0015A000021SaOLQA0</td>\n",
       "      <td>6843094</td>\n",
       "      <td>The keyboard failed to connect both of my lapt...</td>\n",
       "      <td>2018-05-03 23:22:44</td>\n",
       "      <td>Closed Duplicate</td>\n",
       "      <td>NaN</td>\n",
       "      <td>Pro Mechanical Gaming Keyboard</td>\n",
       "      <td>244</td>\n",
       "      <td>6885480</td>\n",
       "      <td>Product serial number: 1727MR07C6B8\\r\\nPurchas...</td>\n",
       "      <td>...</td>\n",
       "      <td>2018-05-03 23:22:44</td>\n",
       "      <td>2018-05-16 12:42:15</td>\n",
       "      <td>2.213931e-02</td>\n",
       "      <td>NaN</td>\n",
       "      <td>1727MR07C6B8</td>\n",
       "      <td>NaN</td>\n",
       "      <td>1727MR07C6B8</td>\n",
       "      <td>2018-05-03 23:22:44</td>\n",
       "      <td>2018-05-16 12:42:15</td>\n",
       "      <td>1084771.0</td>\n",
       "    </tr>\n",
       "    <tr>\n",
       "      <th>13</th>\n",
       "      <td>0015A000021TJqEQAW</td>\n",
       "      <td>6878024</td>\n",
       "      <td>Product serial number: V-UAR33, p/n 631783-040...</td>\n",
       "      <td>2018-05-14 17:13:00</td>\n",
       "      <td>Closed Duplicate</td>\n",
       "      <td>V-UAR33, p/n 631783-0403</td>\n",
       "      <td>QuickCam Fusion</td>\n",
       "      <td>221</td>\n",
       "      <td>6907272</td>\n",
       "      <td>Product serial number: p/n 531783-0403, Rev. 3...</td>\n",
       "      <td>...</td>\n",
       "      <td>2018-05-14 17:13:00</td>\n",
       "      <td>2018-05-22 20:36:56</td>\n",
       "      <td>2.037629e-01</td>\n",
       "      <td>NaN</td>\n",
       "      <td>NaN</td>\n",
       "      <td>V-UAR33, p/n 631783-0403</td>\n",
       "      <td>V-UAR33, p/n 631783-0403</td>\n",
       "      <td>2018-05-14 17:13:00</td>\n",
       "      <td>2018-05-22 20:36:56</td>\n",
       "      <td>703436.0</td>\n",
       "    </tr>\n",
       "    <tr>\n",
       "      <th>14</th>\n",
       "      <td>0015A000021TJqEQAW</td>\n",
       "      <td>6867475</td>\n",
       "      <td>Product serial number: 631783-0403  Rev: 305\\r...</td>\n",
       "      <td>2018-05-10 21:36:34</td>\n",
       "      <td>Solved</td>\n",
       "      <td>V-UAR33, p/n 631783-0403</td>\n",
       "      <td>QuickCam Fusion</td>\n",
       "      <td>312</td>\n",
       "      <td>6907272</td>\n",
       "      <td>Product serial number: p/n 531783-0403, Rev. 3...</td>\n",
       "      <td>...</td>\n",
       "      <td>2018-05-10 21:36:34</td>\n",
       "      <td>2018-05-22 20:36:56</td>\n",
       "      <td>1.573627e-01</td>\n",
       "      <td>NaN</td>\n",
       "      <td>NaN</td>\n",
       "      <td>V-UAR33, p/n 631783-0403</td>\n",
       "      <td>V-UAR33, p/n 631783-0403</td>\n",
       "      <td>2018-05-10 21:36:34</td>\n",
       "      <td>2018-05-22 20:36:56</td>\n",
       "      <td>1033222.0</td>\n",
       "    </tr>\n",
       "    <tr>\n",
       "      <th>30</th>\n",
       "      <td>0015A0000225iRfQAI</td>\n",
       "      <td>6887742</td>\n",
       "      <td>Mic is not working properly</td>\n",
       "      <td>2018-05-16 23:34:59</td>\n",
       "      <td>Solved</td>\n",
       "      <td>1744MH030TY9</td>\n",
       "      <td>G633 Artemis Spectrum RGB 7.1 Surround Gaming ...</td>\n",
       "      <td>27</td>\n",
       "      <td>6887745</td>\n",
       "      <td>Product serial number: 1744MH030TY9\\nPurchase ...</td>\n",
       "      <td>...</td>\n",
       "      <td>2018-05-16 23:34:59</td>\n",
       "      <td>2018-05-16 23:35:46</td>\n",
       "      <td>3.252596e-02</td>\n",
       "      <td>NaN</td>\n",
       "      <td>1744MH030TY9</td>\n",
       "      <td>1744MH030TY9</td>\n",
       "      <td>1744MH030TY9</td>\n",
       "      <td>2018-05-16 23:34:59</td>\n",
       "      <td>2018-05-16 23:35:46</td>\n",
       "      <td>47.0</td>\n",
       "    </tr>\n",
       "    <tr>\n",
       "      <th>31</th>\n",
       "      <td>0015A000020a7WPQAY</td>\n",
       "      <td>6812781</td>\n",
       "      <td>Hello!! I recently purchased this mechanical k...</td>\n",
       "      <td>2018-04-25 00:18:32</td>\n",
       "      <td>Solved</td>\n",
       "      <td>1546MR0A8479</td>\n",
       "      <td>G810 Orion Spectrum RGB Mechanical Gaming Keyb...</td>\n",
       "      <td>640</td>\n",
       "      <td>6825840</td>\n",
       "      <td>Product serial number: 1546MR0A8479\\r\\nPurchas...</td>\n",
       "      <td>...</td>\n",
       "      <td>2018-04-25 00:18:32</td>\n",
       "      <td>2018-04-29 02:56:09</td>\n",
       "      <td>9.497148e-02</td>\n",
       "      <td>NaN</td>\n",
       "      <td>1546MR0A8479</td>\n",
       "      <td>1546MR0A8479</td>\n",
       "      <td>1546MR0A8479</td>\n",
       "      <td>2018-04-25 00:18:32</td>\n",
       "      <td>2018-04-29 02:56:09</td>\n",
       "      <td>355057.0</td>\n",
       "    </tr>\n",
       "    <tr>\n",
       "      <th>32</th>\n",
       "      <td>0015A000020a7WPQAY</td>\n",
       "      <td>6812781</td>\n",
       "      <td>Hello!! I recently purchased this mechanical k...</td>\n",
       "      <td>2018-04-25 00:18:32</td>\n",
       "      <td>Solved</td>\n",
       "      <td>1546MR0A8479</td>\n",
       "      <td>G810 Orion Spectrum RGB Mechanical Gaming Keyb...</td>\n",
       "      <td>640</td>\n",
       "      <td>6812841</td>\n",
       "      <td>Purchase Date: 4/15/2018\\nHello!! I recently p...</td>\n",
       "      <td>...</td>\n",
       "      <td>2018-04-25 00:18:32</td>\n",
       "      <td>2018-04-25 00:47:16</td>\n",
       "      <td>5.104136e-02</td>\n",
       "      <td>NaN</td>\n",
       "      <td>NaN</td>\n",
       "      <td>1546MR0A8479</td>\n",
       "      <td>1546MR0A8479</td>\n",
       "      <td>2018-04-25 00:18:32</td>\n",
       "      <td>2018-04-25 00:47:16</td>\n",
       "      <td>1724.0</td>\n",
       "    </tr>\n",
       "    <tr>\n",
       "      <th>33</th>\n",
       "      <td>0015A000020YiN3QAK</td>\n",
       "      <td>6663830</td>\n",
       "      <td>connection is intermittent/laggy</td>\n",
       "      <td>2018-03-14 17:22:12</td>\n",
       "      <td>Solved</td>\n",
       "      <td>1803LZ01K7N8</td>\n",
       "      <td>Wireless Solar Keyboard &amp; Marathon Mouse Combo...</td>\n",
       "      <td>32</td>\n",
       "      <td>6663884</td>\n",
       "      <td>connection is intermittent/laggy</td>\n",
       "      <td>...</td>\n",
       "      <td>2018-03-14 17:22:12</td>\n",
       "      <td>2018-03-14 17:33:38</td>\n",
       "      <td>-5.960464e-07</td>\n",
       "      <td>NaN</td>\n",
       "      <td>NaN</td>\n",
       "      <td>1803LZ01K7N8</td>\n",
       "      <td>1803LZ01K7N8</td>\n",
       "      <td>2018-03-14 17:22:12</td>\n",
       "      <td>2018-03-14 17:33:38</td>\n",
       "      <td>686.0</td>\n",
       "    </tr>\n",
       "    <tr>\n",
       "      <th>34</th>\n",
       "      <td>0015A000021ToYmQAK</td>\n",
       "      <td>6883077</td>\n",
       "      <td>Brought 4 brand new MK710 Keyboard and Mouse s...</td>\n",
       "      <td>2018-05-15 20:25:46</td>\n",
       "      <td>Closed Duplicate</td>\n",
       "      <td>1803SC701279</td>\n",
       "      <td>M705 Marathon Mouse</td>\n",
       "      <td>235</td>\n",
       "      <td>6883189</td>\n",
       "      <td>Brought 4 brand new MK710 Keyboard and Mouse s...</td>\n",
       "      <td>...</td>\n",
       "      <td>2018-05-15 20:25:46</td>\n",
       "      <td>2018-05-15 20:52:52</td>\n",
       "      <td>2.384186e-07</td>\n",
       "      <td>NaN</td>\n",
       "      <td>NaN</td>\n",
       "      <td>1803SC701279</td>\n",
       "      <td>1803SC701279</td>\n",
       "      <td>2018-05-15 20:25:46</td>\n",
       "      <td>2018-05-15 20:52:52</td>\n",
       "      <td>1626.0</td>\n",
       "    </tr>\n",
       "    <tr>\n",
       "      <th>35</th>\n",
       "      <td>0015A000021ToYmQAK</td>\n",
       "      <td>6883027</td>\n",
       "      <td>Brought 4 brand new MK710 Keyboard and Mouse s...</td>\n",
       "      <td>2018-05-15 20:11:46</td>\n",
       "      <td>Solved</td>\n",
       "      <td>1803SC701279</td>\n",
       "      <td>M705 Marathon Mouse</td>\n",
       "      <td>235</td>\n",
       "      <td>6883077</td>\n",
       "      <td>Brought 4 brand new MK710 Keyboard and Mouse s...</td>\n",
       "      <td>...</td>\n",
       "      <td>2018-05-15 20:11:46</td>\n",
       "      <td>2018-05-15 20:25:46</td>\n",
       "      <td>2.384186e-07</td>\n",
       "      <td>NaN</td>\n",
       "      <td>NaN</td>\n",
       "      <td>1803SC701279</td>\n",
       "      <td>1803SC701279</td>\n",
       "      <td>2018-05-15 20:11:46</td>\n",
       "      <td>2018-05-15 20:25:46</td>\n",
       "      <td>840.0</td>\n",
       "    </tr>\n",
       "    <tr>\n",
       "      <th>36</th>\n",
       "      <td>0015A000020Y0TuQAK</td>\n",
       "      <td>6832545</td>\n",
       "      <td>Product serial number: 1621LZ011C68\\r\\nPurchas...</td>\n",
       "      <td>2018-05-01 08:21:49</td>\n",
       "      <td>Solved</td>\n",
       "      <td>1621LZ011C68</td>\n",
       "      <td>G402 Hyperion Fury Ultra-Fast FPS Gaming Mouse</td>\n",
       "      <td>132</td>\n",
       "      <td>6858338</td>\n",
       "      <td>Product serial number: 1621LZ011C68\\r\\nPurchas...</td>\n",
       "      <td>...</td>\n",
       "      <td>2018-05-01 08:21:49</td>\n",
       "      <td>2018-05-08 16:19:44</td>\n",
       "      <td>3.975630e-02</td>\n",
       "      <td>1621LZ011C68</td>\n",
       "      <td>1621LZ011C68</td>\n",
       "      <td>1621LZ011C68</td>\n",
       "      <td>1621LZ011C68</td>\n",
       "      <td>2018-05-01 08:21:49</td>\n",
       "      <td>2018-05-08 16:19:44</td>\n",
       "      <td>633475.0</td>\n",
       "    </tr>\n",
       "    <tr>\n",
       "      <th>37</th>\n",
       "      <td>0013100001k9UFKAA2</td>\n",
       "      <td>6884105</td>\n",
       "      <td>Product serial number: 1704LZ04LS69\\r\\nPurchas...</td>\n",
       "      <td>2018-05-16 02:05:52</td>\n",
       "      <td>Solved</td>\n",
       "      <td>1704LZ04LS69</td>\n",
       "      <td>UE MEGABOOM</td>\n",
       "      <td>182</td>\n",
       "      <td>6887635</td>\n",
       "      <td>device issue and wont work at all after rep ha...</td>\n",
       "      <td>...</td>\n",
       "      <td>2018-05-16 02:05:52</td>\n",
       "      <td>2018-05-16 22:51:20</td>\n",
       "      <td>2.516004e-01</td>\n",
       "      <td>1704LZ04LS69</td>\n",
       "      <td>NaN</td>\n",
       "      <td>1704LZ04LS69</td>\n",
       "      <td>1704LZ04LS69</td>\n",
       "      <td>2018-05-16 02:05:52</td>\n",
       "      <td>2018-05-16 22:51:20</td>\n",
       "      <td>74728.0</td>\n",
       "    </tr>\n",
       "    <tr>\n",
       "      <th>38</th>\n",
       "      <td>0015A000021S2n2QAC</td>\n",
       "      <td>6825504</td>\n",
       "      <td>Right earbuds had no audio, but controls work ...</td>\n",
       "      <td>2018-04-28 21:42:36</td>\n",
       "      <td>Closed Duplicate</td>\n",
       "      <td>NaN</td>\n",
       "      <td>Jaybird RUN</td>\n",
       "      <td>370</td>\n",
       "      <td>6841693</td>\n",
       "      <td>See email case [06825504]. My right bud has st...</td>\n",
       "      <td>...</td>\n",
       "      <td>2018-04-28 21:42:36</td>\n",
       "      <td>2018-05-03 16:26:10</td>\n",
       "      <td>8.666456e-02</td>\n",
       "      <td>NaN</td>\n",
       "      <td>NaN</td>\n",
       "      <td>NaN</td>\n",
       "      <td>NaN</td>\n",
       "      <td>2018-04-28 21:42:36</td>\n",
       "      <td>2018-05-03 16:26:10</td>\n",
       "      <td>413014.0</td>\n",
       "    </tr>\n",
       "    <tr>\n",
       "      <th>39</th>\n",
       "      <td>0015A000020cg7gQAA</td>\n",
       "      <td>6611041</td>\n",
       "      <td>My jaybird stop working after I run today. I t...</td>\n",
       "      <td>2018-03-01 10:29:46</td>\n",
       "      <td>Solved</td>\n",
       "      <td>NaN</td>\n",
       "      <td>Jaybird X2</td>\n",
       "      <td>149</td>\n",
       "      <td>6829171</td>\n",
       "      <td>My jaybird stop working after I run today. I t...</td>\n",
       "      <td>...</td>\n",
       "      <td>2018-03-01 10:29:46</td>\n",
       "      <td>2018-04-30 13:42:22</td>\n",
       "      <td>8.192056e-02</td>\n",
       "      <td>NaN</td>\n",
       "      <td>NaN</td>\n",
       "      <td>NaN</td>\n",
       "      <td>NaN</td>\n",
       "      <td>2018-03-01 10:29:46</td>\n",
       "      <td>2018-04-30 13:42:22</td>\n",
       "      <td>5195556.0</td>\n",
       "    </tr>\n",
       "    <tr>\n",
       "      <th>40</th>\n",
       "      <td>0015A000020cg7gQAA</td>\n",
       "      <td>6611041</td>\n",
       "      <td>My jaybird stop working after I run today. I t...</td>\n",
       "      <td>2018-03-01 10:29:46</td>\n",
       "      <td>Solved</td>\n",
       "      <td>NaN</td>\n",
       "      <td>Jaybird X2</td>\n",
       "      <td>149</td>\n",
       "      <td>6675466</td>\n",
       "      <td>My jaybird stop working after I run today. I t...</td>\n",
       "      <td>...</td>\n",
       "      <td>2018-03-01 10:29:46</td>\n",
       "      <td>2018-03-17 19:44:14</td>\n",
       "      <td>6.398886e-02</td>\n",
       "      <td>NaN</td>\n",
       "      <td>NaN</td>\n",
       "      <td>NaN</td>\n",
       "      <td>NaN</td>\n",
       "      <td>2018-03-01 10:29:46</td>\n",
       "      <td>2018-03-17 19:44:14</td>\n",
       "      <td>1415668.0</td>\n",
       "    </tr>\n",
       "    <tr>\n",
       "      <th>41</th>\n",
       "      <td>0015A000021T6J2QAK</td>\n",
       "      <td>6859968</td>\n",
       "      <td>I have a problem with my jaybird x3's. The ear...</td>\n",
       "      <td>2018-05-09 00:31:33</td>\n",
       "      <td>Solved</td>\n",
       "      <td>NaN</td>\n",
       "      <td>Jaybird X3</td>\n",
       "      <td>975</td>\n",
       "      <td>6864071</td>\n",
       "      <td>I have a problem with my jaybird x3's. The ear...</td>\n",
       "      <td>...</td>\n",
       "      <td>2018-05-09 00:31:33</td>\n",
       "      <td>2018-05-10 01:50:49</td>\n",
       "      <td>2.724957e-02</td>\n",
       "      <td>NaN</td>\n",
       "      <td>NaN</td>\n",
       "      <td>NaN</td>\n",
       "      <td>NaN</td>\n",
       "      <td>2018-05-09 00:31:33</td>\n",
       "      <td>2018-05-10 01:50:49</td>\n",
       "      <td>91156.0</td>\n",
       "    </tr>\n",
       "    <tr>\n",
       "      <th>42</th>\n",
       "      <td>0015A000021TV7GQAW</td>\n",
       "      <td>6877543</td>\n",
       "      <td>Product serial number: 1625ML004TZ8\\r\\nPurchas...</td>\n",
       "      <td>2018-05-14 15:30:51</td>\n",
       "      <td>Solved</td>\n",
       "      <td>1625ML004TZ8</td>\n",
       "      <td>G633 Artemis Spectrum RGB 7.1 Surround Gaming ...</td>\n",
       "      <td>308</td>\n",
       "      <td>6881826</td>\n",
       "      <td>Product serial number: 1625ML004TZ8\\nOperating...</td>\n",
       "      <td>...</td>\n",
       "      <td>2018-05-14 15:30:51</td>\n",
       "      <td>2018-05-15 14:58:13</td>\n",
       "      <td>8.660203e-02</td>\n",
       "      <td>1625ML004TZ8</td>\n",
       "      <td>1625ML004TZ8</td>\n",
       "      <td>1625ML004TZ8</td>\n",
       "      <td>1625ML004TZ8</td>\n",
       "      <td>2018-05-14 15:30:51</td>\n",
       "      <td>2018-05-15 14:58:13</td>\n",
       "      <td>84442.0</td>\n",
       "    </tr>\n",
       "    <tr>\n",
       "      <th>43</th>\n",
       "      <td>0015A00001tW7GTQA0</td>\n",
       "      <td>6807997</td>\n",
       "      <td>Product serial number: 1733SCN05BZ8\\nPurchase ...</td>\n",
       "      <td>2018-04-23 21:42:12</td>\n",
       "      <td>Solved</td>\n",
       "      <td>1733SCN05BZ8</td>\n",
       "      <td>G613 Wireless Mechanical Gaming Keyboard</td>\n",
       "      <td>461</td>\n",
       "      <td>6808074</td>\n",
       "      <td>hi. I have had a lot of disconnect issues with...</td>\n",
       "      <td>...</td>\n",
       "      <td>2018-04-23 21:42:12</td>\n",
       "      <td>2018-04-23 22:02:26</td>\n",
       "      <td>2.250206e-02</td>\n",
       "      <td>1733SCN05BZ8</td>\n",
       "      <td>NaN</td>\n",
       "      <td>1733SCN05BZ8</td>\n",
       "      <td>1733SCN05BZ8</td>\n",
       "      <td>2018-04-23 21:42:12</td>\n",
       "      <td>2018-04-23 22:02:26</td>\n",
       "      <td>1214.0</td>\n",
       "    </tr>\n",
       "    <tr>\n",
       "      <th>44</th>\n",
       "      <td>0015A00001tW7GTQA0</td>\n",
       "      <td>6807997</td>\n",
       "      <td>Product serial number: 1733SCN05BZ8\\nPurchase ...</td>\n",
       "      <td>2018-04-23 21:42:12</td>\n",
       "      <td>Solved</td>\n",
       "      <td>1733SCN05BZ8</td>\n",
       "      <td>G613 Wireless Mechanical Gaming Keyboard</td>\n",
       "      <td>461</td>\n",
       "      <td>6808188</td>\n",
       "      <td>hi. I have had a lot of disconnect issues with...</td>\n",
       "      <td>...</td>\n",
       "      <td>2018-04-23 21:42:12</td>\n",
       "      <td>2018-04-23 22:41:37</td>\n",
       "      <td>1.901424e-02</td>\n",
       "      <td>1733SCN05BZ8</td>\n",
       "      <td>NaN</td>\n",
       "      <td>1733SCN05BZ8</td>\n",
       "      <td>1733SCN05BZ8</td>\n",
       "      <td>2018-04-23 21:42:12</td>\n",
       "      <td>2018-04-23 22:41:37</td>\n",
       "      <td>3565.0</td>\n",
       "    </tr>\n",
       "  </tbody>\n",
       "</table>\n",
       "<p>30 rows × 25 columns</p>\n",
       "</div>"
      ],
      "text/plain": [
       "             accountid  case_number_1_id  \\\n",
       "0   0015A0000225nxbQAA           6890525   \n",
       "1   0015A000021TgIYQA0           6890842   \n",
       "2   0015A0000225pKHQAY           6891365   \n",
       "3   0015A0000225pBoQAI           6891288   \n",
       "4   0015A000021TIL7QAO           7012166   \n",
       "5   0015A0000225p6UQAQ           6891237   \n",
       "6   0015A0000225msWQAQ           6890425   \n",
       "7   0015A0000225pNVQAY           6891399   \n",
       "8   0015A000021T4aaQAC           6859015   \n",
       "9   0015A0000225pjvQAA           6891625   \n",
       "10  0015A000020ayVEQAY           6874849   \n",
       "11  0015A000021SFEnQAO           6831838   \n",
       "12  0015A000021SaOLQA0           6843094   \n",
       "13  0015A000021TJqEQAW           6878024   \n",
       "14  0015A000021TJqEQAW           6867475   \n",
       "30  0015A0000225iRfQAI           6887742   \n",
       "31  0015A000020a7WPQAY           6812781   \n",
       "32  0015A000020a7WPQAY           6812781   \n",
       "33  0015A000020YiN3QAK           6663830   \n",
       "34  0015A000021ToYmQAK           6883077   \n",
       "35  0015A000021ToYmQAK           6883027   \n",
       "36  0015A000020Y0TuQAK           6832545   \n",
       "37  0013100001k9UFKAA2           6884105   \n",
       "38  0015A000021S2n2QAC           6825504   \n",
       "39  0015A000020cg7gQAA           6611041   \n",
       "40  0015A000020cg7gQAA           6611041   \n",
       "41  0015A000021T6J2QAK           6859968   \n",
       "42  0015A000021TV7GQAW           6877543   \n",
       "43  0015A00001tW7GTQA0           6807997   \n",
       "44  0015A00001tW7GTQA0           6807997   \n",
       "\n",
       "                                   case_1_description          case_1_date  \\\n",
       "0   Hello, my name is Steven Godleski. I received ...  2018-05-17 16:39:44   \n",
       "1   It will not charge  i have 3 speakers  and nev...  2018-05-17 18:00:10   \n",
       "2   My left click button and the one of the side b...  2018-05-17 20:21:36   \n",
       "3   Neither the keyboard nor the mouser respond on...  2018-05-17 20:00:28   \n",
       "4   Sent with [ProtonMail](https://protonmail.com)...  2018-06-22 16:05:26   \n",
       "5   The left side of the backspace key is not depr...  2018-05-17 19:46:45   \n",
       "6   Hello, when I got this mouse a week ago, it wo...  2018-05-17 16:13:28   \n",
       "7   Is my mouse starting to not work for some reas...  2018-05-17 20:29:38   \n",
       "8   Product serial number: 1416LZ0EP728\\r\\nPurchas...  2018-05-08 19:14:52   \n",
       "9   After installing the Windows 10 1803 feature u...  2018-05-17 21:37:17   \n",
       "10  So I received my second pair of x3 about 3 wee...  2018-05-13 21:40:19   \n",
       "11  Hey I was just wondering what steps are necess...  2018-05-01 01:31:25   \n",
       "12  The keyboard failed to connect both of my lapt...  2018-05-03 23:22:44   \n",
       "13  Product serial number: V-UAR33, p/n 631783-040...  2018-05-14 17:13:00   \n",
       "14  Product serial number: 631783-0403  Rev: 305\\r...  2018-05-10 21:36:34   \n",
       "30                        Mic is not working properly  2018-05-16 23:34:59   \n",
       "31  Hello!! I recently purchased this mechanical k...  2018-04-25 00:18:32   \n",
       "32  Hello!! I recently purchased this mechanical k...  2018-04-25 00:18:32   \n",
       "33                   connection is intermittent/laggy  2018-03-14 17:22:12   \n",
       "34  Brought 4 brand new MK710 Keyboard and Mouse s...  2018-05-15 20:25:46   \n",
       "35  Brought 4 brand new MK710 Keyboard and Mouse s...  2018-05-15 20:11:46   \n",
       "36  Product serial number: 1621LZ011C68\\r\\nPurchas...  2018-05-01 08:21:49   \n",
       "37  Product serial number: 1704LZ04LS69\\r\\nPurchas...  2018-05-16 02:05:52   \n",
       "38  Right earbuds had no audio, but controls work ...  2018-04-28 21:42:36   \n",
       "39  My jaybird stop working after I run today. I t...  2018-03-01 10:29:46   \n",
       "40  My jaybird stop working after I run today. I t...  2018-03-01 10:29:46   \n",
       "41  I have a problem with my jaybird x3's. The ear...  2018-05-09 00:31:33   \n",
       "42  Product serial number: 1625ML004TZ8\\r\\nPurchas...  2018-05-14 15:30:51   \n",
       "43  Product serial number: 1733SCN05BZ8\\nPurchase ...  2018-04-23 21:42:12   \n",
       "44  Product serial number: 1733SCN05BZ8\\nPurchase ...  2018-04-23 21:42:12   \n",
       "\n",
       "       case_1_Status       case_1_serialnumber  \\\n",
       "0             Solved              1810lz0ecfq9   \n",
       "1   Closed Duplicate                       NaN   \n",
       "2             Solved              1637LZ0ECLZ8   \n",
       "3             Solved              097855065476   \n",
       "4             Solved                       NaN   \n",
       "5             Solved              1748CE13B0B9   \n",
       "6             Solved              1539HS050ZZ8   \n",
       "7             Solved              1739lz0jkj29   \n",
       "8             Solved              1416LZ0EP728   \n",
       "9             Solved                       NaN   \n",
       "10  Closed Duplicate                       NaN   \n",
       "11            Solved                       NaN   \n",
       "12  Closed Duplicate                       NaN   \n",
       "13  Closed Duplicate  V-UAR33, p/n 631783-0403   \n",
       "14            Solved  V-UAR33, p/n 631783-0403   \n",
       "30            Solved              1744MH030TY9   \n",
       "31            Solved              1546MR0A8479   \n",
       "32            Solved              1546MR0A8479   \n",
       "33            Solved              1803LZ01K7N8   \n",
       "34  Closed Duplicate              1803SC701279   \n",
       "35            Solved              1803SC701279   \n",
       "36            Solved              1621LZ011C68   \n",
       "37            Solved              1704LZ04LS69   \n",
       "38  Closed Duplicate                       NaN   \n",
       "39            Solved                       NaN   \n",
       "40            Solved                       NaN   \n",
       "41            Solved                       NaN   \n",
       "42            Solved              1625ML004TZ8   \n",
       "43            Solved              1733SCN05BZ8   \n",
       "44            Solved              1733SCN05BZ8   \n",
       "\n",
       "                             case_1_webproductname__c  \\\n",
       "0      G502 Proteus Spectrum RGB Tunable Gaming Mouse   \n",
       "1                                 Logitech UE Boombox   \n",
       "2   G303 Daedalus Apex Performance Edition Gaming ...   \n",
       "3                                       Desktop MK120   \n",
       "4                                         Jaybird RUN   \n",
       "5                 K780 Multi-Device Wireless Keyboard   \n",
       "6                               G600 MMO Gaming Mouse   \n",
       "7      G502 Proteus Spectrum RGB Tunable Gaming Mouse   \n",
       "8                                Performance Mouse MX   \n",
       "9   G933 Artemis Spectrum Wireless 7.1 Surround Ga...   \n",
       "10                                         Jaybird X3   \n",
       "11                                         Jaybird X3   \n",
       "12                     Pro Mechanical Gaming Keyboard   \n",
       "13                                    QuickCam Fusion   \n",
       "14                                    QuickCam Fusion   \n",
       "30  G633 Artemis Spectrum RGB 7.1 Surround Gaming ...   \n",
       "31  G810 Orion Spectrum RGB Mechanical Gaming Keyb...   \n",
       "32  G810 Orion Spectrum RGB Mechanical Gaming Keyb...   \n",
       "33  Wireless Solar Keyboard & Marathon Mouse Combo...   \n",
       "34                                M705 Marathon Mouse   \n",
       "35                                M705 Marathon Mouse   \n",
       "36     G402 Hyperion Fury Ultra-Fast FPS Gaming Mouse   \n",
       "37                                        UE MEGABOOM   \n",
       "38                                        Jaybird RUN   \n",
       "39                                         Jaybird X2   \n",
       "40                                         Jaybird X2   \n",
       "41                                         Jaybird X3   \n",
       "42  G633 Artemis Spectrum RGB 7.1 Surround Gaming ...   \n",
       "43           G613 Wireless Mechanical Gaming Keyboard   \n",
       "44           G613 Wireless Mechanical Gaming Keyboard   \n",
       "\n",
       "    length_case_1_description  case_number_2_id  \\\n",
       "0                         606           6890562   \n",
       "1                          60           6890887   \n",
       "2                         263           6891412   \n",
       "3                         192           6891337   \n",
       "4                         940           7012217   \n",
       "5                          74           6891274   \n",
       "6                         144           6890508   \n",
       "7                          96           6891406   \n",
       "8                         321           6870408   \n",
       "9                         236           6891642   \n",
       "10                       1891           6889503   \n",
       "11                        270           6833109   \n",
       "12                        244           6885480   \n",
       "13                        221           6907272   \n",
       "14                        312           6907272   \n",
       "30                         27           6887745   \n",
       "31                        640           6825840   \n",
       "32                        640           6812841   \n",
       "33                         32           6663884   \n",
       "34                        235           6883189   \n",
       "35                        235           6883077   \n",
       "36                        132           6858338   \n",
       "37                        182           6887635   \n",
       "38                        370           6841693   \n",
       "39                        149           6829171   \n",
       "40                        149           6675466   \n",
       "41                        975           6864071   \n",
       "42                        308           6881826   \n",
       "43                        461           6808074   \n",
       "44                        461           6808188   \n",
       "\n",
       "                                   case_2_description        ...          \\\n",
       "0   Hello, my name is Steven Godleski. I received ...        ...           \n",
       "1   It will not charge  i have 3 speakers  and nev...        ...           \n",
       "2   My left click button and the one of the side b...        ...           \n",
       "3   Neither the keyboard nor the mouser respond on...        ...           \n",
       "4   Sent with [ProtonMail](https://protonmail.com)...        ...           \n",
       "5   The left side of the backspace key is not depr...        ...           \n",
       "6   Hello, when I got this mouse a week ago, it wo...        ...           \n",
       "7   Is my mouse starting to not work for some reas...        ...           \n",
       "8   Batteries last for about three weeks only. I u...        ...           \n",
       "9   After installing the Windows 10 1803 feature u...        ...           \n",
       "10  So I received my second pair of x3 about 3 wee...        ...           \n",
       "11  : Hey I was just wondering what steps are nece...        ...           \n",
       "12  Product serial number: 1727MR07C6B8\\r\\nPurchas...        ...           \n",
       "13  Product serial number: p/n 531783-0403, Rev. 3...        ...           \n",
       "14  Product serial number: p/n 531783-0403, Rev. 3...        ...           \n",
       "30  Product serial number: 1744MH030TY9\\nPurchase ...        ...           \n",
       "31  Product serial number: 1546MR0A8479\\r\\nPurchas...        ...           \n",
       "32  Purchase Date: 4/15/2018\\nHello!! I recently p...        ...           \n",
       "33                   connection is intermittent/laggy        ...           \n",
       "34  Brought 4 brand new MK710 Keyboard and Mouse s...        ...           \n",
       "35  Brought 4 brand new MK710 Keyboard and Mouse s...        ...           \n",
       "36  Product serial number: 1621LZ011C68\\r\\nPurchas...        ...           \n",
       "37  device issue and wont work at all after rep ha...        ...           \n",
       "38  See email case [06825504]. My right bud has st...        ...           \n",
       "39  My jaybird stop working after I run today. I t...        ...           \n",
       "40  My jaybird stop working after I run today. I t...        ...           \n",
       "41  I have a problem with my jaybird x3's. The ear...        ...           \n",
       "42  Product serial number: 1625ML004TZ8\\nOperating...        ...           \n",
       "43  hi. I have had a lot of disconnect issues with...        ...           \n",
       "44  hi. I have had a lot of disconnect issues with...        ...           \n",
       "\n",
       "      case_1_timestamp    case_2_timestamp      distance  \\\n",
       "0  2018-05-17 16:39:44 2018-05-17 16:48:11  5.245900e-02   \n",
       "1  2018-05-17 18:00:10 2018-05-17 18:10:40  5.960464e-07   \n",
       "2  2018-05-17 20:21:36 2018-05-17 20:32:01  0.000000e+00   \n",
       "3  2018-05-17 20:00:28 2018-05-17 20:12:06  1.744491e-02   \n",
       "4  2018-06-22 16:05:26 2018-06-22 16:16:13  5.960464e-07   \n",
       "5  2018-05-17 19:46:45 2018-05-17 19:57:09 -2.384186e-07   \n",
       "6  2018-05-17 16:13:28 2018-05-17 16:34:56  1.053488e-02   \n",
       "7  2018-05-17 20:29:38 2018-05-17 20:31:16  5.364418e-07   \n",
       "8  2018-05-08 19:14:52 2018-05-11 17:42:41  2.894044e-02   \n",
       "9  2018-05-17 21:37:17 2018-05-17 21:43:32  1.788139e-07   \n",
       "10 2018-05-13 21:40:19 2018-05-17 12:01:27  2.864498e-02   \n",
       "11 2018-05-01 01:31:25 2018-05-01 13:28:50  0.000000e+00   \n",
       "12 2018-05-03 23:22:44 2018-05-16 12:42:15  2.213931e-02   \n",
       "13 2018-05-14 17:13:00 2018-05-22 20:36:56  2.037629e-01   \n",
       "14 2018-05-10 21:36:34 2018-05-22 20:36:56  1.573627e-01   \n",
       "30 2018-05-16 23:34:59 2018-05-16 23:35:46  3.252596e-02   \n",
       "31 2018-04-25 00:18:32 2018-04-29 02:56:09  9.497148e-02   \n",
       "32 2018-04-25 00:18:32 2018-04-25 00:47:16  5.104136e-02   \n",
       "33 2018-03-14 17:22:12 2018-03-14 17:33:38 -5.960464e-07   \n",
       "34 2018-05-15 20:25:46 2018-05-15 20:52:52  2.384186e-07   \n",
       "35 2018-05-15 20:11:46 2018-05-15 20:25:46  2.384186e-07   \n",
       "36 2018-05-01 08:21:49 2018-05-08 16:19:44  3.975630e-02   \n",
       "37 2018-05-16 02:05:52 2018-05-16 22:51:20  2.516004e-01   \n",
       "38 2018-04-28 21:42:36 2018-05-03 16:26:10  8.666456e-02   \n",
       "39 2018-03-01 10:29:46 2018-04-30 13:42:22  8.192056e-02   \n",
       "40 2018-03-01 10:29:46 2018-03-17 19:44:14  6.398886e-02   \n",
       "41 2018-05-09 00:31:33 2018-05-10 01:50:49  2.724957e-02   \n",
       "42 2018-05-14 15:30:51 2018-05-15 14:58:13  8.660203e-02   \n",
       "43 2018-04-23 21:42:12 2018-04-23 22:02:26  2.250206e-02   \n",
       "44 2018-04-23 21:42:12 2018-04-23 22:41:37  1.901424e-02   \n",
       "\n",
       "   case_1_serialnumber_extract  case_2_serialnumber_extract  \\\n",
       "0                          NaN                          NaN   \n",
       "1                          NaN                          NaN   \n",
       "2                          NaN                          NaN   \n",
       "3                          NaN                          NaN   \n",
       "4                          NaN                          NaN   \n",
       "5                          NaN                          NaN   \n",
       "6                          NaN                          NaN   \n",
       "7                          NaN                          NaN   \n",
       "8                 1416LZ0EP728                          NaN   \n",
       "9                          NaN                          NaN   \n",
       "10                         NaN                          NaN   \n",
       "11                         NaN                          NaN   \n",
       "12                         NaN                 1727MR07C6B8   \n",
       "13                         NaN                          NaN   \n",
       "14                         NaN                          NaN   \n",
       "30                         NaN                 1744MH030TY9   \n",
       "31                         NaN                 1546MR0A8479   \n",
       "32                         NaN                          NaN   \n",
       "33                         NaN                          NaN   \n",
       "34                         NaN                          NaN   \n",
       "35                         NaN                          NaN   \n",
       "36                1621LZ011C68                 1621LZ011C68   \n",
       "37                1704LZ04LS69                          NaN   \n",
       "38                         NaN                          NaN   \n",
       "39                         NaN                          NaN   \n",
       "40                         NaN                          NaN   \n",
       "41                         NaN                          NaN   \n",
       "42                1625ML004TZ8                 1625ML004TZ8   \n",
       "43                1733SCN05BZ8                          NaN   \n",
       "44                1733SCN05BZ8                          NaN   \n",
       "\n",
       "   case_1_serialnumber_extract_check case_2_serialnumber_extract_check  \\\n",
       "0                       1810lz0ecfq9                      1810lz0ecfq9   \n",
       "1                                NaN                               NaN   \n",
       "2                       1637LZ0ECLZ8                      1637LZ0ECLZ8   \n",
       "3                       097855065476                      097855065476   \n",
       "4                                NaN                               NaN   \n",
       "5                       1748CE13B0B9                      1748CE13B0B9   \n",
       "6                       1539HS050ZZ8                      1539HS050ZZ8   \n",
       "7                       1739lz0jkj29                      1739lz0jkj29   \n",
       "8                       1416LZ0EP728                               NaN   \n",
       "9                                NaN                               NaN   \n",
       "10                               NaN                               NaN   \n",
       "11                               NaN                               NaN   \n",
       "12                               NaN                      1727MR07C6B8   \n",
       "13          V-UAR33, p/n 631783-0403          V-UAR33, p/n 631783-0403   \n",
       "14          V-UAR33, p/n 631783-0403          V-UAR33, p/n 631783-0403   \n",
       "30                      1744MH030TY9                      1744MH030TY9   \n",
       "31                      1546MR0A8479                      1546MR0A8479   \n",
       "32                      1546MR0A8479                      1546MR0A8479   \n",
       "33                      1803LZ01K7N8                      1803LZ01K7N8   \n",
       "34                      1803SC701279                      1803SC701279   \n",
       "35                      1803SC701279                      1803SC701279   \n",
       "36                      1621LZ011C68                      1621LZ011C68   \n",
       "37                      1704LZ04LS69                      1704LZ04LS69   \n",
       "38                               NaN                               NaN   \n",
       "39                               NaN                               NaN   \n",
       "40                               NaN                               NaN   \n",
       "41                               NaN                               NaN   \n",
       "42                      1625ML004TZ8                      1625ML004TZ8   \n",
       "43                      1733SCN05BZ8                      1733SCN05BZ8   \n",
       "44                      1733SCN05BZ8                      1733SCN05BZ8   \n",
       "\n",
       "                    t1                  t2 Seconds_Difference  \n",
       "0  2018-05-17 16:39:44 2018-05-17 16:48:11              507.0  \n",
       "1  2018-05-17 18:00:10 2018-05-17 18:10:40              630.0  \n",
       "2  2018-05-17 20:21:36 2018-05-17 20:32:01              625.0  \n",
       "3  2018-05-17 20:00:28 2018-05-17 20:12:06              698.0  \n",
       "4  2018-06-22 16:05:26 2018-06-22 16:16:13              647.0  \n",
       "5  2018-05-17 19:46:45 2018-05-17 19:57:09              624.0  \n",
       "6  2018-05-17 16:13:28 2018-05-17 16:34:56             1288.0  \n",
       "7  2018-05-17 20:29:38 2018-05-17 20:31:16               98.0  \n",
       "8  2018-05-08 19:14:52 2018-05-11 17:42:41           253669.0  \n",
       "9  2018-05-17 21:37:17 2018-05-17 21:43:32              375.0  \n",
       "10 2018-05-13 21:40:19 2018-05-17 12:01:27           310868.0  \n",
       "11 2018-05-01 01:31:25 2018-05-01 13:28:50            43045.0  \n",
       "12 2018-05-03 23:22:44 2018-05-16 12:42:15          1084771.0  \n",
       "13 2018-05-14 17:13:00 2018-05-22 20:36:56           703436.0  \n",
       "14 2018-05-10 21:36:34 2018-05-22 20:36:56          1033222.0  \n",
       "30 2018-05-16 23:34:59 2018-05-16 23:35:46               47.0  \n",
       "31 2018-04-25 00:18:32 2018-04-29 02:56:09           355057.0  \n",
       "32 2018-04-25 00:18:32 2018-04-25 00:47:16             1724.0  \n",
       "33 2018-03-14 17:22:12 2018-03-14 17:33:38              686.0  \n",
       "34 2018-05-15 20:25:46 2018-05-15 20:52:52             1626.0  \n",
       "35 2018-05-15 20:11:46 2018-05-15 20:25:46              840.0  \n",
       "36 2018-05-01 08:21:49 2018-05-08 16:19:44           633475.0  \n",
       "37 2018-05-16 02:05:52 2018-05-16 22:51:20            74728.0  \n",
       "38 2018-04-28 21:42:36 2018-05-03 16:26:10           413014.0  \n",
       "39 2018-03-01 10:29:46 2018-04-30 13:42:22          5195556.0  \n",
       "40 2018-03-01 10:29:46 2018-03-17 19:44:14          1415668.0  \n",
       "41 2018-05-09 00:31:33 2018-05-10 01:50:49            91156.0  \n",
       "42 2018-05-14 15:30:51 2018-05-15 14:58:13            84442.0  \n",
       "43 2018-04-23 21:42:12 2018-04-23 22:02:26             1214.0  \n",
       "44 2018-04-23 21:42:12 2018-04-23 22:41:37             3565.0  \n",
       "\n",
       "[30 rows x 25 columns]"
      ]
     },
     "execution_count": 409,
     "metadata": {},
     "output_type": "execute_result"
    }
   ],
   "source": [
    "full_duplicate_ser_prod_check.head(30)"
   ]
  },
  {
   "cell_type": "code",
   "execution_count": 377,
   "metadata": {},
   "outputs": [
    {
     "data": {
      "text/html": [
       "<div>\n",
       "<style scoped>\n",
       "    .dataframe tbody tr th:only-of-type {\n",
       "        vertical-align: middle;\n",
       "    }\n",
       "\n",
       "    .dataframe tbody tr th {\n",
       "        vertical-align: top;\n",
       "    }\n",
       "\n",
       "    .dataframe thead th {\n",
       "        text-align: right;\n",
       "    }\n",
       "</style>\n",
       "<table border=\"1\" class=\"dataframe\">\n",
       "  <thead>\n",
       "    <tr style=\"text-align: right;\">\n",
       "      <th></th>\n",
       "      <th>accountid</th>\n",
       "      <th>case_number_1_id</th>\n",
       "      <th>case_1_description</th>\n",
       "      <th>case_1_date</th>\n",
       "      <th>case_1_Status</th>\n",
       "      <th>case_1_serialnumber</th>\n",
       "      <th>case_1_webproductname__c</th>\n",
       "      <th>length_case_1_description</th>\n",
       "      <th>case_number_2_id</th>\n",
       "      <th>case_2_description</th>\n",
       "      <th>...</th>\n",
       "      <th>case_1_timestamp</th>\n",
       "      <th>case_2_timestamp</th>\n",
       "      <th>distance</th>\n",
       "      <th>case_1_serialnumber_extract</th>\n",
       "      <th>case_2_serialnumber_extract</th>\n",
       "      <th>case_1_serialnumber_extract_check</th>\n",
       "      <th>case_2_serialnumber_extract_check</th>\n",
       "      <th>t1</th>\n",
       "      <th>t2</th>\n",
       "      <th>Seconds_Difference</th>\n",
       "    </tr>\n",
       "  </thead>\n",
       "  <tbody>\n",
       "  </tbody>\n",
       "</table>\n",
       "<p>0 rows × 25 columns</p>\n",
       "</div>"
      ],
      "text/plain": [
       "Empty DataFrame\n",
       "Columns: [accountid, case_number_1_id, case_1_description, case_1_date, case_1_Status, case_1_serialnumber, case_1_webproductname__c, length_case_1_description, case_number_2_id, case_2_description, case_2_date, case_2_Status, case_2_serialnumber, case_2_webproductname__c, length_case_2_description, case_1_timestamp, case_2_timestamp, distance, case_1_serialnumber_extract, case_2_serialnumber_extract, case_1_serialnumber_extract_check, case_2_serialnumber_extract_check, t1, t2, Seconds_Difference]\n",
       "Index: []\n",
       "\n",
       "[0 rows x 25 columns]"
      ]
     },
     "execution_count": 377,
     "metadata": {},
     "output_type": "execute_result"
    }
   ],
   "source": [
    "full_duplicate_ser_prod_check[full_duplicate_ser_prod_check.case_number_1_id==7638554]"
   ]
  },
  {
   "cell_type": "code",
   "execution_count": 308,
   "metadata": {},
   "outputs": [
    {
     "data": {
      "text/plain": [
       "Index(['accountid', 'case_number_1_id', 'case_1_description', 'case_1_date',\n",
       "       'case_1_Status', 'case_1_serialnumber', 'case_1_webproductname__c',\n",
       "       'length_case_1_description', 'case_number_2_id', 'case_2_description',\n",
       "       'case_2_date', 'case_2_Status', 'case_2_serialnumber',\n",
       "       'case_2_webproductname__c', 'length_case_2_description',\n",
       "       'case_1_timestamp', 'case_2_timestamp', 'distance',\n",
       "       'case_1_serialnumber_extract', 'case_2_serialnumber_extract',\n",
       "       'case_1_serialnumber_extract_check',\n",
       "       'case_2_serialnumber_extract_check', 't1', 't2', 'Seconds_Difference'],\n",
       "      dtype='object')"
      ]
     },
     "execution_count": 308,
     "metadata": {},
     "output_type": "execute_result"
    }
   ],
   "source": [
    "full_duplicate_ser_prod_check.columns"
   ]
  },
  {
   "cell_type": "code",
   "execution_count": 183,
   "metadata": {},
   "outputs": [
    {
     "data": {
      "text/plain": [
       "Index(['accountid', 'case_number_1_id', 'case_1_description', 'case_1_date',\n",
       "       'case_1_Status', 'case_1_serialnumber', 'case_1_webproductname__c',\n",
       "       'length_case_1_description', 'case_number_2_id', 'case_2_description',\n",
       "       'case_2_date', 'case_2_Status', 'case_2_serialnumber',\n",
       "       'case_2_webproductname__c', 'length_case_2_description', 'distance',\n",
       "       'case_1_timestamp', 'case_2_timestamp', 'case_1_first', 'case_merge'],\n",
       "      dtype='object')"
      ]
     },
     "execution_count": 183,
     "metadata": {},
     "output_type": "execute_result"
    }
   ],
   "source": [
    "full_duplicate.columns"
   ]
  },
  {
   "cell_type": "code",
   "execution_count": 410,
   "metadata": {},
   "outputs": [],
   "source": [
    "header = cols = ['accountid',\n",
    " 'case_number_1_id',\n",
    " 'case_1_description',\n",
    " 'case_1_date',\n",
    " 'case_1_Status',\n",
    "                \n",
    " 'length_case_1_description',\n",
    " 'case_1_webproductname__c',\n",
    " 'case_1_solution__c',\n",
    " 'case_1_serialnumber', \n",
    " 'case_1_serialnumber_extract',\n",
    " 'case_1_serialnumber_extract_check',\n",
    " 'case_number_2_id',\n",
    " 'case_2_description',\n",
    " 'case_2_date',\n",
    " 'case_2_Status',\n",
    " 'length_case_2_description',\n",
    " 'case_2_webproductname__c',\n",
    " 'case_2_solution__c',\n",
    " 'case_2_serialnumber',\n",
    " 'case_2_serialnumber_extract',\n",
    " 'case_2_serialnumber_extract_check',\n",
    " 'Seconds_Difference',\n",
    " 'distance'\n",
    "]\n",
    "full_duplicate_ser_prod_check.to_csv('full_duplicate_ser_prod_check_2032019_withserial.csv', columns = header,sep=\"|\",\n",
    "                                              index=False)"
   ]
  },
  {
   "cell_type": "code",
   "execution_count": 379,
   "metadata": {},
   "outputs": [
    {
     "data": {
      "text/plain": [
       "(10944, 25)"
      ]
     },
     "execution_count": 379,
     "metadata": {},
     "output_type": "execute_result"
    }
   ],
   "source": [
    "full_duplicate_ser_prod_check.shape"
   ]
  },
  {
   "cell_type": "code",
   "execution_count": null,
   "metadata": {},
   "outputs": [],
   "source": []
  },
  {
   "cell_type": "code",
   "execution_count": null,
   "metadata": {},
   "outputs": [],
   "source": []
  },
  {
   "cell_type": "code",
   "execution_count": null,
   "metadata": {},
   "outputs": [],
   "source": []
  },
  {
   "cell_type": "code",
   "execution_count": null,
   "metadata": {},
   "outputs": [],
   "source": []
  },
  {
   "cell_type": "code",
   "execution_count": null,
   "metadata": {},
   "outputs": [],
   "source": []
  },
  {
   "cell_type": "code",
   "execution_count": null,
   "metadata": {},
   "outputs": [],
   "source": []
  },
  {
   "cell_type": "code",
   "execution_count": null,
   "metadata": {},
   "outputs": [],
   "source": []
  },
  {
   "cell_type": "code",
   "execution_count": null,
   "metadata": {},
   "outputs": [],
   "source": []
  },
  {
   "cell_type": "code",
   "execution_count": 166,
   "metadata": {},
   "outputs": [
    {
     "data": {
      "text/plain": [
       "'1724LZN0C7X8'"
      ]
     },
     "execution_count": 166,
     "metadata": {},
     "output_type": "execute_result"
    }
   ],
   "source": [
    "a = \"\"\"Product serial number: 1724LZN0C7X8\n",
    "Purchase Date: 6/1/2017\n",
    "The keyboard connects but no longer types.\"\"\"\n",
    "check_serial(a)"
   ]
  },
  {
   "cell_type": "code",
   "execution_count": 182,
   "metadata": {},
   "outputs": [
    {
     "data": {
      "text/plain": [
       "Index(['accountid', 'case_number_1_id', 'case_1_description', 'case_1_date',\n",
       "       'case_1_Status', 'length_case_1_description', 'case_number_2_id',\n",
       "       'case_2_description', 'case_2_date', 'case_2_Status',\n",
       "       'length_case_2_description', 'case_1_timestamp', 'case_2_timestamp',\n",
       "       'distance', 't1', 't2', 'Seconds_Difference'],\n",
       "      dtype='object')"
      ]
     },
     "execution_count": 182,
     "metadata": {},
     "output_type": "execute_result"
    }
   ],
   "source": [
    "full_duplicate_ser_prod_check.columns"
   ]
  },
  {
   "cell_type": "code",
   "execution_count": 188,
   "metadata": {},
   "outputs": [
    {
     "data": {
      "text/html": [
       "<div>\n",
       "<style scoped>\n",
       "    .dataframe tbody tr th:only-of-type {\n",
       "        vertical-align: middle;\n",
       "    }\n",
       "\n",
       "    .dataframe tbody tr th {\n",
       "        vertical-align: top;\n",
       "    }\n",
       "\n",
       "    .dataframe thead th {\n",
       "        text-align: right;\n",
       "    }\n",
       "</style>\n",
       "<table border=\"1\" class=\"dataframe\">\n",
       "  <thead>\n",
       "    <tr style=\"text-align: right;\">\n",
       "      <th></th>\n",
       "      <th>accountid</th>\n",
       "      <th>case_number_1_id</th>\n",
       "      <th>case_1_description</th>\n",
       "      <th>case_1_date</th>\n",
       "      <th>case_1_Status</th>\n",
       "      <th>length_case_1_description</th>\n",
       "      <th>case_number_2_id</th>\n",
       "      <th>case_2_description</th>\n",
       "      <th>case_2_date</th>\n",
       "      <th>case_2_Status</th>\n",
       "      <th>length_case_2_description</th>\n",
       "      <th>case_1_timestamp</th>\n",
       "      <th>case_2_timestamp</th>\n",
       "      <th>distance</th>\n",
       "      <th>t1</th>\n",
       "      <th>t2</th>\n",
       "      <th>Seconds_Difference</th>\n",
       "    </tr>\n",
       "  </thead>\n",
       "  <tbody>\n",
       "    <tr>\n",
       "      <th>1641</th>\n",
       "      <td>0013100001rsrUiAAI</td>\n",
       "      <td>7638554</td>\n",
       "      <td>Product serial number: 1724LZN0C7X8\\r\\nPurchas...</td>\n",
       "      <td>2018-11-29 14:03:33</td>\n",
       "      <td>Solved</td>\n",
       "      <td>104</td>\n",
       "      <td>7924549</td>\n",
       "      <td>Product serial number: 1725LZN0EQZ8\\nPurchase ...</td>\n",
       "      <td>2019-02-12 16:22:20</td>\n",
       "      <td>Unresolved</td>\n",
       "      <td>114</td>\n",
       "      <td>2019-02-12 16:22:20</td>\n",
       "      <td>2018-11-29 14:03:33</td>\n",
       "      <td>0.118549</td>\n",
       "      <td>2019-02-12 16:22:20</td>\n",
       "      <td>2018-11-29 14:03:33</td>\n",
       "      <td>6488327.0</td>\n",
       "    </tr>\n",
       "  </tbody>\n",
       "</table>\n",
       "</div>"
      ],
      "text/plain": [
       "               accountid  case_number_1_id  \\\n",
       "1641  0013100001rsrUiAAI           7638554   \n",
       "\n",
       "                                     case_1_description          case_1_date  \\\n",
       "1641  Product serial number: 1724LZN0C7X8\\r\\nPurchas...  2018-11-29 14:03:33   \n",
       "\n",
       "     case_1_Status  length_case_1_description  case_number_2_id  \\\n",
       "1641        Solved                        104           7924549   \n",
       "\n",
       "                                     case_2_description          case_2_date  \\\n",
       "1641  Product serial number: 1725LZN0EQZ8\\nPurchase ...  2019-02-12 16:22:20   \n",
       "\n",
       "     case_2_Status  length_case_2_description    case_1_timestamp  \\\n",
       "1641    Unresolved                        114 2019-02-12 16:22:20   \n",
       "\n",
       "        case_2_timestamp  distance                  t1                  t2  \\\n",
       "1641 2018-11-29 14:03:33  0.118549 2019-02-12 16:22:20 2018-11-29 14:03:33   \n",
       "\n",
       "      Seconds_Difference  \n",
       "1641           6488327.0  "
      ]
     },
     "execution_count": 188,
     "metadata": {},
     "output_type": "execute_result"
    }
   ],
   "source": [
    "full_duplicate_ser_prod_check.loc[full_duplicate_ser_prod_check[\"case_number_1_id\"]==7638554]"
   ]
  },
  {
   "cell_type": "code",
   "execution_count": 173,
   "metadata": {},
   "outputs": [
    {
     "data": {
      "text/plain": [
       "dtype('int64')"
      ]
     },
     "execution_count": 173,
     "metadata": {},
     "output_type": "execute_result"
    }
   ],
   "source": [
    "full_duplicate_ser_prod[\"case_number_1_id\"].dtype"
   ]
  },
  {
   "cell_type": "code",
   "execution_count": 174,
   "metadata": {},
   "outputs": [
    {
     "data": {
      "text/plain": [
       "0        6890525\n",
       "2        6890887\n",
       "4        6891365\n",
       "11       6891288\n",
       "15       7012217\n",
       "17       6891237\n",
       "19       6890425\n",
       "21       6891399\n",
       "23       6859015\n",
       "27       6891625\n",
       "29       6874849\n",
       "31       6831838\n",
       "33       6885480\n",
       "37       6907272\n",
       "38       6907272\n",
       "54       7339568\n",
       "63       6980278\n",
       "65       6980278\n",
       "72       6862650\n",
       "87       6979971\n",
       "113      6980598\n",
       "120      6980558\n",
       "128      6980558\n",
       "133      6979971\n",
       "153      7339558\n",
       "161      6980456\n",
       "190      6980580\n",
       "200      7787119\n",
       "201      6980598\n",
       "206      6980481\n",
       "          ...   \n",
       "32936    7922231\n",
       "32937    7922231\n",
       "32938    7922231\n",
       "32940    7999756\n",
       "32942    8000034\n",
       "32943    8000034\n",
       "32947    7753355\n",
       "32948    7835278\n",
       "32950    7932125\n",
       "32952    7978418\n",
       "32954    7791663\n",
       "32956    7768506\n",
       "32960    7878858\n",
       "32962    7778380\n",
       "32964    7768548\n",
       "32975    8021358\n",
       "32979    8017531\n",
       "32984    7971283\n",
       "32989    8026672\n",
       "32994    8016315\n",
       "32996    8026425\n",
       "32998    7701222\n",
       "33006    7966929\n",
       "33007    7951852\n",
       "33049    7963738\n",
       "33050    8012826\n",
       "33051    8009175\n",
       "33058    8009139\n",
       "33060    7973712\n",
       "33061    7887114\n",
       "Name: case_number_1_id, Length: 11728, dtype: int64"
      ]
     },
     "execution_count": 174,
     "metadata": {},
     "output_type": "execute_result"
    }
   ],
   "source": []
  },
  {
   "cell_type": "code",
   "execution_count": 190,
   "metadata": {},
   "outputs": [
    {
     "data": {
      "text/plain": [
       "0         True\n",
       "2         True\n",
       "4         True\n",
       "6        False\n",
       "8        False\n",
       "9        False\n",
       "11        True\n",
       "13       False\n",
       "15        True\n",
       "17        True\n",
       "19        True\n",
       "21        True\n",
       "23        True\n",
       "25       False\n",
       "27        True\n",
       "29        True\n",
       "31        True\n",
       "33        True\n",
       "35       False\n",
       "37        True\n",
       "38        True\n",
       "39       False\n",
       "40       False\n",
       "41       False\n",
       "42       False\n",
       "43       False\n",
       "44       False\n",
       "45       False\n",
       "46       False\n",
       "47       False\n",
       "         ...  \n",
       "32938     True\n",
       "32940     True\n",
       "32942     True\n",
       "32943     True\n",
       "32947     True\n",
       "32948     True\n",
       "32950     True\n",
       "32952     True\n",
       "32954     True\n",
       "32956     True\n",
       "32960     True\n",
       "32962     True\n",
       "32964     True\n",
       "32972    False\n",
       "32975     True\n",
       "32979     True\n",
       "32984     True\n",
       "32989     True\n",
       "32994     True\n",
       "32996     True\n",
       "32998     True\n",
       "32999    False\n",
       "33006     True\n",
       "33007     True\n",
       "33049     True\n",
       "33050     True\n",
       "33051     True\n",
       "33058     True\n",
       "33060     True\n",
       "33061     True\n",
       "Length: 14411, dtype: bool"
      ]
     },
     "execution_count": 190,
     "metadata": {},
     "output_type": "execute_result"
    }
   ],
   "source": [
    "full_duplicate.apply(lambda x: check(x),axis=1)"
   ]
  },
  {
   "cell_type": "code",
   "execution_count": null,
   "metadata": {},
   "outputs": [],
   "source": []
  }
 ],
 "metadata": {
  "kernelspec": {
   "display_name": "Python 3",
   "language": "python",
   "name": "python3"
  },
  "language_info": {
   "codemirror_mode": {
    "name": "ipython",
    "version": 3
   },
   "file_extension": ".py",
   "mimetype": "text/x-python",
   "name": "python",
   "nbconvert_exporter": "python",
   "pygments_lexer": "ipython3",
   "version": "3.6.4"
  }
 },
 "nbformat": 4,
 "nbformat_minor": 2
}
